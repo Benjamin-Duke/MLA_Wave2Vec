{
 "cells": [
  {
   "cell_type": "code",
   "execution_count": 1,
   "metadata": {},
   "outputs": [],
   "source": [
    "import torch\n",
    "\n",
    "from Modules import LoadingModule\n",
    "from Modules import Features_encoder\n",
    "from Modules import quantizationModule\n",
    "from Modules import wav2vec_transformer\n",
    "from Modules import ContrastiveLoss\n",
    "\n",
    "from Modules import TempLibriSpeech"
   ]
  },
  {
   "cell_type": "code",
   "execution_count": null,
   "metadata": {},
   "outputs": [],
   "source": []
  },
  {
   "cell_type": "code",
   "execution_count": null,
   "metadata": {},
   "outputs": [],
   "source": []
  },
  {
   "cell_type": "code",
   "execution_count": 2,
   "metadata": {},
   "outputs": [
    {
     "data": {
      "text/plain": [
       "'\\n\\n#data loader module init\\nStandardScalerTransform = LoadingModule.StandardScalerTransform\\nLargeDataModule = LoadingModule.LargeDataModule(\"./data/Librispeech\", batch_size=16, num_workers=1, transform=StandardScalerTransform)\\n'"
      ]
     },
     "execution_count": 2,
     "metadata": {},
     "output_type": "execute_result"
    }
   ],
   "source": [
    "\"\"\"\n",
    "\n",
    "#data loader module init\n",
    "StandardScalerTransform = LoadingModule.StandardScalerTransform\n",
    "LargeDataModule = LoadingModule.LargeDataModule(\"./data/Librispeech\", batch_size=16, num_workers=1, transform=StandardScalerTransform)\n",
    "\"\"\""
   ]
  },
  {
   "cell_type": "code",
   "execution_count": 3,
   "metadata": {},
   "outputs": [],
   "source": [
    "#Temp import dataloader ### rendre compatible PLightning quand on aura le GPU\n",
    "# en attendant import manuel\n",
    "from torch.utils.data import DataLoader\n",
    "\n",
    "\n",
    "\n",
    "dataset = TempLibriSpeech.LibriSpeech(split=\"train-clean-100\", target_length=16000, device='cuda')\n",
    "data_loader = torch.utils.data.DataLoader(dataset, batch_size=16, shuffle=True)"
   ]
  },
  {
   "cell_type": "code",
   "execution_count": 4,
   "metadata": {},
   "outputs": [
    {
     "name": "stdout",
     "output_type": "stream",
     "text": [
      "Exemple 1\n",
      "Audio shape: torch.Size([16, 16000])\n",
      "Texte: ('THE FACTOR THAT UNDERLIES ALL THE PERPLEXITIES AND MOST OF THE CONTENTMENT OF MARRIAGE IS ITS UNIQUE DEGREE OF CONCENTRATED INTIMACY HERE THE SUPREME TESTING ALWAYS COMES EACH MEANS SO MUCH TO THE OTHER', \"YOUR HONOUR REPLIED THE CORPORAL KNOWS OF TOM'S MISFORTUNES BUT THIS AFFAIR HAS NOTHING TO DO WITH THEM ANY FURTHER THAN THIS\", \"YES I SUPPOSE IT'S SO WELL SENATOR BALLOON PUT FIFTEEN CENTS WORTH OF STAMPS ON EACH OF THOSE SEVEN HUGE BOXES OF OLD CLOTHES AND SHIPPED THAT TON OF SECOND HAND RUBBISH OLD BOOTS AND PANTALOONS AND WHAT NOT THROUGH THE MAILS AS REGISTERED MATTER\", 'I IMAGINED THAT THEY WOULD BE DISGUSTED UNTIL', \"BUT PIERCED BY ONE ONLY THE MOTTO BEING SHE ALONE THE HEART WAS MADE OF A SINGLE RUBY AS BIG AS AN OSTRICH'S EGG\", 'STAY COUNT HE ADDED YOU WHO MAY BE CALLED THE EMPEROR IF I CLAIM THE TITLE OF KING OF FINANCE HAVE YOU MANY PIECES OF PAPER OF THIS SIZE EACH WORTH A MILLION', 'MISTER WILMINGTON AND MISSUS MUNGER ARE OLD FRIENDS THE YOUNG FELLOW BOWED SILENTLY AND ANNIE INSTANTLY TOOK A DISLIKE TO HIM HIS HEAVY JAW LONG EYES AND LOW FOREHEAD ALMOST HIDDEN UNDER A THICK BANG HE SAT DOWN CORNERWISE ON A CHAIR', 'HE WHO WOUNDED JUSSAC CRIED THE KING HE A BOY', 'THE MODIFICATIONS OF THE HUMAN BODY OF WHICH THE IDEAS REPRESENT EXTERNAL BODIES AS PRESENT TO US WE WILL CALL THE IMAGES OF THINGS THOUGH THEY DO NOT RECALL THE FIGURE OF THINGS WHEN THE MIND REGARDS BODIES IN THIS FASHION WE SAY THAT IT IMAGINES', 'AS WELL AS YOU DO LOOK AT MY LONG GREEN BODY AND THESE ENDLESS LEGS AND THEN TALK TO ME ABOUT HAVING WINGS AND A PAINTED FEATHERY COAT FOOL AND FOOL YOU CRIED THE INDIGNANT LARK', 'MAN CONTINUES FOR EVER THUS LOSING OUR IDENTITY THAT OF WHICH WE ARE CHIEFLY CONSCIOUS WE GLORY IN THE CONTINUITY OF OUR SPECIES AND LEARN TO REGARD DEATH WITHOUT TERROR', 'GROGAN DO YOU REMEMBER WHO WAS IN THE BAR BETWEEN SEVEN THIRTY AND EIGHT THIRTY ON THE NIGHT OF THE FELDERSON MURDER ONLY ONE OR TWO OF THE GENTLEMEN SIR THERE WAS MISTER FARNSWORTH AND MISTER BROWN AND I THINK MISTER WOODS', 'HE WAS IN A BAD FIX ANOTHER FELLOW WAS CONTESTING HIS PATENT AND FIGHTING HARD TO HEAD HIM OFF IT WOULD TAKE A LOT OF MONEY TO FIGHT BACK THREE THOUSAND AT LEAST', \"I GUESS IT'S ALL UP I GUESS I KNEW IT WOULD BE SOME DAY MOYNE HADN'T ANYTHING TO DO WITH IT I STOLE THE MONEY MYSELF FROM THE BANK TO NIGHT I GUESS IT'S ALL UP\", \"SAID JANE AS SHE FINISHED IT IS IT NOT CLEAR ENOUGH DOES IT NOT EXPRESSLY DECLARE THAT CAROLINE NEITHER EXPECTS NOR WISHES ME TO BE HER SISTER THAT SHE IS PERFECTLY CONVINCED OF HER BROTHER'S INDIFFERENCE\", 'IN ITS FIGHT FOR DEMOCRACY THREE THOUSAND MILES AWAY THIS WAS TOO DREADFUL A FLURRY AT THE GATES OF THE CHIEF OF THE NATION AT SUCH A TIME WOULD NEVER DO OUR ALLIES IN THE CRUSADE FOR DEMOCRACY MUST NOT KNOW THAT WE HAD A DAY BY DAY UNREST AT HOME')\n",
      "--------------------------------------------------\n",
      "Exemple 2\n",
      "Audio shape: torch.Size([16, 16000])\n",
      "Texte: ('AND TILL HE HAD PATIENTLY WITH LONG CONTINUING AND DEEP AFFECTION WORKED HIS WAY INTO HER REGARD WAS SET ASIDE DURING THE PRESENT WALK HE WOULD SPEAK TO HER OF HIS PASSIONATE ATTACHMENT BEFORE HE LEFT FOR AN UNCERTAIN LENGTH OF TIME AND THE CERTAIN DISTANCE OF LONDON', 'AND HAD NOT EVEN THE AIR OF HEARING HIM WHEN MARIUS RAISED HIS VOICE TO SAY I KNOW HIM', 'WHICH WAS FIXED FOR MIDDAY HE CAST HIS EYES AROUND AND SEEING THAT THE STREET WAS EMPTY SAID TO HIS ADVERSARY MY FAITH IT IS FORTUNATE FOR YOU ALTHOUGH YOUR NAME IS BERNAJOUX TO HAVE ONLY TO DEAL WITH AN APPRENTICE MUSKETEER', 'AND HER ENTRANCE ACCORDINGLY GREETED WITH THE PROPER ROUND OF APPLAUSE SUCH IMPRESSIONS AS WE THUS NOTE FOR DENSHER COME AND GO IT MUST BE GRANTED IN VERY MUCH LESS TIME THAN NOTATION DEMANDS BUT WE MAY NONE THE LESS MAKE THE POINT THAT THERE WAS STILL FURTHER', 'GAVE GREAT OFFENCE TO THE REAL VENUS SHAKING HER AMBROSIAL LOCKS WITH INDIGNATION SHE EXCLAIMED AM I THEN TO BE ECLIPSED IN MY HONORS BY A MORTAL GIRL IN VAIN THEN DID THAT ROYAL SHEPHERD WHOSE JUDGMENT WAS APPROVED BY JOVE HIMSELF', 'THERE MUST HAVE BEEN MORE DANCING THROUGHOUT THE COUNTRY IN THOSE DAYS THAN THERE IS NOW', 'FAILURE IS OFTEN THE TURNING POINT THE PIVOT OF CIRCUMSTANCE THAT SWINGS US TO HIGHER LEVELS IT MAY NOT BE FINANCIAL SUCCESS IT MAY NOT BE FAME IT MAY BE NEW DRAUGHTS OF SPIRITUAL MORAL OR MENTAL INSPIRATION', 'TOWARD THE CENTER OF THE CITY WAS A LARGE PLAZA AND UPON THIS AND IN THE BUILDINGS IMMEDIATELY SURROUNDING IT WERE CAMPED SOME NINE OR TEN HUNDRED CREATURES OF THE SAME BREED AS MY CAPTORS', \"YOU SHOULD LEAVE HERE ABOUT SEVEN O'CLOCK THIS EVENING IT IS NOW SIX FIFTEEN MINUTES LATER THEY HAD EXAMINED THEIR ARMS AND EQUIPPED THEMSELVES WITH A FULL SUPPLY OF SMALL ARMS AMMUNITION PORTABLE WIRELESS INSTRUMENT AND ANTENNAE AND THREE RATIONS EACH OF EATING CHOCOLATE\", \"ANSWERED SAM PRODUCING HALF A DOLLAR AS IF SUCH MAGNIFICENT SUMS WERE NO STRANGERS TO HIS POCKET COME ON BROWN YOU'LL BE A FIRST RATE FELLOW TO SHOW US ROUND AS YOU KNOW ALL THE DODGES SAID BILLY\", 'THE FULL ACCOUNT OF WHICH MARGARET HAD NEVER HEARD AND WHICH NOW SEEMED DOOMED TO BE BURIED IN SAD OBLIVION', 'SO FAR AS EYE COULD REACH THE HOUSE TO THE RIGHT WAS A ROOF RATHER THAN A HOUSE NOTHING COULD BE MORE MEAN THE WALLS WERE OF MUD THE ROOF WAS OF STRAW AND THERE WAS MORE THATCH THAN WALL', 'WHILE EACH SIDE TOOK ACCOUNT OF STOCK AND MADE NECESSARY REPAIRS OR ALTERED THEIR PLANS TO MEET THE NEW SITUATION OUR YOUNG FRIENDS WERE BUSY WITH WASH BASIN SOAP AND WATER', \"AND AS HE HOBBLED ALONG SAID HE TO THE ESQUIRES WHAT A SAD MISFORTUNE IS THIS TO ONE OF MY BIRTH AND CHARACTER THE OTHER CHAMPIONS PLAY'D THEIR PARTS MUCH BETTER AND ALL CAME OFF WITH CREDIT\", 'THE ROOM WAS WHITEWASHED AS IS THE CUSTOM IN PRISONS BUT IT LOOKED QUITE BRILLIANT TO A PRISONER THOUGH A STOVE A BED A CHAIR AND A TABLE FORMED THE WHOLE OF ITS SUMPTUOUS FURNITURE', \"THEY UNTIED IT AND LED IT AWAY SOME OF THEM PUT THEIR CLOTHES ON THE DONKEY'S BACK FOR A KING MUST RIDE IN COMFORT OTHERS SPREAD THEIR CLOTHES OUT ON THE STREET FOR A KING SHOULD RIDE IN STATE\")\n",
      "--------------------------------------------------\n"
     ]
    }
   ],
   "source": [
    "for i, (audio, text) in enumerate(data_loader):\n",
    "    print(f\"Exemple {i+1}\")\n",
    "    print(f\"Audio shape: {audio.shape}\")\n",
    "    print(f\"Texte: {text}\")\n",
    "    print(\"-\" * 50)\n",
    "    if i == 1: \n",
    "        break"
   ]
  },
  {
   "cell_type": "code",
   "execution_count": null,
   "metadata": {},
   "outputs": [],
   "source": []
  },
  {
   "cell_type": "code",
   "execution_count": 5,
   "metadata": {},
   "outputs": [],
   "source": [
    "### Model dev ###"
   ]
  },
  {
   "cell_type": "code",
   "execution_count": 6,
   "metadata": {},
   "outputs": [],
   "source": [
    "import torch\n",
    "import torch.nn as nn\n",
    "\n",
    "class Model_W2V(nn.Module):\n",
    "    def __init__(self, embed_size, num_heads, dropout, forward_expansion, kernel_size, groups, d_model, num_layers, max_relative_position):\n",
    "\n",
    "        #EAB\n",
    "        self.batch_size = batch_size\n",
    "        #self.seq_length = seq_length\n",
    "        self.embed_size = embed_size\n",
    "        self.mask_prob = 0.50\n",
    "        self.mask_length = 10\n",
    "        self.num_heads = num_heads\n",
    "        self.dropout = dropout\n",
    "        self.forward_expansion = forward_expansion\n",
    "        self.kernel_size = kernel_size\n",
    "        self.groups = groups\n",
    "        self.d_model = d_model\n",
    "        self.num_layers = num_layers\n",
    "\n",
    "        self.num_codebooks = 2\n",
    "        self.num_codes = 320\n",
    "        \n",
    "        self.code_dim = 256\n",
    "        self.output_dim = 512\n",
    "        self.temperature= 0.05\n",
    "\n",
    "        self.max_relative_position = max_relative_position\n",
    "\n",
    "        super(Model_W2V, self).__init__()\n",
    "\n",
    "        \n",
    "\n",
    "        self.FeaturesEncoder = Features_encoder.FeatureEncoder(input_channels=1, feature_dim=512) #1501 ?\n",
    "        self.masking = wav2vec_transformer.MaskingWithLearnableEmbedding()\n",
    "        # d_model, num_heads, dropout, forward_expansion):\n",
    "\n",
    "        #embed_size, num_heads, dropout, forward_expansion,max_relative_position):\n",
    "        self.TranformerBlock = wav2vec_transformer.TransformerBlockW(self.embed_size, self.num_heads, self.dropout, self.forward_expansion, self.max_relative_position)   #(self.embed_size, self.num_heads, self.dropout, self.forward_expansion, self.kernel_size, self.groups, self.d_model, self.max_relative_position)\n",
    "        self.quantization = quantizationModule.QuantizationModule(\n",
    "            input_dim=512,  # Should match feature_dim from FeatureEncoder\n",
    "            codebook_size=self.num_codes,\n",
    "            num_codebooks=self.num_codebooks,\n",
    "            output_dim=self.output_dim,\n",
    "            temperature=self.temperature\n",
    "        )\n",
    "\n",
    "        # (K , k temp, G codevectorgroup, Vcodevectorpergroup, a 0,05)\n",
    "        \n",
    "        self.LossItem = ContrastiveLoss.Wav2vec2Loss(K=100,k=self.temperature, G=self.num_codebooks, V = self.num_codes, a=0.05)\n",
    "        \n",
    "\n",
    "    \n",
    "    def forward(self, x):\n",
    "\n",
    "\n",
    "       # print(\"ORIGINAL , \", x.shape)\n",
    "        x = x.to(next(self.parameters()).device)\n",
    "        x = x.unsqueeze(1)\n",
    "\n",
    "        x = self.FeaturesEncoder(x)\n",
    "        \n",
    "       #\n",
    "        \n",
    "        \n",
    "        # print(\"q\",x.shape)\n",
    "        \n",
    "        quantized_repr, diversity_loss = self.quantization(x)\n",
    "        \n",
    "        masked_reps, mask = self.masking(x, self.mask_prob, self.mask_length) #(self, x, mask_prob, mask_length)\n",
    "        \n",
    "        contextualized_reps = self.TranformerBlock(masked_reps, masked_reps, masked_reps, mask)\n",
    "                                                # value, key, query, mask=None\n",
    "        \n",
    "\n",
    "        #print(\"Debug\", contextualized_reps.shape, quantized_repr.shape, mask.shape)\n",
    "        \n",
    "        \n",
    "        # context_repr, quantized_repr, perplexity, time_mask_indices):\n",
    "\n",
    "        \n",
    "        loss = self.LossItem(contextualized_reps, quantized_repr, diversity_loss, mask)\n",
    "        \n",
    "        # print(\"Context Representation shape:\", contextualized_reps.shape)\n",
    "        # print(\"Quantized Representation shape:\", quantized_repr.shape)\n",
    "        # print(\"Mask Indices shape:\", masked_reps.shape)\n",
    "        # mask = torch.tensor(mask)\n",
    "        # print(\"Unique Mask Indices values:\", mask.unique())\n",
    "\n",
    "        \n",
    "   # embed_size, num_heads, dropout, forward_expansion, kernel_size, groups,d_model\n",
    "        \n",
    "        return x, contextualized_reps, loss\n",
    "    "
   ]
  },
  {
   "cell_type": "code",
   "execution_count": 7,
   "metadata": {},
   "outputs": [],
   "source": [
    "import torch\n",
    "from torch.utils.data import DataLoader\n",
    "import torch.optim as optim\n",
    "from tqdm import tqdm\n",
    "\n",
    "\n",
    "loss_123 = []\n",
    "\n",
    "def train_model(model, dataset, epochs, learning_rate, device):\n",
    "\n",
    "    dataloader = DataLoader(dataset, batch_size=model.batch_size, shuffle=True)\n",
    "    model.to(device)\n",
    "    optimizer = optim.Adam(model.parameters(), lr=learning_rate)\n",
    "    model.train()\n",
    "    \n",
    "    for epoch in range(epochs):\n",
    "        \n",
    "        epoch_loss = 0\n",
    "        total_loss = 0.0\n",
    "\n",
    "        num_batches = len(dataloader) - 1\n",
    "\n",
    "        for batch_idx, (inputs, _) in enumerate(tqdm( data_loader, desc=f\"Epoch {epoch+1}/{epochs}\")):\n",
    "            \n",
    "            if batch_idx >= num_batches:\n",
    "                print(\"break\")\n",
    "                break  # S'arrêter avant la dernière itération\n",
    "\n",
    "            optimizer.zero_grad()\n",
    "            \n",
    "            _,_, loss = model(inputs)\n",
    "            \n",
    "            loss.backward()\n",
    "            optimizer.step()\n",
    "            \n",
    "            epoch_loss += loss.item()\n",
    "            total_loss += loss.item()\n",
    "\n",
    "            if batch_idx % 100 == 0:\n",
    "                print(f\"Epoch [{epoch+1}/{epochs}], Step [{batch_idx+1}/{num_batches}], Loss: {loss.item():.4f}\")\n",
    "                loss_123.append(loss.item())\n",
    "                \n",
    "        avg_loss = total_loss / num_batches\n",
    "        print(f\"Epoch [{epoch+1}/{epochs}] Average Loss: {avg_loss:.4f}\")\n",
    "\n",
    "    return loss_123\n"
   ]
  },
  {
   "cell_type": "code",
   "execution_count": null,
   "metadata": {},
   "outputs": [
    {
     "name": "stderr",
     "output_type": "stream",
     "text": [
      "Epoch 1/7:   0%|          | 1/1784 [00:03<1:50:40,  3.72s/it]"
     ]
    },
    {
     "name": "stdout",
     "output_type": "stream",
     "text": [
      "Epoch [1/7], Step [1/1783], Loss: 5.9177\n"
     ]
    },
    {
     "name": "stderr",
     "output_type": "stream",
     "text": [
      "Epoch 1/7:   6%|▌         | 101/1784 [02:03<32:46,  1.17s/it]"
     ]
    },
    {
     "name": "stdout",
     "output_type": "stream",
     "text": [
      "Epoch [1/7], Step [101/1783], Loss: 5.7112\n"
     ]
    },
    {
     "name": "stderr",
     "output_type": "stream",
     "text": [
      "Epoch 1/7:  11%|█▏        | 201/1784 [04:02<32:11,  1.22s/it]"
     ]
    },
    {
     "name": "stdout",
     "output_type": "stream",
     "text": [
      "Epoch [1/7], Step [201/1783], Loss: 5.7115\n"
     ]
    },
    {
     "name": "stderr",
     "output_type": "stream",
     "text": [
      "Epoch 1/7:  17%|█▋        | 301/1784 [06:01<29:41,  1.20s/it]"
     ]
    },
    {
     "name": "stdout",
     "output_type": "stream",
     "text": [
      "Epoch [1/7], Step [301/1783], Loss: 5.7094\n"
     ]
    },
    {
     "name": "stderr",
     "output_type": "stream",
     "text": [
      "Epoch 1/7:  22%|██▏       | 401/1784 [07:58<28:04,  1.22s/it]"
     ]
    },
    {
     "name": "stdout",
     "output_type": "stream",
     "text": [
      "Epoch [1/7], Step [401/1783], Loss: 5.7102\n"
     ]
    },
    {
     "name": "stderr",
     "output_type": "stream",
     "text": [
      "Epoch 1/7:  28%|██▊       | 501/1784 [09:57<25:44,  1.20s/it]"
     ]
    },
    {
     "name": "stdout",
     "output_type": "stream",
     "text": [
      "Epoch [1/7], Step [501/1783], Loss: 5.7145\n"
     ]
    },
    {
     "name": "stderr",
     "output_type": "stream",
     "text": [
      "Epoch 1/7:  34%|███▎      | 601/1784 [11:56<24:26,  1.24s/it]"
     ]
    },
    {
     "name": "stdout",
     "output_type": "stream",
     "text": [
      "Epoch [1/7], Step [601/1783], Loss: 5.7132\n"
     ]
    },
    {
     "name": "stderr",
     "output_type": "stream",
     "text": [
      "Epoch 1/7:  39%|███▉      | 701/1784 [13:55<21:41,  1.20s/it]"
     ]
    },
    {
     "name": "stdout",
     "output_type": "stream",
     "text": [
      "Epoch [1/7], Step [701/1783], Loss: 5.7066\n"
     ]
    },
    {
     "name": "stderr",
     "output_type": "stream",
     "text": [
      "Epoch 1/7:  45%|████▍     | 801/1784 [15:53<20:28,  1.25s/it]"
     ]
    },
    {
     "name": "stdout",
     "output_type": "stream",
     "text": [
      "Epoch [1/7], Step [801/1783], Loss: 5.7186\n"
     ]
    },
    {
     "name": "stderr",
     "output_type": "stream",
     "text": [
      "Epoch 1/7:  51%|█████     | 901/1784 [17:52<17:57,  1.22s/it]"
     ]
    },
    {
     "name": "stdout",
     "output_type": "stream",
     "text": [
      "Epoch [1/7], Step [901/1783], Loss: 5.7084\n"
     ]
    },
    {
     "name": "stderr",
     "output_type": "stream",
     "text": [
      "Epoch 1/7:  56%|█████▌    | 1001/1784 [19:50<15:31,  1.19s/it]"
     ]
    },
    {
     "name": "stdout",
     "output_type": "stream",
     "text": [
      "Epoch [1/7], Step [1001/1783], Loss: 5.7098\n"
     ]
    },
    {
     "name": "stderr",
     "output_type": "stream",
     "text": [
      "Epoch 1/7:  62%|██████▏   | 1101/1784 [21:49<13:31,  1.19s/it]"
     ]
    },
    {
     "name": "stdout",
     "output_type": "stream",
     "text": [
      "Epoch [1/7], Step [1101/1783], Loss: 5.7120\n"
     ]
    },
    {
     "name": "stderr",
     "output_type": "stream",
     "text": [
      "Epoch 1/7:  67%|██████▋   | 1201/1784 [23:50<11:35,  1.19s/it]"
     ]
    },
    {
     "name": "stdout",
     "output_type": "stream",
     "text": [
      "Epoch [1/7], Step [1201/1783], Loss: 5.7106\n"
     ]
    },
    {
     "name": "stderr",
     "output_type": "stream",
     "text": [
      "Epoch 1/7:  73%|███████▎  | 1301/1784 [25:50<09:39,  1.20s/it]"
     ]
    },
    {
     "name": "stdout",
     "output_type": "stream",
     "text": [
      "Epoch [1/7], Step [1301/1783], Loss: 5.7095\n"
     ]
    },
    {
     "name": "stderr",
     "output_type": "stream",
     "text": [
      "Epoch 1/7:  79%|███████▊  | 1401/1784 [27:50<07:29,  1.17s/it]"
     ]
    },
    {
     "name": "stdout",
     "output_type": "stream",
     "text": [
      "Epoch [1/7], Step [1401/1783], Loss: 5.7153\n"
     ]
    },
    {
     "name": "stderr",
     "output_type": "stream",
     "text": [
      "Epoch 1/7:  84%|████████▍ | 1501/1784 [29:48<05:16,  1.12s/it]"
     ]
    },
    {
     "name": "stdout",
     "output_type": "stream",
     "text": [
      "Epoch [1/7], Step [1501/1783], Loss: 5.7122\n"
     ]
    },
    {
     "name": "stderr",
     "output_type": "stream",
     "text": [
      "Epoch 1/7:  90%|████████▉ | 1601/1784 [31:44<03:33,  1.17s/it]"
     ]
    },
    {
     "name": "stdout",
     "output_type": "stream",
     "text": [
      "Epoch [1/7], Step [1601/1783], Loss: 5.7124\n"
     ]
    },
    {
     "name": "stderr",
     "output_type": "stream",
     "text": [
      "Epoch 1/7:  95%|█████████▌| 1701/1784 [33:44<01:39,  1.20s/it]"
     ]
    },
    {
     "name": "stdout",
     "output_type": "stream",
     "text": [
      "Epoch [1/7], Step [1701/1783], Loss: 5.7151\n"
     ]
    },
    {
     "name": "stderr",
     "output_type": "stream",
     "text": [
      "Epoch 1/7: 100%|█████████▉| 1783/1784 [35:24<00:01,  1.19s/it]\n"
     ]
    },
    {
     "name": "stdout",
     "output_type": "stream",
     "text": [
      "break\n",
      "Epoch [1/7] Average Loss: 5.7145\n"
     ]
    },
    {
     "name": "stderr",
     "output_type": "stream",
     "text": [
      "Epoch 2/7:   0%|          | 1/1784 [00:01<35:36,  1.20s/it]"
     ]
    },
    {
     "name": "stdout",
     "output_type": "stream",
     "text": [
      "Epoch [2/7], Step [1/1783], Loss: 5.7157\n"
     ]
    },
    {
     "name": "stderr",
     "output_type": "stream",
     "text": [
      "Epoch 2/7:   6%|▌         | 101/1784 [01:59<33:50,  1.21s/it]"
     ]
    },
    {
     "name": "stdout",
     "output_type": "stream",
     "text": [
      "Epoch [2/7], Step [101/1783], Loss: 5.7162\n"
     ]
    },
    {
     "name": "stderr",
     "output_type": "stream",
     "text": [
      "Epoch 2/7:  11%|█▏        | 201/1784 [03:58<32:30,  1.23s/it]"
     ]
    },
    {
     "name": "stdout",
     "output_type": "stream",
     "text": [
      "Epoch [2/7], Step [201/1783], Loss: 5.7072\n"
     ]
    },
    {
     "name": "stderr",
     "output_type": "stream",
     "text": [
      "Epoch 2/7:  17%|█▋        | 301/1784 [06:00<29:37,  1.20s/it]"
     ]
    },
    {
     "name": "stdout",
     "output_type": "stream",
     "text": [
      "Epoch [2/7], Step [301/1783], Loss: 5.7144\n"
     ]
    },
    {
     "name": "stderr",
     "output_type": "stream",
     "text": [
      "Epoch 2/7:  22%|██▏       | 401/1784 [08:01<27:28,  1.19s/it]"
     ]
    },
    {
     "name": "stdout",
     "output_type": "stream",
     "text": [
      "Epoch [2/7], Step [401/1783], Loss: 5.7176\n"
     ]
    },
    {
     "name": "stderr",
     "output_type": "stream",
     "text": [
      "Epoch 2/7:  28%|██▊       | 501/1784 [09:59<25:06,  1.17s/it]"
     ]
    },
    {
     "name": "stdout",
     "output_type": "stream",
     "text": [
      "Epoch [2/7], Step [501/1783], Loss: 5.7099\n"
     ]
    },
    {
     "name": "stderr",
     "output_type": "stream",
     "text": [
      "Epoch 2/7:  34%|███▎      | 601/1784 [12:00<24:10,  1.23s/it]"
     ]
    },
    {
     "name": "stdout",
     "output_type": "stream",
     "text": [
      "Epoch [2/7], Step [601/1783], Loss: 5.7099\n"
     ]
    },
    {
     "name": "stderr",
     "output_type": "stream",
     "text": [
      "Epoch 2/7:  39%|███▉      | 701/1784 [14:00<21:52,  1.21s/it]"
     ]
    },
    {
     "name": "stdout",
     "output_type": "stream",
     "text": [
      "Epoch [2/7], Step [701/1783], Loss: 5.7151\n"
     ]
    },
    {
     "name": "stderr",
     "output_type": "stream",
     "text": [
      "Epoch 2/7:  45%|████▍     | 801/1784 [15:59<18:51,  1.15s/it]"
     ]
    },
    {
     "name": "stdout",
     "output_type": "stream",
     "text": [
      "Epoch [2/7], Step [801/1783], Loss: 5.7090\n"
     ]
    },
    {
     "name": "stderr",
     "output_type": "stream",
     "text": [
      "Epoch 2/7:  51%|█████     | 901/1784 [17:58<17:31,  1.19s/it]"
     ]
    },
    {
     "name": "stdout",
     "output_type": "stream",
     "text": [
      "Epoch [2/7], Step [901/1783], Loss: 5.7078\n"
     ]
    },
    {
     "name": "stderr",
     "output_type": "stream",
     "text": [
      "Epoch 2/7:  56%|█████▌    | 1001/1784 [19:58<15:30,  1.19s/it]"
     ]
    },
    {
     "name": "stdout",
     "output_type": "stream",
     "text": [
      "Epoch [2/7], Step [1001/1783], Loss: 5.7120\n"
     ]
    },
    {
     "name": "stderr",
     "output_type": "stream",
     "text": [
      "Epoch 2/7:  62%|██████▏   | 1101/1784 [22:00<13:48,  1.21s/it]"
     ]
    },
    {
     "name": "stdout",
     "output_type": "stream",
     "text": [
      "Epoch [2/7], Step [1101/1783], Loss: 5.7142\n"
     ]
    },
    {
     "name": "stderr",
     "output_type": "stream",
     "text": [
      "Epoch 2/7:  67%|██████▋   | 1201/1784 [24:01<12:14,  1.26s/it]"
     ]
    },
    {
     "name": "stdout",
     "output_type": "stream",
     "text": [
      "Epoch [2/7], Step [1201/1783], Loss: 5.7046\n"
     ]
    },
    {
     "name": "stderr",
     "output_type": "stream",
     "text": [
      "Epoch 2/7:  73%|███████▎  | 1301/1784 [26:02<09:27,  1.17s/it]"
     ]
    },
    {
     "name": "stdout",
     "output_type": "stream",
     "text": [
      "Epoch [2/7], Step [1301/1783], Loss: 5.7082\n"
     ]
    },
    {
     "name": "stderr",
     "output_type": "stream",
     "text": [
      "Epoch 2/7:  79%|███████▊  | 1401/1784 [28:02<07:35,  1.19s/it]"
     ]
    },
    {
     "name": "stdout",
     "output_type": "stream",
     "text": [
      "Epoch [2/7], Step [1401/1783], Loss: 5.7151\n"
     ]
    },
    {
     "name": "stderr",
     "output_type": "stream",
     "text": [
      "Epoch 2/7:  84%|████████▍ | 1501/1784 [30:01<05:40,  1.20s/it]"
     ]
    },
    {
     "name": "stdout",
     "output_type": "stream",
     "text": [
      "Epoch [2/7], Step [1501/1783], Loss: 5.7160\n"
     ]
    },
    {
     "name": "stderr",
     "output_type": "stream",
     "text": [
      "Epoch 2/7:  90%|████████▉ | 1601/1784 [32:00<03:24,  1.12s/it]"
     ]
    },
    {
     "name": "stdout",
     "output_type": "stream",
     "text": [
      "Epoch [2/7], Step [1601/1783], Loss: 5.7147\n"
     ]
    },
    {
     "name": "stderr",
     "output_type": "stream",
     "text": [
      "Epoch 2/7:  95%|█████████▌| 1701/1784 [34:00<01:36,  1.16s/it]"
     ]
    },
    {
     "name": "stdout",
     "output_type": "stream",
     "text": [
      "Epoch [2/7], Step [1701/1783], Loss: 5.7162\n"
     ]
    },
    {
     "name": "stderr",
     "output_type": "stream",
     "text": [
      "Epoch 2/7: 100%|█████████▉| 1783/1784 [35:37<00:01,  1.20s/it]\n"
     ]
    },
    {
     "name": "stdout",
     "output_type": "stream",
     "text": [
      "break\n",
      "Epoch [2/7] Average Loss: 5.7121\n"
     ]
    },
    {
     "name": "stderr",
     "output_type": "stream",
     "text": [
      "Epoch 3/7:   0%|          | 1/1784 [00:01<36:57,  1.24s/it]"
     ]
    },
    {
     "name": "stdout",
     "output_type": "stream",
     "text": [
      "Epoch [3/7], Step [1/1783], Loss: 5.7163\n"
     ]
    },
    {
     "name": "stderr",
     "output_type": "stream",
     "text": [
      "Epoch 3/7:   6%|▌         | 101/1784 [02:01<33:39,  1.20s/it]"
     ]
    },
    {
     "name": "stdout",
     "output_type": "stream",
     "text": [
      "Epoch [3/7], Step [101/1783], Loss: 5.7118\n"
     ]
    },
    {
     "name": "stderr",
     "output_type": "stream",
     "text": [
      "Epoch 3/7:  11%|█▏        | 201/1784 [04:00<31:59,  1.21s/it]"
     ]
    },
    {
     "name": "stdout",
     "output_type": "stream",
     "text": [
      "Epoch [3/7], Step [201/1783], Loss: 5.7163\n"
     ]
    },
    {
     "name": "stderr",
     "output_type": "stream",
     "text": [
      "Epoch 3/7:  17%|█▋        | 301/1784 [06:01<29:03,  1.18s/it]"
     ]
    },
    {
     "name": "stdout",
     "output_type": "stream",
     "text": [
      "Epoch [3/7], Step [301/1783], Loss: 5.7121\n"
     ]
    },
    {
     "name": "stderr",
     "output_type": "stream",
     "text": [
      "Epoch 3/7:  22%|██▏       | 401/1784 [08:03<26:48,  1.16s/it]"
     ]
    },
    {
     "name": "stdout",
     "output_type": "stream",
     "text": [
      "Epoch [3/7], Step [401/1783], Loss: 5.7102\n"
     ]
    },
    {
     "name": "stderr",
     "output_type": "stream",
     "text": [
      "Epoch 3/7:  28%|██▊       | 501/1784 [10:04<26:19,  1.23s/it]"
     ]
    },
    {
     "name": "stdout",
     "output_type": "stream",
     "text": [
      "Epoch [3/7], Step [501/1783], Loss: 5.7119\n"
     ]
    },
    {
     "name": "stderr",
     "output_type": "stream",
     "text": [
      "Epoch 3/7:  34%|███▎      | 601/1784 [12:06<24:06,  1.22s/it]"
     ]
    },
    {
     "name": "stdout",
     "output_type": "stream",
     "text": [
      "Epoch [3/7], Step [601/1783], Loss: 5.7136\n"
     ]
    },
    {
     "name": "stderr",
     "output_type": "stream",
     "text": [
      "Epoch 3/7:  39%|███▉      | 701/1784 [14:07<22:33,  1.25s/it]"
     ]
    },
    {
     "name": "stdout",
     "output_type": "stream",
     "text": [
      "Epoch [3/7], Step [701/1783], Loss: 5.7111\n"
     ]
    },
    {
     "name": "stderr",
     "output_type": "stream",
     "text": [
      "Epoch 3/7:  45%|████▍     | 801/1784 [16:08<19:11,  1.17s/it]"
     ]
    },
    {
     "name": "stdout",
     "output_type": "stream",
     "text": [
      "Epoch [3/7], Step [801/1783], Loss: 5.7150\n"
     ]
    },
    {
     "name": "stderr",
     "output_type": "stream",
     "text": [
      "Epoch 3/7:  51%|█████     | 901/1784 [18:07<17:59,  1.22s/it]"
     ]
    },
    {
     "name": "stdout",
     "output_type": "stream",
     "text": [
      "Epoch [3/7], Step [901/1783], Loss: 5.7135\n"
     ]
    },
    {
     "name": "stderr",
     "output_type": "stream",
     "text": [
      "Epoch 3/7:  56%|█████▌    | 1001/1784 [20:08<15:29,  1.19s/it]"
     ]
    },
    {
     "name": "stdout",
     "output_type": "stream",
     "text": [
      "Epoch [3/7], Step [1001/1783], Loss: 5.7149\n"
     ]
    },
    {
     "name": "stderr",
     "output_type": "stream",
     "text": [
      "Epoch 3/7:  62%|██████▏   | 1101/1784 [22:08<13:54,  1.22s/it]"
     ]
    },
    {
     "name": "stdout",
     "output_type": "stream",
     "text": [
      "Epoch [3/7], Step [1101/1783], Loss: 5.7147\n"
     ]
    },
    {
     "name": "stderr",
     "output_type": "stream",
     "text": [
      "Epoch 3/7:  67%|██████▋   | 1201/1784 [24:08<11:37,  1.20s/it]"
     ]
    },
    {
     "name": "stdout",
     "output_type": "stream",
     "text": [
      "Epoch [3/7], Step [1201/1783], Loss: 5.7066\n"
     ]
    },
    {
     "name": "stderr",
     "output_type": "stream",
     "text": [
      "Epoch 3/7:  73%|███████▎  | 1301/1784 [26:08<09:36,  1.19s/it]"
     ]
    },
    {
     "name": "stdout",
     "output_type": "stream",
     "text": [
      "Epoch [3/7], Step [1301/1783], Loss: 5.7112\n"
     ]
    },
    {
     "name": "stderr",
     "output_type": "stream",
     "text": [
      "Epoch 3/7:  79%|███████▊  | 1401/1784 [28:10<07:46,  1.22s/it]"
     ]
    },
    {
     "name": "stdout",
     "output_type": "stream",
     "text": [
      "Epoch [3/7], Step [1401/1783], Loss: 5.7115\n"
     ]
    },
    {
     "name": "stderr",
     "output_type": "stream",
     "text": [
      "Epoch 3/7:  84%|████████▍ | 1501/1784 [30:11<05:59,  1.27s/it]"
     ]
    },
    {
     "name": "stdout",
     "output_type": "stream",
     "text": [
      "Epoch [3/7], Step [1501/1783], Loss: 5.7147\n"
     ]
    },
    {
     "name": "stderr",
     "output_type": "stream",
     "text": [
      "Epoch 3/7:  90%|████████▉ | 1601/1784 [32:12<03:51,  1.27s/it]"
     ]
    },
    {
     "name": "stdout",
     "output_type": "stream",
     "text": [
      "Epoch [3/7], Step [1601/1783], Loss: 5.7116\n"
     ]
    },
    {
     "name": "stderr",
     "output_type": "stream",
     "text": [
      "Epoch 3/7:  95%|█████████▌| 1701/1784 [34:13<01:47,  1.29s/it]"
     ]
    },
    {
     "name": "stdout",
     "output_type": "stream",
     "text": [
      "Epoch [3/7], Step [1701/1783], Loss: 5.7100\n"
     ]
    },
    {
     "name": "stderr",
     "output_type": "stream",
     "text": [
      "Epoch 3/7: 100%|█████████▉| 1783/1784 [35:51<00:01,  1.21s/it]\n"
     ]
    },
    {
     "name": "stdout",
     "output_type": "stream",
     "text": [
      "break\n",
      "Epoch [3/7] Average Loss: 5.7120\n"
     ]
    },
    {
     "name": "stderr",
     "output_type": "stream",
     "text": [
      "Epoch 4/7:   0%|          | 1/1784 [00:01<36:25,  1.23s/it]"
     ]
    },
    {
     "name": "stdout",
     "output_type": "stream",
     "text": [
      "Epoch [4/7], Step [1/1783], Loss: 5.7142\n"
     ]
    },
    {
     "name": "stderr",
     "output_type": "stream",
     "text": [
      "Epoch 4/7:   6%|▌         | 101/1784 [02:02<35:15,  1.26s/it]"
     ]
    },
    {
     "name": "stdout",
     "output_type": "stream",
     "text": [
      "Epoch [4/7], Step [101/1783], Loss: 5.7109\n"
     ]
    },
    {
     "name": "stderr",
     "output_type": "stream",
     "text": [
      "Epoch 4/7:  11%|█▏        | 201/1784 [04:03<31:08,  1.18s/it]"
     ]
    },
    {
     "name": "stdout",
     "output_type": "stream",
     "text": [
      "Epoch [4/7], Step [201/1783], Loss: 5.7069\n"
     ]
    },
    {
     "name": "stderr",
     "output_type": "stream",
     "text": [
      "Epoch 4/7:  17%|█▋        | 301/1784 [06:03<29:30,  1.19s/it]"
     ]
    },
    {
     "name": "stdout",
     "output_type": "stream",
     "text": [
      "Epoch [4/7], Step [301/1783], Loss: 5.7148\n"
     ]
    },
    {
     "name": "stderr",
     "output_type": "stream",
     "text": [
      "Epoch 4/7:  22%|██▏       | 401/1784 [08:04<27:57,  1.21s/it]"
     ]
    },
    {
     "name": "stdout",
     "output_type": "stream",
     "text": [
      "Epoch [4/7], Step [401/1783], Loss: 5.7114\n"
     ]
    },
    {
     "name": "stderr",
     "output_type": "stream",
     "text": [
      "Epoch 4/7:  28%|██▊       | 501/1784 [10:14<26:18,  1.23s/it]"
     ]
    },
    {
     "name": "stdout",
     "output_type": "stream",
     "text": [
      "Epoch [4/7], Step [501/1783], Loss: 5.7095\n"
     ]
    },
    {
     "name": "stderr",
     "output_type": "stream",
     "text": [
      "Epoch 4/7:  34%|███▎      | 601/1784 [12:14<24:08,  1.22s/it]"
     ]
    },
    {
     "name": "stdout",
     "output_type": "stream",
     "text": [
      "Epoch [4/7], Step [601/1783], Loss: 5.7121\n"
     ]
    },
    {
     "name": "stderr",
     "output_type": "stream",
     "text": [
      "Epoch 4/7:  39%|███▉      | 701/1784 [14:16<22:44,  1.26s/it]"
     ]
    },
    {
     "name": "stdout",
     "output_type": "stream",
     "text": [
      "Epoch [4/7], Step [701/1783], Loss: 5.7142\n"
     ]
    },
    {
     "name": "stderr",
     "output_type": "stream",
     "text": [
      "Epoch 4/7:  45%|████▍     | 801/1784 [16:18<19:27,  1.19s/it]"
     ]
    },
    {
     "name": "stdout",
     "output_type": "stream",
     "text": [
      "Epoch [4/7], Step [801/1783], Loss: 5.7122\n"
     ]
    },
    {
     "name": "stderr",
     "output_type": "stream",
     "text": [
      "Epoch 4/7:  51%|█████     | 901/1784 [18:18<17:31,  1.19s/it]"
     ]
    },
    {
     "name": "stdout",
     "output_type": "stream",
     "text": [
      "Epoch [4/7], Step [901/1783], Loss: 5.7140\n"
     ]
    },
    {
     "name": "stderr",
     "output_type": "stream",
     "text": [
      "Epoch 4/7:  56%|█████▌    | 1001/1784 [20:19<15:25,  1.18s/it]"
     ]
    },
    {
     "name": "stdout",
     "output_type": "stream",
     "text": [
      "Epoch [4/7], Step [1001/1783], Loss: 5.7059\n"
     ]
    },
    {
     "name": "stderr",
     "output_type": "stream",
     "text": [
      "Epoch 4/7:  62%|██████▏   | 1101/1784 [22:20<13:26,  1.18s/it]"
     ]
    },
    {
     "name": "stdout",
     "output_type": "stream",
     "text": [
      "Epoch [4/7], Step [1101/1783], Loss: 5.7076\n"
     ]
    },
    {
     "name": "stderr",
     "output_type": "stream",
     "text": [
      "Epoch 4/7:  67%|██████▋   | 1201/1784 [24:21<11:45,  1.21s/it]"
     ]
    },
    {
     "name": "stdout",
     "output_type": "stream",
     "text": [
      "Epoch [4/7], Step [1201/1783], Loss: 5.7111\n"
     ]
    },
    {
     "name": "stderr",
     "output_type": "stream",
     "text": [
      "Epoch 4/7:  73%|███████▎  | 1301/1784 [26:20<09:56,  1.23s/it]"
     ]
    },
    {
     "name": "stdout",
     "output_type": "stream",
     "text": [
      "Epoch [4/7], Step [1301/1783], Loss: 5.7184\n"
     ]
    },
    {
     "name": "stderr",
     "output_type": "stream",
     "text": [
      "Epoch 4/7:  79%|███████▊  | 1401/1784 [28:21<07:40,  1.20s/it]"
     ]
    },
    {
     "name": "stdout",
     "output_type": "stream",
     "text": [
      "Epoch [4/7], Step [1401/1783], Loss: 5.7107\n"
     ]
    },
    {
     "name": "stderr",
     "output_type": "stream",
     "text": [
      "Epoch 4/7:  84%|████████▍ | 1501/1784 [30:23<05:45,  1.22s/it]"
     ]
    },
    {
     "name": "stdout",
     "output_type": "stream",
     "text": [
      "Epoch [4/7], Step [1501/1783], Loss: 5.7134\n"
     ]
    },
    {
     "name": "stderr",
     "output_type": "stream",
     "text": [
      "Epoch 4/7:  90%|████████▉ | 1601/1784 [32:23<03:42,  1.22s/it]"
     ]
    },
    {
     "name": "stdout",
     "output_type": "stream",
     "text": [
      "Epoch [4/7], Step [1601/1783], Loss: 5.7096\n"
     ]
    },
    {
     "name": "stderr",
     "output_type": "stream",
     "text": [
      "Epoch 4/7:  95%|█████████▌| 1701/1784 [34:24<01:46,  1.28s/it]"
     ]
    },
    {
     "name": "stdout",
     "output_type": "stream",
     "text": [
      "Epoch [4/7], Step [1701/1783], Loss: 5.7133\n"
     ]
    },
    {
     "name": "stderr",
     "output_type": "stream",
     "text": [
      "Epoch 4/7: 100%|█████████▉| 1783/1784 [36:04<00:01,  1.21s/it]\n"
     ]
    },
    {
     "name": "stdout",
     "output_type": "stream",
     "text": [
      "break\n",
      "Epoch [4/7] Average Loss: 5.7120\n"
     ]
    },
    {
     "name": "stderr",
     "output_type": "stream",
     "text": [
      "Epoch 5/7:   0%|          | 1/1784 [00:01<35:25,  1.19s/it]"
     ]
    },
    {
     "name": "stdout",
     "output_type": "stream",
     "text": [
      "Epoch [5/7], Step [1/1783], Loss: 5.7101\n"
     ]
    },
    {
     "name": "stderr",
     "output_type": "stream",
     "text": [
      "Epoch 5/7:   6%|▌         | 101/1784 [02:02<34:56,  1.25s/it]"
     ]
    },
    {
     "name": "stdout",
     "output_type": "stream",
     "text": [
      "Epoch [5/7], Step [101/1783], Loss: 5.7140\n"
     ]
    },
    {
     "name": "stderr",
     "output_type": "stream",
     "text": [
      "Epoch 5/7:  11%|█▏        | 201/1784 [04:02<31:25,  1.19s/it]"
     ]
    },
    {
     "name": "stdout",
     "output_type": "stream",
     "text": [
      "Epoch [5/7], Step [201/1783], Loss: 5.7127\n"
     ]
    },
    {
     "name": "stderr",
     "output_type": "stream",
     "text": [
      "Epoch 5/7:  17%|█▋        | 301/1784 [06:03<28:31,  1.15s/it]"
     ]
    },
    {
     "name": "stdout",
     "output_type": "stream",
     "text": [
      "Epoch [5/7], Step [301/1783], Loss: 5.7085\n"
     ]
    },
    {
     "name": "stderr",
     "output_type": "stream",
     "text": [
      "Epoch 5/7:  22%|██▏       | 401/1784 [08:03<27:16,  1.18s/it]"
     ]
    },
    {
     "name": "stdout",
     "output_type": "stream",
     "text": [
      "Epoch [5/7], Step [401/1783], Loss: 5.7079\n"
     ]
    },
    {
     "name": "stderr",
     "output_type": "stream",
     "text": [
      "Epoch 5/7:  28%|██▊       | 501/1784 [10:06<27:02,  1.26s/it]"
     ]
    },
    {
     "name": "stdout",
     "output_type": "stream",
     "text": [
      "Epoch [5/7], Step [501/1783], Loss: 5.7114\n"
     ]
    },
    {
     "name": "stderr",
     "output_type": "stream",
     "text": [
      "Epoch 5/7:  34%|███▎      | 601/1784 [12:08<23:57,  1.22s/it]"
     ]
    },
    {
     "name": "stdout",
     "output_type": "stream",
     "text": [
      "Epoch [5/7], Step [601/1783], Loss: 5.7133\n"
     ]
    },
    {
     "name": "stderr",
     "output_type": "stream",
     "text": [
      "Epoch 5/7:  39%|███▉      | 701/1784 [14:08<22:21,  1.24s/it]"
     ]
    },
    {
     "name": "stdout",
     "output_type": "stream",
     "text": [
      "Epoch [5/7], Step [701/1783], Loss: 5.7070\n"
     ]
    },
    {
     "name": "stderr",
     "output_type": "stream",
     "text": [
      "Epoch 5/7:  45%|████▍     | 801/1784 [16:12<20:33,  1.26s/it]"
     ]
    },
    {
     "name": "stdout",
     "output_type": "stream",
     "text": [
      "Epoch [5/7], Step [801/1783], Loss: 5.7102\n"
     ]
    },
    {
     "name": "stderr",
     "output_type": "stream",
     "text": [
      "Epoch 5/7:  51%|█████     | 901/1784 [18:14<17:03,  1.16s/it]"
     ]
    },
    {
     "name": "stdout",
     "output_type": "stream",
     "text": [
      "Epoch [5/7], Step [901/1783], Loss: 5.7091\n"
     ]
    },
    {
     "name": "stderr",
     "output_type": "stream",
     "text": [
      "Epoch 5/7:  56%|█████▌    | 1001/1784 [20:14<15:15,  1.17s/it]"
     ]
    },
    {
     "name": "stdout",
     "output_type": "stream",
     "text": [
      "Epoch [5/7], Step [1001/1783], Loss: 5.7054\n"
     ]
    },
    {
     "name": "stderr",
     "output_type": "stream",
     "text": [
      "Epoch 5/7:  62%|██████▏   | 1101/1784 [22:14<13:45,  1.21s/it]"
     ]
    },
    {
     "name": "stdout",
     "output_type": "stream",
     "text": [
      "Epoch [5/7], Step [1101/1783], Loss: 5.7164\n"
     ]
    },
    {
     "name": "stderr",
     "output_type": "stream",
     "text": [
      "Epoch 5/7:  67%|██████▋   | 1201/1784 [24:16<11:51,  1.22s/it]"
     ]
    },
    {
     "name": "stdout",
     "output_type": "stream",
     "text": [
      "Epoch [5/7], Step [1201/1783], Loss: 5.7098\n"
     ]
    },
    {
     "name": "stderr",
     "output_type": "stream",
     "text": [
      "Epoch 5/7:  73%|███████▎  | 1301/1784 [26:16<09:50,  1.22s/it]"
     ]
    },
    {
     "name": "stdout",
     "output_type": "stream",
     "text": [
      "Epoch [5/7], Step [1301/1783], Loss: 5.7184\n"
     ]
    },
    {
     "name": "stderr",
     "output_type": "stream",
     "text": [
      "Epoch 5/7:  79%|███████▊  | 1401/1784 [28:17<07:56,  1.24s/it]"
     ]
    },
    {
     "name": "stdout",
     "output_type": "stream",
     "text": [
      "Epoch [5/7], Step [1401/1783], Loss: 5.7110\n"
     ]
    },
    {
     "name": "stderr",
     "output_type": "stream",
     "text": [
      "Epoch 5/7:  84%|████████▍ | 1501/1784 [30:18<05:31,  1.17s/it]"
     ]
    },
    {
     "name": "stdout",
     "output_type": "stream",
     "text": [
      "Epoch [5/7], Step [1501/1783], Loss: 5.7057\n"
     ]
    },
    {
     "name": "stderr",
     "output_type": "stream",
     "text": [
      "Epoch 5/7:  90%|████████▉ | 1601/1784 [32:21<03:44,  1.23s/it]"
     ]
    },
    {
     "name": "stdout",
     "output_type": "stream",
     "text": [
      "Epoch [5/7], Step [1601/1783], Loss: 5.7129\n"
     ]
    },
    {
     "name": "stderr",
     "output_type": "stream",
     "text": [
      "Epoch 5/7:  95%|█████████▌| 1701/1784 [34:22<01:34,  1.14s/it]"
     ]
    },
    {
     "name": "stdout",
     "output_type": "stream",
     "text": [
      "Epoch [5/7], Step [1701/1783], Loss: 5.7083\n"
     ]
    },
    {
     "name": "stderr",
     "output_type": "stream",
     "text": [
      "Epoch 5/7: 100%|█████████▉| 1783/1784 [36:02<00:01,  1.21s/it]\n"
     ]
    },
    {
     "name": "stdout",
     "output_type": "stream",
     "text": [
      "break\n",
      "Epoch [5/7] Average Loss: 5.7118\n"
     ]
    },
    {
     "name": "stderr",
     "output_type": "stream",
     "text": [
      "Epoch 6/7:   0%|          | 1/1784 [00:01<35:29,  1.19s/it]"
     ]
    },
    {
     "name": "stdout",
     "output_type": "stream",
     "text": [
      "Epoch [6/7], Step [1/1783], Loss: 5.7078\n"
     ]
    },
    {
     "name": "stderr",
     "output_type": "stream",
     "text": [
      "Epoch 6/7:   6%|▌         | 101/1784 [02:02<34:38,  1.24s/it]"
     ]
    },
    {
     "name": "stdout",
     "output_type": "stream",
     "text": [
      "Epoch [6/7], Step [101/1783], Loss: 5.7125\n"
     ]
    },
    {
     "name": "stderr",
     "output_type": "stream",
     "text": [
      "Epoch 6/7:  11%|█▏        | 201/1784 [04:05<32:05,  1.22s/it]"
     ]
    },
    {
     "name": "stdout",
     "output_type": "stream",
     "text": [
      "Epoch [6/7], Step [201/1783], Loss: 5.7141\n"
     ]
    },
    {
     "name": "stderr",
     "output_type": "stream",
     "text": [
      "Epoch 6/7:  17%|█▋        | 301/1784 [06:09<30:22,  1.23s/it]"
     ]
    },
    {
     "name": "stdout",
     "output_type": "stream",
     "text": [
      "Epoch [6/7], Step [301/1783], Loss: 5.7093\n"
     ]
    },
    {
     "name": "stderr",
     "output_type": "stream",
     "text": [
      "Epoch 6/7:  22%|██▏       | 401/1784 [08:11<27:36,  1.20s/it]"
     ]
    },
    {
     "name": "stdout",
     "output_type": "stream",
     "text": [
      "Epoch [6/7], Step [401/1783], Loss: 5.7106\n"
     ]
    },
    {
     "name": "stderr",
     "output_type": "stream",
     "text": [
      "Epoch 6/7:  28%|██▊       | 501/1784 [10:14<26:12,  1.23s/it]"
     ]
    },
    {
     "name": "stdout",
     "output_type": "stream",
     "text": [
      "Epoch [6/7], Step [501/1783], Loss: 5.7130\n"
     ]
    },
    {
     "name": "stderr",
     "output_type": "stream",
     "text": [
      "Epoch 6/7:  34%|███▎      | 601/1784 [12:17<25:37,  1.30s/it]"
     ]
    },
    {
     "name": "stdout",
     "output_type": "stream",
     "text": [
      "Epoch [6/7], Step [601/1783], Loss: 5.7094\n"
     ]
    },
    {
     "name": "stderr",
     "output_type": "stream",
     "text": [
      "Epoch 6/7:  39%|███▉      | 701/1784 [14:19<21:38,  1.20s/it]"
     ]
    },
    {
     "name": "stdout",
     "output_type": "stream",
     "text": [
      "Epoch [6/7], Step [701/1783], Loss: 5.7119\n"
     ]
    },
    {
     "name": "stderr",
     "output_type": "stream",
     "text": [
      "Epoch 6/7:  45%|████▍     | 801/1784 [16:19<19:53,  1.21s/it]"
     ]
    },
    {
     "name": "stdout",
     "output_type": "stream",
     "text": [
      "Epoch [6/7], Step [801/1783], Loss: 5.7096\n"
     ]
    },
    {
     "name": "stderr",
     "output_type": "stream",
     "text": [
      "Epoch 6/7:  51%|█████     | 901/1784 [18:22<18:43,  1.27s/it]"
     ]
    },
    {
     "name": "stdout",
     "output_type": "stream",
     "text": [
      "Epoch [6/7], Step [901/1783], Loss: 5.7150\n"
     ]
    },
    {
     "name": "stderr",
     "output_type": "stream",
     "text": [
      "Epoch 6/7:  56%|█████▌    | 1001/1784 [20:24<15:56,  1.22s/it]"
     ]
    },
    {
     "name": "stdout",
     "output_type": "stream",
     "text": [
      "Epoch [6/7], Step [1001/1783], Loss: 5.7050\n"
     ]
    },
    {
     "name": "stderr",
     "output_type": "stream",
     "text": [
      "Epoch 6/7:  62%|██████▏   | 1101/1784 [22:26<13:53,  1.22s/it]"
     ]
    },
    {
     "name": "stdout",
     "output_type": "stream",
     "text": [
      "Epoch [6/7], Step [1101/1783], Loss: 5.7167\n"
     ]
    },
    {
     "name": "stderr",
     "output_type": "stream",
     "text": [
      "Epoch 6/7:  67%|██████▋   | 1201/1784 [24:28<11:53,  1.22s/it]"
     ]
    },
    {
     "name": "stdout",
     "output_type": "stream",
     "text": [
      "Epoch [6/7], Step [1201/1783], Loss: 5.7179\n"
     ]
    },
    {
     "name": "stderr",
     "output_type": "stream",
     "text": [
      "Epoch 6/7:  73%|███████▎  | 1301/1784 [26:28<09:41,  1.20s/it]"
     ]
    },
    {
     "name": "stdout",
     "output_type": "stream",
     "text": [
      "Epoch [6/7], Step [1301/1783], Loss: 5.7127\n"
     ]
    },
    {
     "name": "stderr",
     "output_type": "stream",
     "text": [
      "Epoch 6/7:  79%|███████▊  | 1401/1784 [28:31<07:59,  1.25s/it]"
     ]
    },
    {
     "name": "stdout",
     "output_type": "stream",
     "text": [
      "Epoch [6/7], Step [1401/1783], Loss: 5.7161\n"
     ]
    },
    {
     "name": "stderr",
     "output_type": "stream",
     "text": [
      "Epoch 6/7:  84%|████████▍ | 1501/1784 [30:32<05:43,  1.22s/it]"
     ]
    },
    {
     "name": "stdout",
     "output_type": "stream",
     "text": [
      "Epoch [6/7], Step [1501/1783], Loss: 5.7113\n"
     ]
    },
    {
     "name": "stderr",
     "output_type": "stream",
     "text": [
      "Epoch 6/7:  90%|████████▉ | 1601/1784 [32:34<03:48,  1.25s/it]"
     ]
    },
    {
     "name": "stdout",
     "output_type": "stream",
     "text": [
      "Epoch [6/7], Step [1601/1783], Loss: 5.7095\n"
     ]
    },
    {
     "name": "stderr",
     "output_type": "stream",
     "text": [
      "Epoch 6/7:  95%|█████████▌| 1701/1784 [34:39<01:39,  1.20s/it]"
     ]
    },
    {
     "name": "stdout",
     "output_type": "stream",
     "text": [
      "Epoch [6/7], Step [1701/1783], Loss: 5.7101\n"
     ]
    },
    {
     "name": "stderr",
     "output_type": "stream",
     "text": [
      "Epoch 6/7: 100%|█████████▉| 1783/1784 [36:19<00:01,  1.22s/it]\n"
     ]
    },
    {
     "name": "stdout",
     "output_type": "stream",
     "text": [
      "break\n",
      "Epoch [6/7] Average Loss: 5.7117\n"
     ]
    },
    {
     "name": "stderr",
     "output_type": "stream",
     "text": [
      "Epoch 7/7:   0%|          | 1/1784 [00:01<35:54,  1.21s/it]"
     ]
    },
    {
     "name": "stdout",
     "output_type": "stream",
     "text": [
      "Epoch [7/7], Step [1/1783], Loss: 5.7095\n"
     ]
    },
    {
     "name": "stderr",
     "output_type": "stream",
     "text": [
      "Epoch 7/7:   6%|▌         | 101/1784 [02:03<34:12,  1.22s/it]"
     ]
    },
    {
     "name": "stdout",
     "output_type": "stream",
     "text": [
      "Epoch [7/7], Step [101/1783], Loss: 5.7107\n"
     ]
    },
    {
     "name": "stderr",
     "output_type": "stream",
     "text": [
      "Epoch 7/7:  11%|█▏        | 201/1784 [04:05<31:40,  1.20s/it]"
     ]
    },
    {
     "name": "stdout",
     "output_type": "stream",
     "text": [
      "Epoch [7/7], Step [201/1783], Loss: 5.7138\n"
     ]
    },
    {
     "name": "stderr",
     "output_type": "stream",
     "text": [
      "Epoch 7/7:  17%|█▋        | 301/1784 [06:06<30:23,  1.23s/it]"
     ]
    },
    {
     "name": "stdout",
     "output_type": "stream",
     "text": [
      "Epoch [7/7], Step [301/1783], Loss: 5.7161\n"
     ]
    },
    {
     "name": "stderr",
     "output_type": "stream",
     "text": [
      "Epoch 7/7:  22%|██▏       | 401/1784 [08:07<27:00,  1.17s/it]"
     ]
    },
    {
     "name": "stdout",
     "output_type": "stream",
     "text": [
      "Epoch [7/7], Step [401/1783], Loss: 5.7149\n"
     ]
    },
    {
     "name": "stderr",
     "output_type": "stream",
     "text": [
      "Epoch 7/7:  26%|██▋       | 469/1784 [09:29<26:49,  1.22s/it]"
     ]
    }
   ],
   "source": [
    "batch_size = 16\n",
    "seq_length = 151\n",
    "embed_size = 512\n",
    "num_heads = 8\n",
    "dropout = 0.0\n",
    "forward_expansion = 4\n",
    "kernel_size = 7\n",
    "groups = 2\n",
    "d_model = 512\n",
    "num_layers = 12\n",
    "\n",
    "max_relative_position=128\n",
    "torch.autograd.set_detect_anomaly(True)\n",
    "\n",
    "device = 'cuda'#torch.device(\"cuda\" if torch.cuda.is_available() else \"cpu\")\n",
    "\n",
    "model = Model_W2V(embed_size, num_heads, dropout, forward_expansion, kernel_size, groups, embed_size, num_layers, max_relative_position).to(device)\n",
    "\n",
    "\n",
    "loss_123 = train_model(model, dataset, epochs=7, learning_rate=5e-4, device=device)\n"
   ]
  },
  {
   "cell_type": "code",
   "execution_count": null,
   "metadata": {},
   "outputs": [],
   "source": [
    "import matplotlib.pyplot as plt\n",
    "plt.figure()\n",
    "plt.plot(loss_123)"
   ]
  },
  {
   "cell_type": "code",
   "execution_count": null,
   "metadata": {},
   "outputs": [],
   "source": []
  },
  {
   "cell_type": "code",
   "execution_count": null,
   "metadata": {},
   "outputs": [],
   "source": [
    "1"
   ]
  },
  {
   "cell_type": "code",
   "execution_count": null,
   "metadata": {},
   "outputs": [],
   "source": [
    "from sklearn.metrics import accuracy_score, f1_score"
   ]
  },
  {
   "cell_type": "code",
   "execution_count": 27,
   "metadata": {},
   "outputs": [
    {
     "data": {
      "text/plain": [
       "28539"
      ]
     },
     "execution_count": 27,
     "metadata": {},
     "output_type": "execute_result"
    }
   ],
   "source": [
    "len(dataset)"
   ]
  },
  {
   "cell_type": "code",
   "execution_count": null,
   "metadata": {
    "scrolled": true
   },
   "outputs": [],
   "source": [
    "model.eval()\n",
    "\n",
    "# Créez un DataLoader pour le jeu de données de test\n",
    "dataset = TempLibriSpeech.LibriSpeech(split=\"test-clean\", target_length=480000, device='cuda')\n",
    "data_loader = DataLoader(dataset, batch_size=16, shuffle=False)\n",
    "\n",
    "all_quantized_reps = []\n",
    "all_contextualized_reps = []\n",
    "\n",
    "# Calcul de la perte de reconstruction ou de quantification\n",
    "total_loss = 0\n",
    "with torch.no_grad():\n",
    "    for batch_idx, batch in enumerate(data_loader):\n",
    "        inputs, _ = batch  # Ici, _ signifie qu'il n'y a pas de labels\n",
    "        \n",
    "        inputs = inputs.to('cuda')  # Assurez-vous que les inputs sont sur le bon device\n",
    "\n",
    "        # Passe avant\n",
    "        quantized_repr, contextualized_reps, loss = model(inputs)\n",
    "\n",
    "        # Ajout des représentations à la liste\n",
    "        all_quantized_reps.append(quantized_repr.cpu().numpy())\n",
    "        all_contextualized_reps.append(contextualized_reps.cpu().numpy())\n",
    "\n",
    "        # Accumuler la perte\n",
    "        total_loss += loss.item()\n",
    "\n",
    "# Calcul de la moyenne de la perte sur l'ensemble du dataset\n",
    "average_loss = total_loss / len(data_loader)\n",
    "\n",
    "# Affichage des résultats\n",
    "print(f\"Average Loss: {average_loss:.4f}\")\n"
   ]
  },
  {
   "cell_type": "code",
   "execution_count": null,
   "metadata": {},
   "outputs": [],
   "source": [
    "average_loss = total_loss / len(data_loader)\n",
    "\n",
    "# Affichage des résultats\n",
    "print(f\"Average Loss: {average_loss:.4f}\")"
   ]
  },
  {
   "cell_type": "code",
   "execution_count": null,
   "metadata": {},
   "outputs": [],
   "source": [
    "inputs"
   ]
  },
  {
   "cell_type": "code",
   "execution_count": 16,
   "metadata": {},
   "outputs": [],
   "source": [
    "torch.cuda.empty_cache()"
   ]
  },
  {
   "cell_type": "code",
   "execution_count": null,
   "metadata": {},
   "outputs": [],
   "source": []
  }
 ],
 "metadata": {
  "kernelspec": {
   "display_name": "Python 3 (ipykernel)",
   "language": "python",
   "name": "python3"
  },
  "language_info": {
   "codemirror_mode": {
    "name": "ipython",
    "version": 3
   },
   "file_extension": ".py",
   "mimetype": "text/x-python",
   "name": "python",
   "nbconvert_exporter": "python",
   "pygments_lexer": "ipython3",
   "version": "3.10.12"
  }
 },
 "nbformat": 4,
 "nbformat_minor": 4
}
