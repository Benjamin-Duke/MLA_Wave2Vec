{
  "cells": [
    {
      "cell_type": "code",
      "source": [
        "import torch\n",
        "import torch.nn as nn\n",
        "import torch.nn.functional as F\n",
        "import math\n",
        "from dataclasses import dataclass\n",
        "\n",
        "@dataclass\n",
        "class Wav2Vec2Config:\n",
        "    # Feature encoder\n",
        "    conv_layers: list = None\n",
        "    dropout: float = 0.1\n",
        "    layer_drop: float = 0.05\n",
        "\n",
        "    # Transformer\n",
        "    d_model: int = 768\n",
        "    nhead: int = 8\n",
        "    num_encoder_layers: int = 12\n",
        "    dim_feedforward: int = 3072\n",
        "\n",
        "    # Quantizer\n",
        "    num_groups: int = 2\n",
        "    num_vars: int = 320\n",
        "    temp: float = 2.0\n",
        "    min_temp: float = 0.5\n",
        "    temp_decay: float = 0.999995\n",
        "\n",
        "    # Masking\n",
        "    mask_prob: float = 0.065\n",
        "    mask_length: int = 10\n",
        "\n",
        "    # Training\n",
        "    learning_rate: float = 5e-4\n",
        "\n",
        "    @classmethod\n",
        "    def BASE(cls):\n",
        "        return cls(\n",
        "            conv_layers=[(512, 10, 5)] + [(512, 3, 2)] * 5 + [(512, 2, 2)],\n",
        "            layer_drop=0.05,\n",
        "        )\n",
        "\n",
        "    @classmethod\n",
        "    def TINY(cls):\n",
        "        \"\"\"Tiny configuration for fast testing\"\"\"\n",
        "        return cls(\n",
        "            conv_layers=[(256, 10, 5)] + [(256, 3, 2)] * 3 + [(256, 2, 2)],  # Fewer layers, smaller channels\n",
        "            d_model=256,  # Smaller model dimension\n",
        "            nhead=4,      # Fewer attention heads\n",
        "            num_encoder_layers=4,  # Fewer transformer layers\n",
        "            dim_feedforward=1024,  # Smaller feedforward dimension\n",
        "            layer_drop=0.05,\n",
        "            num_groups=2,\n",
        "            num_vars=160,  # Smaller codebook\n",
        "            learning_rate=1e-3,  # Slightly higher learning rate for faster convergence\n",
        "        )\n",
        "\n",
        "    @classmethod\n",
        "    def LARGE(cls):\n",
        "        return cls(\n",
        "            conv_layers=[(512, 10, 5)] + [(512, 3, 2)] * 5 + [(512, 2, 2)],\n",
        "            d_model=1024,\n",
        "            nhead=16,\n",
        "            num_encoder_layers=24,\n",
        "            dim_feedforward=4096,\n",
        "            layer_drop=0.2,\n",
        "            min_temp=0.1,\n",
        "            learning_rate=3e-4,\n",
        "        )\n",
        "\n",
        "class FeatureEncoder(nn.Module):\n",
        "    def __init__(self, conv_layers=[(512, 10, 5)] + [(512, 3, 2)] * 5 + [(512, 2, 2)]):\n",
        "        super().__init__()\n",
        "\n",
        "        layers = []\n",
        "        in_channels = 1  # raw audio input\n",
        "        for out_channels, kernel_size, stride in conv_layers:\n",
        "            layers.append(\n",
        "                nn.Sequential(\n",
        "                    nn.Conv1d(in_channels, out_channels, kernel_size, stride=stride),\n",
        "                    nn.GroupNorm(8, out_channels),\n",
        "                    nn.GELU(),\n",
        "                    nn.Dropout(0.1),\n",
        "                )\n",
        "            )\n",
        "            in_channels = out_channels\n",
        "\n",
        "        self.layers = nn.ModuleList(layers)\n",
        "\n",
        "    def forward(self, x):\n",
        "        # x shape: (batch_size, sequence_length)\n",
        "        x = x.unsqueeze(1)  # Add channel dimension\n",
        "        for layer in self.layers:\n",
        "            x = layer(x)\n",
        "        return x.transpose(1, 2)  # Return (batch_size, time_steps, channels)\n",
        "\n",
        "class ProductQuantizer(nn.Module):\n",
        "    def __init__(self, input_dim, num_groups=2, num_vars=320, temp=2.0, min_temp=0.5, temp_decay=0.999995):\n",
        "        super().__init__()\n",
        "        self.num_groups = num_groups\n",
        "        self.num_vars = num_vars\n",
        "        self.temp = temp\n",
        "        self.min_temp = min_temp\n",
        "        self.temp_decay = temp_decay\n",
        "\n",
        "        self.vars = nn.Parameter(torch.FloatTensor(num_groups * num_vars, input_dim // num_groups))\n",
        "        nn.init.uniform_(self.vars)\n",
        "\n",
        "        self.weight_proj = nn.Linear(input_dim, num_groups * num_vars)\n",
        "        self.dropout = nn.Dropout(0.1)\n",
        "\n",
        "    def forward(self, x):\n",
        "        x = self.dropout(x)\n",
        "        bsz, tsz, fsz = x.shape\n",
        "\n",
        "        # Project to G x V logits\n",
        "        x = self.weight_proj(x)\n",
        "        x = x.view(bsz * tsz, self.num_groups, self.num_vars)\n",
        "\n",
        "        if self.training:\n",
        "            # Gumbel noise\n",
        "            uniform_noise = torch.rand_like(x)\n",
        "            gumbel = -torch.log(-torch.log(uniform_noise + 1e-10) + 1e-10)\n",
        "\n",
        "            # Apply formula: exp((l_{g,v} + n_v)/τ) / sum_k(exp((l_{g,k} + n_k)/τ))\n",
        "            logits_with_noise = (x + gumbel) / self.temp\n",
        "            numerator = torch.exp(logits_with_noise)\n",
        "            denominator = numerator.sum(dim=-1, keepdim=True)\n",
        "            x = numerator / denominator\n",
        "\n",
        "            # Update temperature\n",
        "            self.temp = max(self.temp * self.temp_decay, self.min_temp)\n",
        "        else:\n",
        "            # During inference, use straight-through estimator\n",
        "            logits = x / self.temp\n",
        "            x = F.softmax(logits, dim=-1)\n",
        "\n",
        "        # Straight-through Gumbel-Softmax\n",
        "        indices = x.max(dim=-1)[1]\n",
        "        x_hard = torch.zeros_like(x).scatter_(-1, indices.unsqueeze(-1), 1.0)\n",
        "        x = (x_hard - x).detach() + x\n",
        "\n",
        "        return x.view(bsz, tsz, -1)\n",
        "\n",
        "class Wav2Vec2(nn.Module):\n",
        "    def __init__(self, config: Wav2Vec2Config):\n",
        "        super().__init__()\n",
        "\n",
        "        self.config = config\n",
        "        # Feature encoder with layer norm and GELU\n",
        "        self.feature_encoder = FeatureEncoder(config.conv_layers)\n",
        "\n",
        "        # Calculate the encoder output dimension based on the last conv layer\n",
        "        last_conv_channels = config.conv_layers[-1][0]\n",
        "\n",
        "        # Add projection layer to match transformer dimensions\n",
        "        self.proj = nn.Linear(last_conv_channels, config.d_model)\n",
        "\n",
        "        # Add projection for quantized vectors\n",
        "        self.quantizer_proj = nn.Linear(config.num_groups * config.num_vars, config.d_model)\n",
        "\n",
        "        # Layer normalization\n",
        "        self.layer_norm = nn.LayerNorm(config.d_model)\n",
        "\n",
        "        # Context network components\n",
        "        # 1. Convolutional layer for relative positional embedding\n",
        "        kernel_size = 128\n",
        "        # Calculate padding to maintain sequence length\n",
        "        padding = kernel_size  # Full padding on both sides\n",
        "        self.context_pos_conv = nn.Sequential(\n",
        "            nn.Conv1d(\n",
        "                config.d_model,\n",
        "                config.d_model,\n",
        "                kernel_size=kernel_size,\n",
        "                padding=padding,\n",
        "                groups=16,\n",
        "                padding_mode='replicate'  # Use replicate padding to avoid edge effects\n",
        "            ),\n",
        "            nn.GELU()\n",
        "        )\n",
        "\n",
        "        # 2. Transformer encoder\n",
        "        encoder_layer = nn.TransformerEncoderLayer(\n",
        "            d_model=config.d_model,\n",
        "            nhead=config.nhead,\n",
        "            dim_feedforward=config.dim_feedforward,\n",
        "            dropout=config.dropout,\n",
        "            activation=\"gelu\",\n",
        "            batch_first=True\n",
        "        )\n",
        "        self.transformer = nn.TransformerEncoder(encoder_layer, config.num_encoder_layers)\n",
        "\n",
        "        # Quantizer\n",
        "        self.quantizer = ProductQuantizer(\n",
        "            config.d_model,\n",
        "            num_groups=config.num_groups,\n",
        "            num_vars=config.num_vars,\n",
        "            temp=config.temp,\n",
        "            min_temp=config.min_temp,\n",
        "            temp_decay=config.temp_decay\n",
        "        )\n",
        "\n",
        "        self.mask_emb = nn.Parameter(torch.FloatTensor(config.d_model).uniform_())\n",
        "\n",
        "    def apply_mask(self, x, mask_prob=0.065, mask_length=10):\n",
        "        B, T, C = x.shape\n",
        "\n",
        "        # Calculate how many starting indices to sample\n",
        "        num_mask = int(T * mask_prob)\n",
        "\n",
        "        # Sample starting indices\n",
        "        mask_starts = torch.randperm(T)[:num_mask]\n",
        "\n",
        "        # Create mask tensor\n",
        "        mask = torch.zeros(B, T, dtype=torch.bool, device=x.device)\n",
        "\n",
        "        # For each starting index, mask the subsequent M time steps\n",
        "        for start in mask_starts:\n",
        "            end = min(start + mask_length, T)\n",
        "            mask[:, start:end] = True\n",
        "\n",
        "        return mask\n",
        "\n",
        "    def forward(self, x, mask=True):\n",
        "        # Debug: Print input shape\n",
        "        # print(f\"\\nShape tracking:\")\n",
        "        # print(f\"Raw input: {x.shape}\")\n",
        "\n",
        "        # 1. Feature encoder (provides initial relative positional information)\n",
        "        x = self.feature_encoder(x)\n",
        "        # print(f\"After feature encoder: {x.shape}\")\n",
        "\n",
        "        # 2. Project to transformer dimension\n",
        "        x = self.proj(x)\n",
        "        # print(f\"After projection: {x.shape}\")\n",
        "\n",
        "        # 3. Initialize mask_indices\n",
        "        mask_indices = None\n",
        "\n",
        "        # 4. Apply masking if requested\n",
        "        if mask:\n",
        "            mask_indices = self.apply_mask(\n",
        "                x,\n",
        "                mask_prob=self.config.mask_prob,\n",
        "                mask_length=self.config.mask_length\n",
        "            )\n",
        "            x = torch.where(\n",
        "                mask_indices.unsqueeze(-1),\n",
        "                self.mask_emb.view(1, 1, -1).expand(x.shape[0], -1, -1),\n",
        "                x\n",
        "            )\n",
        "        # print(f\"After masking: {x.shape}\")\n",
        "\n",
        "        # 5. Layer normalization\n",
        "        x = self.layer_norm(x)\n",
        "        # print(f\"After layer norm: {x.shape}\")\n",
        "\n",
        "        # 6. Context network processing\n",
        "        # Add relative positional information through convolution\n",
        "        x_t = x.transpose(1, 2)  # [B, T, C] -> [B, C, T]\n",
        "        # print(f\"Before context conv: {x_t.shape}\")\n",
        "\n",
        "        # Save original sequence length\n",
        "        orig_len = x_t.size(2)\n",
        "\n",
        "        # Apply convolution and ensure output length matches input\n",
        "        pos_embedding = self.context_pos_conv(x_t)  # Apply conv and GELU\n",
        "\n",
        "        # Ensure we get exactly the sequence length we want\n",
        "        if pos_embedding.size(2) > orig_len:\n",
        "            # If too long, trim from both ends equally\n",
        "            excess = pos_embedding.size(2) - orig_len\n",
        "            start = excess // 2\n",
        "            pos_embedding = pos_embedding[:, :, start:start + orig_len]\n",
        "        elif pos_embedding.size(2) < orig_len:\n",
        "            # If too short, pad both ends equally\n",
        "            pad_size = orig_len - pos_embedding.size(2)\n",
        "            pad_left = pad_size // 2\n",
        "            pad_right = pad_size - pad_left\n",
        "            pos_embedding = F.pad(pos_embedding, (pad_left, pad_right), mode='replicate')\n",
        "\n",
        "        # print(f\"After context conv: {pos_embedding.shape}\")\n",
        "\n",
        "        pos_embedding = pos_embedding.transpose(1, 2)  # [B, C, T] -> [B, T, C]\n",
        "        # print(f\"After transpose: {pos_embedding.shape}\")\n",
        "\n",
        "        # Verify shapes match before adding\n",
        "        assert x.shape == pos_embedding.shape, f\"Shape mismatch: x={x.shape}, pos_embedding={pos_embedding.shape}\"\n",
        "        x = x + pos_embedding\n",
        "\n",
        "        # 7. Transformer processing\n",
        "        c = self.transformer(x)\n",
        "        # print(f\"After transformer: {c.shape}\")\n",
        "\n",
        "        # 8. Quantization\n",
        "        q = self.quantizer(c)\n",
        "        q = self.quantizer_proj(q)\n",
        "        # print(f\"Final quantized: {q.shape}\")\n",
        "\n",
        "        if not mask:\n",
        "            mask_indices = torch.zeros(x.shape[0], x.shape[1], dtype=torch.bool, device=x.device)\n",
        "\n",
        "        return c, q, mask_indices\n",
        "\n",
        "    def compute_loss(self, c, q, mask_indices, eps=1e-7):\n",
        "        \"\"\"\n",
        "        Compute contrastive loss and diversity loss for wav2vec 2.0 training\n",
        "        \"\"\"\n",
        "        # Check if we have any masked indices\n",
        "        if mask_indices.sum() == 0:\n",
        "            return torch.tensor(0.0, device=c.device, requires_grad=True)\n",
        "\n",
        "        # Only compute loss on masked indices\n",
        "        c = c[mask_indices]\n",
        "        q = q[mask_indices]\n",
        "\n",
        "        if c.size(0) == 0:  # No masked positions\n",
        "            return torch.tensor(0.0, device=c.device, requires_grad=True)\n",
        "\n",
        "        # Compute cosine similarity with numerical stability\n",
        "        c = F.normalize(c + eps, dim=-1)\n",
        "        q = F.normalize(q + eps, dim=-1)\n",
        "\n",
        "        # Compute contrastive loss\n",
        "        temperature = 0.1\n",
        "        logits = torch.matmul(c, q.transpose(0, 1)) / temperature\n",
        "\n",
        "        # Clamp logits for numerical stability\n",
        "        logits = torch.clamp(logits, min=-100, max=100)\n",
        "        targets = torch.arange(logits.size(0), device=logits.device)\n",
        "\n",
        "        contrastive_loss = F.cross_entropy(logits, targets)\n",
        "\n",
        "        # Compute diversity loss with safety checks\n",
        "        try:\n",
        "            prob_perplexity = self.compute_prob_perplexity()\n",
        "            diversity_loss = -torch.log(prob_perplexity + eps) * 0.1\n",
        "\n",
        "            # Clamp diversity loss for stability\n",
        "            diversity_loss = torch.clamp(diversity_loss, min=-10, max=10)\n",
        "        except Exception as e:\n",
        "            print(f\"Warning: Error computing diversity loss: {e}\")\n",
        "            diversity_loss = torch.tensor(0.0, device=c.device, requires_grad=True)\n",
        "\n",
        "        # Total loss\n",
        "        loss = contrastive_loss + diversity_loss\n",
        "\n",
        "        # Print loss components only if they're valid\n",
        "        # if self.training and not torch.isnan(loss) and not torch.isinf(loss):\n",
        "        #     print(f\"\\nLoss components:\")\n",
        "        #     print(f\"Contrastive loss: {contrastive_loss.item():.4f}\")\n",
        "        #     print(f\"Diversity loss: {diversity_loss.item():.4f}\")\n",
        "        #     print(f\"Total loss: {loss.item():.4f}\")\n",
        "        #     print(f\"Prob perplexity: {prob_perplexity.item():.2f}\")\n",
        "\n",
        "        return loss\n",
        "\n",
        "    def compute_prob_perplexity(self, eps=1e-7):\n",
        "        \"\"\"\n",
        "        Compute the perplexity of the averaged softmax probability over codebook entries\n",
        "        This helps ensure even usage of the codebook vectors\n",
        "        \"\"\"\n",
        "        # Get the weight matrix from the quantizer projection\n",
        "        logits = self.quantizer.weight_proj.weight\n",
        "\n",
        "        # Reshape to (num_groups, num_vars, -1)\n",
        "        logits = logits.view(\n",
        "            self.config.num_groups,\n",
        "            self.config.num_vars,\n",
        "            -1\n",
        "        )\n",
        "\n",
        "        # Compute softmax probabilities with numerical stability\n",
        "        logits = torch.clamp(logits, min=-100, max=100)\n",
        "        probs = F.softmax(logits, dim=1)  # Along codebook dimension\n",
        "\n",
        "        # Average over feature dimension\n",
        "        avg_probs = probs.mean(dim=-1)\n",
        "\n",
        "        # Add small epsilon to avoid log(0)\n",
        "        avg_probs = avg_probs + eps\n",
        "\n",
        "        # Compute perplexity for each group\n",
        "        perplexities = []\n",
        "        for g in range(self.config.num_groups):\n",
        "            p = avg_probs[g]\n",
        "            # Normalize probabilities to sum to 1\n",
        "            p = p / p.sum()\n",
        "            perplexity = torch.exp(-torch.sum(p * torch.log(p)))\n",
        "            perplexities.append(perplexity)\n",
        "\n",
        "        # Average perplexity across groups\n",
        "        avg_perplexity = torch.stack(perplexities).mean()\n",
        "\n",
        "        return avg_perplexity\n",
        "\n",
        "    def _sample_negatives(self, pos_indices, num_masked, num_negatives):\n",
        "        \"\"\"Sample negative indices from other masked positions.\"\"\"\n",
        "        with torch.no_grad():\n",
        "            # Create a range of all masked indices\n",
        "            all_indices = torch.arange(num_masked, device=pos_indices.device)\n",
        "\n",
        "            # For each positive, sample K distractors from other masked positions\n",
        "            neg_indices = []\n",
        "            for i in range(len(pos_indices)):\n",
        "                # Exclude the current positive index\n",
        "                valid_indices = torch.cat([all_indices[:i], all_indices[i+1:]])\n",
        "                # Sample K indices\n",
        "                sampled = valid_indices[torch.randperm(len(valid_indices))[:num_negatives]]\n",
        "                neg_indices.append(sampled)\n",
        "\n",
        "            return torch.stack(neg_indices)"
      ],
      "metadata": {
        "id": "czcysG3BVymc"
      },
      "execution_count": 125,
      "outputs": []
    },
    {
      "cell_type": "code",
      "source": [
        "import os\n",
        "import numpy as np\n",
        "import torch\n",
        "import torchaudio\n",
        "\n",
        "class LibriSpeech(torch.utils.data.Dataset):\n",
        "    def __init__(self, split=\"test-clean\", target_length=480000, device='cpu'):\n",
        "        self.dataset = torchaudio.datasets.LIBRISPEECH(\n",
        "            root=os.path.expanduser(\"~/.cache\"),\n",
        "            url=split,\n",
        "            download=True,\n",
        "        )\n",
        "        self.device = device\n",
        "        self.target_length = target_length\n",
        "    def __len__(self):\n",
        "        return len(self.dataset)\n",
        "    def __getitem__(self, item):\n",
        "        audio, sample_rate, text, _, _, _ = self.dataset[item]\n",
        "        assert sample_rate == 16000\n",
        "        audio = audio.flatten().numpy()\n",
        "        audio_length = len(audio)\n",
        "        if audio_length < self.target_length:\n",
        "            padding = np.zeros(self.target_length - audio_length)\n",
        "            audio = np.concatenate((audio, padding))\n",
        "        elif audio_length > self.target_length:\n",
        "            audio = audio[:self.target_length]\n",
        "        audio = torch.tensor(audio, dtype=torch.float32)\n",
        "        return audio, text"
      ],
      "metadata": {
        "id": "IRZY8Y83Wfkm"
      },
      "execution_count": 126,
      "outputs": []
    },
    {
      "cell_type": "code",
      "source": [
        "import torch\n",
        "import torch.nn as nn\n",
        "import torch.optim as optim\n",
        "from torch.utils.data import DataLoader\n",
        "from torch.nn.utils import clip_grad_norm_\n",
        "import math\n",
        "from tqdm import tqdm\n",
        "import matplotlib.pyplot as plt\n",
        "import os\n",
        "from datetime import datetime\n",
        "import json\n",
        "\n",
        "class WarmupLinearSchedule(optim.lr_scheduler._LRScheduler):\n",
        "    def __init__(self, optimizer, warmup_steps, total_steps, last_epoch=-1):\n",
        "        self.warmup_steps = warmup_steps\n",
        "        self.total_steps = total_steps\n",
        "        super(WarmupLinearSchedule, self).__init__(optimizer, last_epoch)\n",
        "\n",
        "    def get_lr(self):\n",
        "        step = self.last_epoch\n",
        "        if step < self.warmup_steps:\n",
        "            # Linear warmup\n",
        "            return [base_lr * step / self.warmup_steps for base_lr in self.base_lrs]\n",
        "        else:\n",
        "            # Linear decay\n",
        "            return [base_lr * (self.total_steps - step) / (self.total_steps - self.warmup_steps)\n",
        "                   for base_lr in self.base_lrs]\n",
        "\n",
        "class Trainer:\n",
        "    def __init__(\n",
        "        self,\n",
        "        model: Wav2Vec2,\n",
        "        train_dataset: LibriSpeech,\n",
        "        val_dataset: LibriSpeech,\n",
        "        config: Wav2Vec2Config,\n",
        "        device: torch.device,\n",
        "        is_librispeech: bool = True,\n",
        "        patience: int = 10,\n",
        "        log_dir: str = \"runs\",\n",
        "        batch_size: int = 8,\n",
        "        checkpoint_dir: str = \"checkpoints\",\n",
        "        loader_kwargs: dict = None\n",
        "    ):\n",
        "        self.model = model.to(device)\n",
        "        self.device = device\n",
        "        self.config = config\n",
        "        self.is_librispeech = is_librispeech\n",
        "        self.patience = patience\n",
        "        self.log_dir = log_dir\n",
        "        self.checkpoint_dir = checkpoint_dir\n",
        "\n",
        "        # Create log directory\n",
        "        self.run_dir = os.path.join(log_dir, datetime.now().strftime(\"%Y%m%d_%H%M%S\"))\n",
        "        os.makedirs(self.run_dir, exist_ok=True)\n",
        "\n",
        "        # Initialize metrics tracking\n",
        "        self.train_losses = []\n",
        "        self.val_losses = []\n",
        "        self.learning_rates = []\n",
        "        self.current_epoch = 0\n",
        "\n",
        "        # Early stopping variables\n",
        "        self.patience_counter = 0\n",
        "        self.best_val_loss = float('inf')\n",
        "        self.early_stop = False\n",
        "\n",
        "        # Librispeech specific regularization\n",
        "        if is_librispeech:\n",
        "            self.encoder_grad_scale = 0.1\n",
        "            self.l2_regularization = True\n",
        "        else:\n",
        "            self.encoder_grad_scale = 1.0\n",
        "            self.l2_regularization = False\n",
        "\n",
        "        # Use provided loader kwargs or default\n",
        "        if loader_kwargs is None:\n",
        "            loader_kwargs = {\n",
        "                'batch_size': batch_size,\n",
        "                'num_workers': 2 if device.type == 'cuda' else 0,\n",
        "                'pin_memory': device.type == 'cuda',\n",
        "            }\n",
        "\n",
        "        # Create data loaders\n",
        "        self.train_loader = DataLoader(\n",
        "            train_dataset,\n",
        "            shuffle=True,\n",
        "            **loader_kwargs\n",
        "        )\n",
        "\n",
        "        self.val_loader = DataLoader(\n",
        "            val_dataset,\n",
        "            shuffle=False,\n",
        "            **loader_kwargs\n",
        "        )\n",
        "\n",
        "        # Setup optimizer\n",
        "        self.optimizer = optim.Adam(model.parameters(), lr=config.learning_rate)\n",
        "\n",
        "        # Setup learning rate scheduler\n",
        "        total_steps = 400000 if config.d_model == 768 else 250000  # BASE vs LARGE\n",
        "        warmup_steps = int(0.08 * total_steps)  # 8% warmup\n",
        "        self.scheduler = WarmupLinearSchedule(\n",
        "            self.optimizer,\n",
        "            warmup_steps=warmup_steps,\n",
        "            total_steps=total_steps\n",
        "        )\n",
        "\n",
        "    def save_checkpoint(self, is_best=False):\n",
        "        checkpoint = {\n",
        "            'epoch': self.current_epoch,\n",
        "            'model_state_dict': self.model.state_dict(),\n",
        "            'optimizer_state_dict': self.optimizer.state_dict(),\n",
        "            'scheduler_state_dict': self.scheduler.state_dict(),\n",
        "            'best_val_loss': self.best_val_loss,\n",
        "            'train_losses': self.train_losses,\n",
        "            'val_losses': self.val_losses,\n",
        "            'learning_rates': self.learning_rates,\n",
        "            'config': self.config,\n",
        "        }\n",
        "\n",
        "        # Save latest checkpoint\n",
        "        latest_path = os.path.join(self.checkpoint_dir, \"latest_checkpoint.pt\")\n",
        "        torch.save(checkpoint, latest_path)\n",
        "\n",
        "        # Save best model if needed\n",
        "        if is_best:\n",
        "            best_path = os.path.join(self.checkpoint_dir, \"best_model.pt\")\n",
        "            torch.save(checkpoint, best_path)\n",
        "            print(f\"Saved best model with validation loss: {self.best_val_loss:.4f}\")\n",
        "\n",
        "    def load_checkpoint(self, checkpoint_path):\n",
        "        checkpoint = torch.load(checkpoint_path, map_location=self.device)\n",
        "        self.model.load_state_dict(checkpoint['model_state_dict'])\n",
        "        self.optimizer.load_state_dict(checkpoint['optimizer_state_dict'])\n",
        "        self.scheduler.load_state_dict(checkpoint['scheduler_state_dict'])\n",
        "        self.current_epoch = checkpoint['epoch']\n",
        "        self.best_val_loss = checkpoint['best_val_loss']\n",
        "        self.train_losses = checkpoint['train_losses']\n",
        "        self.val_losses = checkpoint['val_losses']\n",
        "        self.learning_rates = checkpoint['learning_rates']\n",
        "        print(f\"Loaded checkpoint from epoch {self.current_epoch}\")\n",
        "\n",
        "    def save_metrics(self):\n",
        "        metrics = {\n",
        "            'train_losses': self.train_losses,\n",
        "            'val_losses': self.val_losses,\n",
        "            'learning_rates': self.learning_rates\n",
        "        }\n",
        "        with open(os.path.join(self.run_dir, 'metrics.json'), 'w') as f:\n",
        "            json.dump(metrics, f)\n",
        "\n",
        "    def plot_metrics(self):\n",
        "        plt.figure(figsize=(12, 8))\n",
        "\n",
        "        # Plot losses\n",
        "        plt.subplot(2, 1, 1)\n",
        "        plt.plot(self.train_losses, label='Train Loss')\n",
        "        plt.plot(self.val_losses, label='Validation Loss')\n",
        "        plt.title('Training and Validation Losses')\n",
        "        plt.xlabel('Epoch')\n",
        "        plt.ylabel('Loss')\n",
        "        plt.legend()\n",
        "\n",
        "        # Plot learning rate\n",
        "        plt.subplot(2, 1, 2)\n",
        "        plt.plot(self.learning_rates, label='Learning Rate')\n",
        "        plt.title('Learning Rate Schedule')\n",
        "        plt.xlabel('Step')\n",
        "        plt.ylabel('Learning Rate')\n",
        "        plt.legend()\n",
        "\n",
        "        plt.tight_layout()\n",
        "        plt.savefig(os.path.join(self.run_dir, 'training_metrics.png'))\n",
        "        plt.close()\n",
        "\n",
        "    def train_epoch(self):\n",
        "        self.model.train()\n",
        "        total_loss = 0\n",
        "\n",
        "        for batch_idx, batch in enumerate(tqdm(self.train_loader, desc=\"Training\")):\n",
        "            audio = batch[0].to(self.device)\n",
        "\n",
        "            # Print shapes for debugging (only first batch)\n",
        "            if batch_idx == 0:\n",
        "                print(f\"\\nInput audio shape: {audio.shape}\")\n",
        "\n",
        "            try:\n",
        "                # Forward pass\n",
        "                c, q, mask_indices = self.model(audio)\n",
        "\n",
        "                # Print shapes for debugging (only first batch)\n",
        "                if batch_idx == 0:\n",
        "                    print(f\"Context output shape: {c.shape}\")\n",
        "                    print(f\"Quantized output shape: {q.shape}\")\n",
        "                    print(f\"Mask indices shape: {mask_indices.shape}\")\n",
        "                    print(f\"Number of masked positions: {mask_indices.sum().item()}\")\n",
        "\n",
        "                # Compute loss\n",
        "                loss = self.model.compute_loss(c, q, mask_indices)\n",
        "\n",
        "                if batch_idx == 0:\n",
        "                    print(f\"Initial loss: {loss.item():.4f}\")\n",
        "\n",
        "                # Add L2 regularization for Librispeech\n",
        "                if self.l2_regularization:\n",
        "                    l2_loss = 0.0\n",
        "                    for name, param in self.model.feature_encoder.named_parameters():\n",
        "                        if 'weight' in name:\n",
        "                            l2_loss += torch.norm(param)\n",
        "                    loss += 0.01 * l2_loss\n",
        "\n",
        "                    if batch_idx == 0:\n",
        "                        print(f\"L2 loss: {l2_loss.item():.4f}\")\n",
        "                        print(f\"Total loss: {loss.item():.4f}\")\n",
        "\n",
        "                # Backward pass\n",
        "                self.optimizer.zero_grad()\n",
        "                loss.backward()\n",
        "\n",
        "                # Scale gradients for feature encoder if using Librispeech\n",
        "                if self.is_librispeech:\n",
        "                    for param in self.model.feature_encoder.parameters():\n",
        "                        param.grad *= self.encoder_grad_scale\n",
        "\n",
        "                # Clip gradients\n",
        "                grad_norm = clip_grad_norm_(self.model.parameters(), max_norm=5.0)\n",
        "                if batch_idx == 0:\n",
        "                    print(f\"Gradient norm: {grad_norm:.4f}\")\n",
        "\n",
        "                self.optimizer.step()\n",
        "                self.scheduler.step()\n",
        "\n",
        "                # Track learning rate\n",
        "                self.learning_rates.append(self.scheduler.get_last_lr()[0])\n",
        "\n",
        "                total_loss += loss.item()\n",
        "\n",
        "                # Print batch statistics (only first few batches)\n",
        "                if batch_idx < 5:\n",
        "                    print(f\"Batch {batch_idx}, Loss: {loss.item():.4f}\")\n",
        "\n",
        "            except RuntimeError as e:\n",
        "                print(f\"\\nError in batch {batch_idx}:\")\n",
        "                print(f\"Input shape: {audio.shape}\")\n",
        "                raise e\n",
        "\n",
        "        return total_loss / len(self.train_loader)\n",
        "\n",
        "    def validate(self):\n",
        "        self.model.eval()\n",
        "        total_loss = 0\n",
        "        num_batches = 0\n",
        "\n",
        "        with torch.no_grad():\n",
        "            for batch_idx, batch in enumerate(tqdm(self.val_loader, desc=\"Validation\")):\n",
        "                audio = batch[0].to(self.device)\n",
        "\n",
        "                # Forward pass with masking enabled\n",
        "                c, q, mask_indices = self.model(audio, mask=True)\n",
        "\n",
        "                # Print shapes for debugging (only first batch)\n",
        "                if batch_idx == 0:\n",
        "                    print(f\"\\nValidation batch shapes:\")\n",
        "                    print(f\"Context output shape: {c.shape}\")\n",
        "                    print(f\"Quantized output shape: {q.shape}\")\n",
        "                    print(f\"Mask indices shape: {mask_indices.shape}\")\n",
        "                    print(f\"Number of masked positions: {mask_indices.sum().item()}\")\n",
        "\n",
        "                # Compute loss\n",
        "                loss = self.model.compute_loss(c, q, mask_indices)\n",
        "\n",
        "                if not torch.isnan(loss) and not torch.isinf(loss):\n",
        "                    total_loss += loss.item()\n",
        "                    num_batches += 1\n",
        "\n",
        "                    if batch_idx == 0:\n",
        "                        print(f\"First validation batch loss: {loss.item():.4f}\")\n",
        "\n",
        "        # Compute average loss\n",
        "        avg_loss = total_loss / num_batches if num_batches > 0 else float('inf')\n",
        "        print(f\"\\nValidation stats:\")\n",
        "        print(f\"Total batches: {num_batches}\")\n",
        "        print(f\"Average loss: {avg_loss:.4f}\")\n",
        "\n",
        "        return avg_loss\n",
        "\n",
        "    def train(self, num_epochs):\n",
        "        for epoch in range(self.current_epoch, num_epochs):\n",
        "            self.current_epoch = epoch\n",
        "            print(f\"\\nEpoch {epoch+1}/{num_epochs}\")\n",
        "\n",
        "            # Training\n",
        "            train_loss = self.train_epoch()\n",
        "            self.train_losses.append(train_loss)\n",
        "            print(f\"Training Loss: {train_loss:.4f}\")\n",
        "\n",
        "            # Validation\n",
        "            val_loss = self.validate()\n",
        "            self.val_losses.append(val_loss)\n",
        "            print(f\"Validation Loss: {val_loss:.4f}\")\n",
        "\n",
        "            # Early stopping check\n",
        "            if val_loss < self.best_val_loss:\n",
        "                self.best_val_loss = val_loss\n",
        "                self.patience_counter = 0\n",
        "                self.save_checkpoint(is_best=True)\n",
        "            else:\n",
        "                self.patience_counter += 1\n",
        "                self.save_checkpoint(is_best=False)\n",
        "\n",
        "            # Save current metrics and plot\n",
        "            self.save_metrics()\n",
        "            self.plot_metrics()\n",
        "\n",
        "            # Early stopping\n",
        "            if self.patience_counter >= self.patience:\n",
        "                print(f\"\\nEarly stopping triggered after {epoch + 1} epochs\")\n",
        "                break\n",
        "\n",
        "def main():\n",
        "    # Set device and print capabilities\n",
        "    device = torch.device('cuda' if torch.cuda.is_available() else 'cpu')\n",
        "    print(f\"Using device: {device}\")\n",
        "    if torch.cuda.is_available():\n",
        "        print(f\"GPU: {torch.cuda.get_device_name(0)}\")\n",
        "        print(f\"Memory Available: {torch.cuda.get_device_properties(0).total_memory / 1e9:.2f} GB\")\n",
        "\n",
        "    # Adjust batch size based on device\n",
        "    batch_size = 32 if torch.cuda.is_available() else 2  # Larger batch size for GPU\n",
        "\n",
        "    # Create datasets\n",
        "    train_dataset = LibriSpeech(split=\"train-clean-100\", target_length=48000)\n",
        "    val_dataset = LibriSpeech(split=\"dev-clean\", target_length=48000)\n",
        "\n",
        "    # Create model (BASE or LARGE)\n",
        "    config = Wav2Vec2Config.BASE()  # Use BASE for CPU\n",
        "    if device.type == 'cpu':\n",
        "        # Reduce model size for CPU training\n",
        "        config.d_model = 256\n",
        "        config.dim_feedforward = 1024\n",
        "        config.num_encoder_layers = 4\n",
        "\n",
        "    # Create model and move to device\n",
        "    model = Wav2Vec2(config)\n",
        "    model = model.to(device)\n",
        "\n",
        "    # Enable multi-GPU if available\n",
        "    if torch.cuda.device_count() > 1:\n",
        "        print(f\"Using {torch.cuda.device_count()} GPUs!\")\n",
        "        model = nn.DataParallel(model)\n",
        "\n",
        "    print(f\"Model parameters: {sum(p.numel() for p in model.parameters())/1e6:.2f}M\")\n",
        "\n",
        "    # Create checkpoint directory\n",
        "    checkpoint_dir = \"checkpoints\"\n",
        "    os.makedirs(checkpoint_dir, exist_ok=True)\n",
        "\n",
        "    # Create trainer\n",
        "    trainer = Trainer(\n",
        "        model=model,\n",
        "        train_dataset=train_dataset,\n",
        "        val_dataset=val_dataset,\n",
        "        config=config,\n",
        "        device=device,\n",
        "        is_librispeech=True,\n",
        "        patience=10,\n",
        "        log_dir=\"wav2vec_runs\",\n",
        "        batch_size=batch_size,\n",
        "        checkpoint_dir=checkpoint_dir\n",
        "    )\n",
        "\n",
        "    # Load checkpoint if exists\n",
        "    checkpoint_path = os.path.join(checkpoint_dir, \"latest_checkpoint.pt\")\n",
        "    if os.path.exists(checkpoint_path):\n",
        "        print(f\"Loading checkpoint from {checkpoint_path}\")\n",
        "        trainer.load_checkpoint(checkpoint_path)\n",
        "\n",
        "    # Start training\n",
        "    trainer.train(num_epochs=100)  # Will stop early if no improvement"
      ],
      "metadata": {
        "id": "s6nwPZICWC1l"
      },
      "execution_count": 127,
      "outputs": []
    },
    {
      "cell_type": "markdown",
      "metadata": {
        "id": "JjS1Mqe0VreD"
      },
      "source": [
        "# Wav2Vec 2.0 Training\n",
        "\n",
        "This notebook provides an interface to train the Wav2Vec 2.0 model on LibriSpeech dataset."
      ]
    },
    {
      "cell_type": "code",
      "execution_count": 128,
      "metadata": {
        "id": "3ADIgW7cVreF"
      },
      "outputs": [],
      "source": [
        "import torch\n",
        "import torch.nn as nn\n",
        "\n",
        "import os\n",
        "import matplotlib.pyplot as plt\n",
        "%matplotlib inline"
      ]
    },
    {
      "cell_type": "markdown",
      "metadata": {
        "id": "v1KQkQetVreG"
      },
      "source": [
        "## 1. Setup Device and Configuration"
      ]
    },
    {
      "cell_type": "code",
      "execution_count": 129,
      "metadata": {
        "colab": {
          "base_uri": "https://localhost:8080/"
        },
        "id": "ZMycwmnCVreH",
        "outputId": "7a7a9945-5190-4324-8bb4-02cebdd2d131"
      },
      "outputs": [
        {
          "output_type": "stream",
          "name": "stdout",
          "text": [
            "Using device: cuda\n",
            "GPU: Tesla T4\n",
            "Memory Available: 15.84 GB\n"
          ]
        }
      ],
      "source": [
        "# Set device\n",
        "device = torch.device('cuda' if torch.cuda.is_available() else 'cpu')\n",
        "print(f\"Using device: {device}\")\n",
        "\n",
        "if torch.cuda.is_available():\n",
        "    print(f\"GPU: {torch.cuda.get_device_name(0)}\")\n",
        "    print(f\"Memory Available: {torch.cuda.get_device_properties(0).total_memory / 1e9:.2f} GB\")\n",
        "\n",
        "# Set batch size based on device\n",
        "batch_size = 32 if torch.cuda.is_available() else 2"
      ]
    },
    {
      "cell_type": "markdown",
      "metadata": {
        "id": "NoitpY8GVreH"
      },
      "source": [
        "## 2. Create Datasets"
      ]
    },
    {
      "cell_type": "code",
      "execution_count": 130,
      "metadata": {
        "colab": {
          "base_uri": "https://localhost:8080/"
        },
        "id": "sqxlhohaVreI",
        "outputId": "51c1a7cd-1232-456d-ce57-91c9487e453a"
      },
      "outputs": [
        {
          "output_type": "stream",
          "name": "stdout",
          "text": [
            "Training dataset size: 28539\n",
            "Validation dataset size: 2703\n"
          ]
        }
      ],
      "source": [
        "# Create training and validation datasets\n",
        "train_dataset = LibriSpeech(split=\"train-clean-100\", target_length=48000)\n",
        "val_dataset = LibriSpeech(split=\"dev-clean\", target_length=48000)\n",
        "\n",
        "print(f\"Training dataset size: {len(train_dataset)}\")\n",
        "print(f\"Validation dataset size: {len(val_dataset)}\")"
      ]
    },
    {
      "cell_type": "markdown",
      "metadata": {
        "id": "MNHg7QPMVreJ"
      },
      "source": [
        "## 3. Create and Configure Model"
      ]
    },
    {
      "cell_type": "code",
      "execution_count": 131,
      "metadata": {
        "colab": {
          "base_uri": "https://localhost:8080/"
        },
        "id": "UHyYQiYCVreK",
        "outputId": "d75c5058-8c96-4294-9446-118cc8fddedf"
      },
      "outputs": [
        {
          "output_type": "stream",
          "name": "stdout",
          "text": [
            "Fast dev mode enabled:\n",
            "Training on 1000 examples\n",
            "Validating on 100 examples\n",
            "Model parameters: 4.68M\n"
          ]
        }
      ],
      "source": [
        "# Configure dataset size and model size for fast testing\n",
        "FAST_DEV = True  # Set to False for full training\n",
        "\n",
        "if FAST_DEV:\n",
        "    # Use smaller model\n",
        "    config = Wav2Vec2Config.TINY()\n",
        "\n",
        "    # Use smaller subset of data\n",
        "    train_subset_size = 1000  # Adjust this number as needed\n",
        "    val_subset_size = 100\n",
        "\n",
        "    # Create subset indices\n",
        "    train_indices = torch.randperm(len(train_dataset))[:train_subset_size]\n",
        "    val_indices = torch.randperm(len(val_dataset))[:val_subset_size]\n",
        "\n",
        "    # Create subset datasets\n",
        "    from torch.utils.data import Subset\n",
        "    train_dataset = Subset(train_dataset, train_indices)\n",
        "    val_dataset = Subset(val_dataset, val_indices)\n",
        "\n",
        "    # Use smaller batch size\n",
        "    batch_size = 4\n",
        "\n",
        "    print(f\"Fast dev mode enabled:\")\n",
        "    print(f\"Training on {len(train_dataset)} examples\")\n",
        "    print(f\"Validating on {len(val_dataset)} examples\")\n",
        "else:\n",
        "    # Use original BASE configuration\n",
        "    config = Wav2Vec2Config.BASE()\n",
        "\n",
        "# Reduce model size if using CPU\n",
        "if device.type == 'cpu':\n",
        "    config.d_model = 256\n",
        "    config.dim_feedforward = 1024\n",
        "    config.num_encoder_layers = 4\n",
        "\n",
        "# Create model and move to device\n",
        "model = Wav2Vec2(config)\n",
        "model = model.to(device)\n",
        "\n",
        "# Enable multi-GPU if available\n",
        "if torch.cuda.device_count() > 1:\n",
        "    print(f\"Using {torch.cuda.device_count()} GPUs!\")\n",
        "    model = nn.DataParallel(model)\n",
        "\n",
        "print(f\"Model parameters: {sum(p.numel() for p in model.parameters())/1e6:.2f}M\")"
      ]
    },
    {
      "cell_type": "markdown",
      "metadata": {
        "id": "u-LFDO66VreK"
      },
      "source": [
        "## 4. Setup Training"
      ]
    },
    {
      "cell_type": "code",
      "execution_count": 132,
      "metadata": {
        "id": "Cb0HxBxzVreK"
      },
      "outputs": [],
      "source": [
        "# Create checkpoint directory\n",
        "checkpoint_dir = \"checkpoints\"\n",
        "os.makedirs(checkpoint_dir, exist_ok=True)\n",
        "\n",
        "# Create trainer\n",
        "trainer = Trainer(\n",
        "    model=model,\n",
        "    train_dataset=train_dataset,\n",
        "    val_dataset=val_dataset,\n",
        "    config=config,\n",
        "    device=device,\n",
        "    is_librispeech=True,\n",
        "    patience=10,\n",
        "    log_dir=\"wav2vec_runs\",\n",
        "    batch_size=batch_size,\n",
        "    checkpoint_dir=checkpoint_dir\n",
        ")"
      ]
    },
    {
      "cell_type": "markdown",
      "metadata": {
        "id": "XChQ0iq-VreL"
      },
      "source": [
        "## 5. Load Checkpoint (if exists)"
      ]
    },
    {
      "cell_type": "code",
      "execution_count": 133,
      "metadata": {
        "id": "q3eSMltFVreL"
      },
      "outputs": [],
      "source": [
        "# Load checkpoint if it exists\n",
        "checkpoint_path = os.path.join(checkpoint_dir, \"latest_checkpoint.pt\")\n",
        "if os.path.exists(checkpoint_path):\n",
        "    print(f\"Loading checkpoint from {checkpoint_path}\")\n",
        "    trainer.load_checkpoint(checkpoint_path)"
      ]
    },
    {
      "cell_type": "markdown",
      "metadata": {
        "id": "Zjw7MBlCVreL"
      },
      "source": [
        "## 6. Start Training\n",
        "\n",
        "The training will automatically:\n",
        "- Save checkpoints\n",
        "- Plot training metrics\n",
        "- Implement early stopping\n",
        "- Handle GPU memory efficiently"
      ]
    },
    {
      "cell_type": "code",
      "execution_count": 134,
      "metadata": {
        "colab": {
          "base_uri": "https://localhost:8080/"
        },
        "id": "TJjifqoPVreL",
        "outputId": "260f9993-5c32-45e9-b052-bea9c987f6f3"
      },
      "outputs": [
        {
          "output_type": "stream",
          "name": "stdout",
          "text": [
            "\n",
            "Epoch 1/50\n"
          ]
        },
        {
          "output_type": "stream",
          "name": "stderr",
          "text": [
            "Training:   0%|          | 1/250 [00:00<01:41,  2.46it/s]"
          ]
        },
        {
          "output_type": "stream",
          "name": "stdout",
          "text": [
            "\n",
            "Input audio shape: torch.Size([4, 48000])\n",
            "Context output shape: torch.Size([4, 599, 256])\n",
            "Quantized output shape: torch.Size([4, 599, 256])\n",
            "Mask indices shape: torch.Size([4, 599])\n",
            "Number of masked positions: 1140\n",
            "Initial loss: 6.6755\n",
            "L2 loss: 126.1106\n",
            "Total loss: 7.9366\n",
            "Gradient norm: 0.9030\n",
            "Batch 0, Loss: 7.9366\n"
          ]
        },
        {
          "output_type": "stream",
          "name": "stderr",
          "text": [
            "Training:   1%|          | 3/250 [00:00<00:42,  5.83it/s]"
          ]
        },
        {
          "output_type": "stream",
          "name": "stdout",
          "text": [
            "Batch 1, Loss: 7.9270\n",
            "Batch 2, Loss: 7.9642\n",
            "Batch 3, Loss: 7.9118\n"
          ]
        },
        {
          "output_type": "stream",
          "name": "stderr",
          "text": [
            "Training:   3%|▎         | 7/250 [00:00<00:24, 10.08it/s]"
          ]
        },
        {
          "output_type": "stream",
          "name": "stdout",
          "text": [
            "Batch 4, Loss: 7.9619\n"
          ]
        },
        {
          "output_type": "stream",
          "name": "stderr",
          "text": [
            "Training: 100%|██████████| 250/250 [00:18<00:00, 13.20it/s]\n"
          ]
        },
        {
          "output_type": "stream",
          "name": "stdout",
          "text": [
            "Training Loss: 7.8511\n"
          ]
        },
        {
          "output_type": "stream",
          "name": "stderr",
          "text": [
            "Validation:   4%|▍         | 1/25 [00:00<00:03,  7.83it/s]"
          ]
        },
        {
          "output_type": "stream",
          "name": "stdout",
          "text": [
            "\n",
            "Validation batch shapes:\n",
            "Context output shape: torch.Size([4, 599, 256])\n",
            "Quantized output shape: torch.Size([4, 599, 256])\n",
            "Mask indices shape: torch.Size([4, 599])\n",
            "Number of masked positions: 1252\n",
            "First validation batch loss: 6.6247\n"
          ]
        },
        {
          "output_type": "stream",
          "name": "stderr",
          "text": [
            "Validation: 100%|██████████| 25/25 [00:00<00:00, 32.58it/s]\n"
          ]
        },
        {
          "output_type": "stream",
          "name": "stdout",
          "text": [
            "\n",
            "Validation stats:\n",
            "Total batches: 25\n",
            "Average loss: 6.5403\n",
            "Validation Loss: 6.5403\n",
            "Saved best model with validation loss: 6.5403\n",
            "\n",
            "Epoch 2/50\n"
          ]
        },
        {
          "output_type": "stream",
          "name": "stderr",
          "text": [
            "\rTraining:   0%|          | 0/250 [00:00<?, ?it/s]"
          ]
        },
        {
          "output_type": "stream",
          "name": "stdout",
          "text": [
            "\n",
            "Input audio shape: torch.Size([4, 48000])\n",
            "Context output shape: torch.Size([4, 599, 256])\n",
            "Quantized output shape: torch.Size([4, 599, 256])\n",
            "Mask indices shape: torch.Size([4, 599])\n",
            "Number of masked positions: 1168\n",
            "Initial loss: 6.5670\n",
            "L2 loss: 125.3745\n",
            "Total loss: 7.8207\n"
          ]
        },
        {
          "output_type": "stream",
          "name": "stderr",
          "text": [
            "\rTraining:   0%|          | 1/250 [00:00<00:57,  4.36it/s]"
          ]
        },
        {
          "output_type": "stream",
          "name": "stdout",
          "text": [
            "Gradient norm: 0.2676\n",
            "Batch 0, Loss: 7.8207\n",
            "Batch 1, Loss: 7.7393\n"
          ]
        },
        {
          "output_type": "stream",
          "name": "stderr",
          "text": [
            "\rTraining:   1%|          | 3/250 [00:00<00:27,  8.82it/s]"
          ]
        },
        {
          "output_type": "stream",
          "name": "stdout",
          "text": [
            "Batch 2, Loss: 7.6795\n"
          ]
        },
        {
          "output_type": "stream",
          "name": "stderr",
          "text": [
            "\rTraining:   2%|▏         | 5/250 [00:00<00:22, 10.81it/s]"
          ]
        },
        {
          "output_type": "stream",
          "name": "stdout",
          "text": [
            "Batch 3, Loss: 7.7676\n",
            "Batch 4, Loss: 7.7803\n"
          ]
        },
        {
          "output_type": "stream",
          "name": "stderr",
          "text": [
            "Training: 100%|██████████| 250/250 [00:19<00:00, 13.06it/s]\n"
          ]
        },
        {
          "output_type": "stream",
          "name": "stdout",
          "text": [
            "Training Loss: 7.7803\n"
          ]
        },
        {
          "output_type": "stream",
          "name": "stderr",
          "text": [
            "Validation:   4%|▍         | 1/25 [00:00<00:03,  6.63it/s]"
          ]
        },
        {
          "output_type": "stream",
          "name": "stdout",
          "text": [
            "\n",
            "Validation batch shapes:\n",
            "Context output shape: torch.Size([4, 599, 256])\n",
            "Quantized output shape: torch.Size([4, 599, 256])\n",
            "Mask indices shape: torch.Size([4, 599])\n",
            "Number of masked positions: 1196\n",
            "First validation batch loss: 6.5734\n"
          ]
        },
        {
          "output_type": "stream",
          "name": "stderr",
          "text": [
            "Validation: 100%|██████████| 25/25 [00:00<00:00, 32.31it/s]\n"
          ]
        },
        {
          "output_type": "stream",
          "name": "stdout",
          "text": [
            "\n",
            "Validation stats:\n",
            "Total batches: 25\n",
            "Average loss: 6.5308\n",
            "Validation Loss: 6.5308\n",
            "Saved best model with validation loss: 6.5308\n",
            "\n",
            "Epoch 3/50\n"
          ]
        },
        {
          "output_type": "stream",
          "name": "stderr",
          "text": [
            "\rTraining:   0%|          | 0/250 [00:00<?, ?it/s]"
          ]
        },
        {
          "output_type": "stream",
          "name": "stdout",
          "text": [
            "\n",
            "Input audio shape: torch.Size([4, 48000])\n",
            "Context output shape: torch.Size([4, 599, 256])\n",
            "Quantized output shape: torch.Size([4, 599, 256])\n",
            "Mask indices shape: torch.Size([4, 599])\n",
            "Number of masked positions: 1172\n",
            "Initial loss: 6.5680\n",
            "L2 loss: 122.8120\n",
            "Total loss: 7.7961\n"
          ]
        },
        {
          "output_type": "stream",
          "name": "stderr",
          "text": [
            "\rTraining:   0%|          | 1/250 [00:00<00:54,  4.60it/s]"
          ]
        },
        {
          "output_type": "stream",
          "name": "stdout",
          "text": [
            "Gradient norm: 0.1889\n",
            "Batch 0, Loss: 7.7961\n",
            "Batch 1, Loss: 7.7945\n"
          ]
        },
        {
          "output_type": "stream",
          "name": "stderr",
          "text": [
            "\rTraining:   1%|          | 3/250 [00:00<00:27,  8.92it/s]"
          ]
        },
        {
          "output_type": "stream",
          "name": "stdout",
          "text": [
            "Batch 2, Loss: 7.7778\n"
          ]
        },
        {
          "output_type": "stream",
          "name": "stderr",
          "text": [
            "\rTraining:   2%|▏         | 5/250 [00:00<00:22, 10.72it/s]"
          ]
        },
        {
          "output_type": "stream",
          "name": "stdout",
          "text": [
            "Batch 3, Loss: 7.8126\n",
            "Batch 4, Loss: 7.7416\n"
          ]
        },
        {
          "output_type": "stream",
          "name": "stderr",
          "text": [
            "Training: 100%|██████████| 250/250 [00:19<00:00, 12.74it/s]\n"
          ]
        },
        {
          "output_type": "stream",
          "name": "stdout",
          "text": [
            "Training Loss: 7.7563\n"
          ]
        },
        {
          "output_type": "stream",
          "name": "stderr",
          "text": [
            "Validation:   4%|▍         | 1/25 [00:00<00:04,  5.70it/s]"
          ]
        },
        {
          "output_type": "stream",
          "name": "stdout",
          "text": [
            "\n",
            "Validation batch shapes:\n",
            "Context output shape: torch.Size([4, 599, 256])\n",
            "Quantized output shape: torch.Size([4, 599, 256])\n",
            "Mask indices shape: torch.Size([4, 599])\n",
            "Number of masked positions: 1084\n",
            "First validation batch loss: 6.4809\n"
          ]
        },
        {
          "output_type": "stream",
          "name": "stderr",
          "text": [
            "Validation: 100%|██████████| 25/25 [00:00<00:00, 30.02it/s]\n"
          ]
        },
        {
          "output_type": "stream",
          "name": "stdout",
          "text": [
            "\n",
            "Validation stats:\n",
            "Total batches: 25\n",
            "Average loss: 6.5260\n",
            "Validation Loss: 6.5260\n",
            "Saved best model with validation loss: 6.5260\n",
            "\n",
            "Epoch 4/50\n"
          ]
        },
        {
          "output_type": "stream",
          "name": "stderr",
          "text": [
            "\rTraining:   0%|          | 0/250 [00:00<?, ?it/s]"
          ]
        },
        {
          "output_type": "stream",
          "name": "stdout",
          "text": [
            "\n",
            "Input audio shape: torch.Size([4, 48000])\n",
            "Context output shape: torch.Size([4, 599, 256])\n",
            "Quantized output shape: torch.Size([4, 599, 256])\n",
            "Mask indices shape: torch.Size([4, 599])\n",
            "Number of masked positions: 1188\n",
            "Initial loss: 6.5744\n",
            "L2 loss: 118.3121\n",
            "Total loss: 7.7576\n"
          ]
        },
        {
          "output_type": "stream",
          "name": "stderr",
          "text": [
            "\rTraining:   0%|          | 1/250 [00:00<00:58,  4.25it/s]"
          ]
        },
        {
          "output_type": "stream",
          "name": "stdout",
          "text": [
            "Gradient norm: 0.1659\n",
            "Batch 0, Loss: 7.7576\n",
            "Batch 1, Loss: 7.6963\n"
          ]
        },
        {
          "output_type": "stream",
          "name": "stderr",
          "text": [
            "\rTraining:   1%|          | 3/250 [00:00<00:28,  8.62it/s]"
          ]
        },
        {
          "output_type": "stream",
          "name": "stdout",
          "text": [
            "Batch 2, Loss: 7.7222\n"
          ]
        },
        {
          "output_type": "stream",
          "name": "stderr",
          "text": [
            "\rTraining:   2%|▏         | 5/250 [00:00<00:23, 10.49it/s]"
          ]
        },
        {
          "output_type": "stream",
          "name": "stdout",
          "text": [
            "Batch 3, Loss: 7.7839\n",
            "Batch 4, Loss: 7.7531\n"
          ]
        },
        {
          "output_type": "stream",
          "name": "stderr",
          "text": [
            "Training: 100%|██████████| 250/250 [00:19<00:00, 12.84it/s]\n"
          ]
        },
        {
          "output_type": "stream",
          "name": "stdout",
          "text": [
            "Training Loss: 7.7010\n"
          ]
        },
        {
          "output_type": "stream",
          "name": "stderr",
          "text": [
            "Validation:   4%|▍         | 1/25 [00:00<00:03,  6.86it/s]"
          ]
        },
        {
          "output_type": "stream",
          "name": "stdout",
          "text": [
            "\n",
            "Validation batch shapes:\n",
            "Context output shape: torch.Size([4, 599, 256])\n",
            "Quantized output shape: torch.Size([4, 599, 256])\n",
            "Mask indices shape: torch.Size([4, 599])\n",
            "Number of masked positions: 1196\n",
            "First validation batch loss: 6.5792\n"
          ]
        },
        {
          "output_type": "stream",
          "name": "stderr",
          "text": [
            "Validation: 100%|██████████| 25/25 [00:00<00:00, 31.69it/s]\n"
          ]
        },
        {
          "output_type": "stream",
          "name": "stdout",
          "text": [
            "\n",
            "Validation stats:\n",
            "Total batches: 25\n",
            "Average loss: 6.5653\n",
            "Validation Loss: 6.5653\n",
            "\n",
            "Epoch 5/50\n"
          ]
        },
        {
          "output_type": "stream",
          "name": "stderr",
          "text": [
            "\rTraining:   0%|          | 0/250 [00:00<?, ?it/s]"
          ]
        },
        {
          "output_type": "stream",
          "name": "stdout",
          "text": [
            "\n",
            "Input audio shape: torch.Size([4, 48000])\n",
            "Context output shape: torch.Size([4, 599, 256])\n",
            "Quantized output shape: torch.Size([4, 599, 256])\n",
            "Mask indices shape: torch.Size([4, 599])\n",
            "Number of masked positions: 1144\n",
            "Initial loss: 6.5370\n",
            "L2 loss: 112.1801\n",
            "Total loss: 7.6588\n"
          ]
        },
        {
          "output_type": "stream",
          "name": "stderr",
          "text": [
            "\rTraining:   0%|          | 1/250 [00:00<00:56,  4.38it/s]"
          ]
        },
        {
          "output_type": "stream",
          "name": "stdout",
          "text": [
            "Gradient norm: 0.1613\n",
            "Batch 0, Loss: 7.6588\n",
            "Batch 1, Loss: 7.6395\n"
          ]
        },
        {
          "output_type": "stream",
          "name": "stderr",
          "text": [
            "\rTraining:   1%|          | 3/250 [00:00<00:28,  8.58it/s]"
          ]
        },
        {
          "output_type": "stream",
          "name": "stdout",
          "text": [
            "Batch 2, Loss: 7.6728\n"
          ]
        },
        {
          "output_type": "stream",
          "name": "stderr",
          "text": [
            "\rTraining:   2%|▏         | 5/250 [00:00<00:23, 10.42it/s]"
          ]
        },
        {
          "output_type": "stream",
          "name": "stdout",
          "text": [
            "Batch 3, Loss: 7.6613\n",
            "Batch 4, Loss: 7.5849\n"
          ]
        },
        {
          "output_type": "stream",
          "name": "stderr",
          "text": [
            "Training: 100%|██████████| 250/250 [00:20<00:00, 12.47it/s]\n"
          ]
        },
        {
          "output_type": "stream",
          "name": "stdout",
          "text": [
            "Training Loss: 7.2301\n"
          ]
        },
        {
          "output_type": "stream",
          "name": "stderr",
          "text": [
            "Validation:   4%|▍         | 1/25 [00:00<00:03,  7.24it/s]"
          ]
        },
        {
          "output_type": "stream",
          "name": "stdout",
          "text": [
            "\n",
            "Validation batch shapes:\n",
            "Context output shape: torch.Size([4, 599, 256])\n",
            "Quantized output shape: torch.Size([4, 599, 256])\n",
            "Mask indices shape: torch.Size([4, 599])\n",
            "Number of masked positions: 1044\n",
            "First validation batch loss: 5.0575\n"
          ]
        },
        {
          "output_type": "stream",
          "name": "stderr",
          "text": [
            "Validation: 100%|██████████| 25/25 [00:00<00:00, 32.34it/s]\n"
          ]
        },
        {
          "output_type": "stream",
          "name": "stdout",
          "text": [
            "\n",
            "Validation stats:\n",
            "Total batches: 25\n",
            "Average loss: 5.0736\n",
            "Validation Loss: 5.0736\n",
            "Saved best model with validation loss: 5.0736\n",
            "\n",
            "Epoch 6/50\n"
          ]
        },
        {
          "output_type": "stream",
          "name": "stderr",
          "text": [
            "\rTraining:   0%|          | 0/250 [00:00<?, ?it/s]"
          ]
        },
        {
          "output_type": "stream",
          "name": "stdout",
          "text": [
            "\n",
            "Input audio shape: torch.Size([4, 48000])\n",
            "Context output shape: torch.Size([4, 599, 256])\n",
            "Quantized output shape: torch.Size([4, 599, 256])\n",
            "Mask indices shape: torch.Size([4, 599])\n",
            "Number of masked positions: 1200\n",
            "Initial loss: 5.2097\n",
            "L2 loss: 105.3851\n",
            "Total loss: 6.2636\n"
          ]
        },
        {
          "output_type": "stream",
          "name": "stderr",
          "text": [
            "\rTraining:   0%|          | 1/250 [00:00<00:52,  4.76it/s]"
          ]
        },
        {
          "output_type": "stream",
          "name": "stdout",
          "text": [
            "Gradient norm: 1.9662\n",
            "Batch 0, Loss: 6.2636\n",
            "Batch 1, Loss: 6.2365\n"
          ]
        },
        {
          "output_type": "stream",
          "name": "stderr",
          "text": [
            "\rTraining:   1%|          | 3/250 [00:00<00:27,  9.07it/s]"
          ]
        },
        {
          "output_type": "stream",
          "name": "stdout",
          "text": [
            "Batch 2, Loss: 6.1999\n"
          ]
        },
        {
          "output_type": "stream",
          "name": "stderr",
          "text": [
            "\rTraining:   2%|▏         | 5/250 [00:00<00:22, 10.81it/s]"
          ]
        },
        {
          "output_type": "stream",
          "name": "stdout",
          "text": [
            "Batch 3, Loss: 6.2528\n",
            "Batch 4, Loss: 6.3446\n"
          ]
        },
        {
          "output_type": "stream",
          "name": "stderr",
          "text": [
            "Training: 100%|██████████| 250/250 [00:19<00:00, 12.90it/s]\n"
          ]
        },
        {
          "output_type": "stream",
          "name": "stdout",
          "text": [
            "Training Loss: 5.6635\n"
          ]
        },
        {
          "output_type": "stream",
          "name": "stderr",
          "text": [
            "Validation:   4%|▍         | 1/25 [00:00<00:03,  7.30it/s]"
          ]
        },
        {
          "output_type": "stream",
          "name": "stdout",
          "text": [
            "\n",
            "Validation batch shapes:\n",
            "Context output shape: torch.Size([4, 599, 256])\n",
            "Quantized output shape: torch.Size([4, 599, 256])\n",
            "Mask indices shape: torch.Size([4, 599])\n",
            "Number of masked positions: 1076\n",
            "First validation batch loss: 3.9846\n"
          ]
        },
        {
          "output_type": "stream",
          "name": "stderr",
          "text": [
            "Validation: 100%|██████████| 25/25 [00:00<00:00, 33.04it/s]\n"
          ]
        },
        {
          "output_type": "stream",
          "name": "stdout",
          "text": [
            "\n",
            "Validation stats:\n",
            "Total batches: 25\n",
            "Average loss: 4.0137\n",
            "Validation Loss: 4.0137\n",
            "Saved best model with validation loss: 4.0137\n",
            "\n",
            "Epoch 7/50\n"
          ]
        },
        {
          "output_type": "stream",
          "name": "stderr",
          "text": [
            "\rTraining:   0%|          | 0/250 [00:00<?, ?it/s]"
          ]
        },
        {
          "output_type": "stream",
          "name": "stdout",
          "text": [
            "\n",
            "Input audio shape: torch.Size([4, 48000])\n",
            "Context output shape: torch.Size([4, 599, 256])\n",
            "Quantized output shape: torch.Size([4, 599, 256])\n",
            "Mask indices shape: torch.Size([4, 599])\n",
            "Number of masked positions: 1132\n",
            "Initial loss: 4.1715\n",
            "L2 loss: 98.8801\n",
            "Total loss: 5.1603\n"
          ]
        },
        {
          "output_type": "stream",
          "name": "stderr",
          "text": [
            "\rTraining:   0%|          | 1/250 [00:00<00:53,  4.62it/s]"
          ]
        },
        {
          "output_type": "stream",
          "name": "stdout",
          "text": [
            "Gradient norm: 1.8082\n",
            "Batch 0, Loss: 5.1603\n",
            "Batch 1, Loss: 5.1577\n"
          ]
        },
        {
          "output_type": "stream",
          "name": "stderr",
          "text": [
            "\rTraining:   1%|          | 3/250 [00:00<00:27,  8.91it/s]"
          ]
        },
        {
          "output_type": "stream",
          "name": "stdout",
          "text": [
            "Batch 2, Loss: 5.2311\n"
          ]
        },
        {
          "output_type": "stream",
          "name": "stderr",
          "text": [
            "\rTraining:   2%|▏         | 5/250 [00:00<00:22, 10.78it/s]"
          ]
        },
        {
          "output_type": "stream",
          "name": "stdout",
          "text": [
            "Batch 3, Loss: 5.0945\n",
            "Batch 4, Loss: 5.1412\n"
          ]
        },
        {
          "output_type": "stream",
          "name": "stderr",
          "text": [
            "Training: 100%|██████████| 250/250 [00:19<00:00, 12.78it/s]\n"
          ]
        },
        {
          "output_type": "stream",
          "name": "stdout",
          "text": [
            "Training Loss: 4.9315\n"
          ]
        },
        {
          "output_type": "stream",
          "name": "stderr",
          "text": [
            "Validation:   4%|▍         | 1/25 [00:00<00:03,  7.00it/s]"
          ]
        },
        {
          "output_type": "stream",
          "name": "stdout",
          "text": [
            "\n",
            "Validation batch shapes:\n",
            "Context output shape: torch.Size([4, 599, 256])\n",
            "Quantized output shape: torch.Size([4, 599, 256])\n",
            "Mask indices shape: torch.Size([4, 599])\n",
            "Number of masked positions: 1176\n",
            "First validation batch loss: 3.5837\n"
          ]
        },
        {
          "output_type": "stream",
          "name": "stderr",
          "text": [
            "Validation: 100%|██████████| 25/25 [00:00<00:00, 32.11it/s]\n"
          ]
        },
        {
          "output_type": "stream",
          "name": "stdout",
          "text": [
            "\n",
            "Validation stats:\n",
            "Total batches: 25\n",
            "Average loss: 3.5953\n",
            "Validation Loss: 3.5953\n",
            "Saved best model with validation loss: 3.5953\n",
            "\n",
            "Epoch 8/50\n"
          ]
        },
        {
          "output_type": "stream",
          "name": "stderr",
          "text": [
            "\rTraining:   0%|          | 0/250 [00:00<?, ?it/s]"
          ]
        },
        {
          "output_type": "stream",
          "name": "stdout",
          "text": [
            "\n",
            "Input audio shape: torch.Size([4, 48000])\n",
            "Context output shape: torch.Size([4, 599, 256])\n",
            "Quantized output shape: torch.Size([4, 599, 256])\n",
            "Mask indices shape: torch.Size([4, 599])\n",
            "Number of masked positions: 1152\n",
            "Initial loss: 3.7118\n",
            "L2 loss: 92.7078\n",
            "Total loss: 4.6389\n"
          ]
        },
        {
          "output_type": "stream",
          "name": "stderr",
          "text": [
            "\rTraining:   0%|          | 1/250 [00:00<00:58,  4.23it/s]"
          ]
        },
        {
          "output_type": "stream",
          "name": "stdout",
          "text": [
            "Gradient norm: 2.1160\n",
            "Batch 0, Loss: 4.6389\n",
            "Batch 1, Loss: 4.5764\n"
          ]
        },
        {
          "output_type": "stream",
          "name": "stderr",
          "text": [
            "\rTraining:   1%|          | 3/250 [00:00<00:28,  8.56it/s]"
          ]
        },
        {
          "output_type": "stream",
          "name": "stdout",
          "text": [
            "Batch 2, Loss: 4.5778\n"
          ]
        },
        {
          "output_type": "stream",
          "name": "stderr",
          "text": [
            "\rTraining:   2%|▏         | 5/250 [00:00<00:23, 10.50it/s]"
          ]
        },
        {
          "output_type": "stream",
          "name": "stdout",
          "text": [
            "Batch 3, Loss: 4.5701\n",
            "Batch 4, Loss: 4.7143\n"
          ]
        },
        {
          "output_type": "stream",
          "name": "stderr",
          "text": [
            "Training: 100%|██████████| 250/250 [00:19<00:00, 12.90it/s]\n"
          ]
        },
        {
          "output_type": "stream",
          "name": "stdout",
          "text": [
            "Training Loss: 4.5138\n"
          ]
        },
        {
          "output_type": "stream",
          "name": "stderr",
          "text": [
            "Validation:   4%|▍         | 1/25 [00:00<00:03,  7.17it/s]"
          ]
        },
        {
          "output_type": "stream",
          "name": "stdout",
          "text": [
            "\n",
            "Validation batch shapes:\n",
            "Context output shape: torch.Size([4, 599, 256])\n",
            "Quantized output shape: torch.Size([4, 599, 256])\n",
            "Mask indices shape: torch.Size([4, 599])\n",
            "Number of masked positions: 1056\n",
            "First validation batch loss: 3.2416\n"
          ]
        },
        {
          "output_type": "stream",
          "name": "stderr",
          "text": [
            "Validation: 100%|██████████| 25/25 [00:00<00:00, 32.45it/s]\n"
          ]
        },
        {
          "output_type": "stream",
          "name": "stdout",
          "text": [
            "\n",
            "Validation stats:\n",
            "Total batches: 25\n",
            "Average loss: 3.3561\n",
            "Validation Loss: 3.3561\n",
            "Saved best model with validation loss: 3.3561\n",
            "\n",
            "Epoch 9/50\n"
          ]
        },
        {
          "output_type": "stream",
          "name": "stderr",
          "text": [
            "\rTraining:   0%|          | 0/250 [00:00<?, ?it/s]"
          ]
        },
        {
          "output_type": "stream",
          "name": "stdout",
          "text": [
            "\n",
            "Input audio shape: torch.Size([4, 48000])\n",
            "Context output shape: torch.Size([4, 599, 256])\n",
            "Quantized output shape: torch.Size([4, 599, 256])\n",
            "Mask indices shape: torch.Size([4, 599])\n",
            "Number of masked positions: 1176\n"
          ]
        },
        {
          "output_type": "stream",
          "name": "stderr",
          "text": [
            "\rTraining:   0%|          | 1/250 [00:00<01:03,  3.90it/s]"
          ]
        },
        {
          "output_type": "stream",
          "name": "stdout",
          "text": [
            "Initial loss: 3.4823\n",
            "L2 loss: 86.8762\n",
            "Total loss: 4.3511\n",
            "Gradient norm: 2.5340\n",
            "Batch 0, Loss: 4.3511\n",
            "Batch 1, Loss: 4.3384\n"
          ]
        },
        {
          "output_type": "stream",
          "name": "stderr",
          "text": [
            "Training:   2%|▏         | 5/250 [00:00<00:26,  9.30it/s]"
          ]
        },
        {
          "output_type": "stream",
          "name": "stdout",
          "text": [
            "Batch 2, Loss: 4.3638\n",
            "Batch 3, Loss: 4.4294\n",
            "Batch 4, Loss: 4.4523\n"
          ]
        },
        {
          "output_type": "stream",
          "name": "stderr",
          "text": [
            "Training: 100%|██████████| 250/250 [00:19<00:00, 12.61it/s]\n"
          ]
        },
        {
          "output_type": "stream",
          "name": "stdout",
          "text": [
            "Training Loss: 4.1799\n"
          ]
        },
        {
          "output_type": "stream",
          "name": "stderr",
          "text": [
            "Validation:   4%|▍         | 1/25 [00:00<00:03,  7.87it/s]"
          ]
        },
        {
          "output_type": "stream",
          "name": "stdout",
          "text": [
            "\n",
            "Validation batch shapes:\n",
            "Context output shape: torch.Size([4, 599, 256])\n",
            "Quantized output shape: torch.Size([4, 599, 256])\n",
            "Mask indices shape: torch.Size([4, 599])\n",
            "Number of masked positions: 1212\n",
            "First validation batch loss: 3.1559\n"
          ]
        },
        {
          "output_type": "stream",
          "name": "stderr",
          "text": [
            "Validation: 100%|██████████| 25/25 [00:00<00:00, 33.12it/s]\n"
          ]
        },
        {
          "output_type": "stream",
          "name": "stdout",
          "text": [
            "\n",
            "Validation stats:\n",
            "Total batches: 25\n",
            "Average loss: 3.0708\n",
            "Validation Loss: 3.0708\n",
            "Saved best model with validation loss: 3.0708\n",
            "\n",
            "Epoch 10/50\n"
          ]
        },
        {
          "output_type": "stream",
          "name": "stderr",
          "text": [
            "\rTraining:   0%|          | 0/250 [00:00<?, ?it/s]"
          ]
        },
        {
          "output_type": "stream",
          "name": "stdout",
          "text": [
            "\n",
            "Input audio shape: torch.Size([4, 48000])\n",
            "Context output shape: torch.Size([4, 599, 256])\n",
            "Quantized output shape: torch.Size([4, 599, 256])\n",
            "Mask indices shape: torch.Size([4, 599])\n",
            "Number of masked positions: 1044\n",
            "Initial loss: 3.0955\n",
            "L2 loss: 81.1404\n",
            "Total loss: 3.9069\n"
          ]
        },
        {
          "output_type": "stream",
          "name": "stderr",
          "text": [
            "\rTraining:   0%|          | 1/250 [00:00<00:56,  4.42it/s]"
          ]
        },
        {
          "output_type": "stream",
          "name": "stdout",
          "text": [
            "Gradient norm: 3.5690\n",
            "Batch 0, Loss: 3.9069\n",
            "Batch 1, Loss: 4.0498\n"
          ]
        },
        {
          "output_type": "stream",
          "name": "stderr",
          "text": [
            "\rTraining:   1%|          | 3/250 [00:00<00:28,  8.74it/s]"
          ]
        },
        {
          "output_type": "stream",
          "name": "stdout",
          "text": [
            "Batch 2, Loss: 4.0336\n"
          ]
        },
        {
          "output_type": "stream",
          "name": "stderr",
          "text": [
            "\rTraining:   2%|▏         | 5/250 [00:00<00:23, 10.53it/s]"
          ]
        },
        {
          "output_type": "stream",
          "name": "stdout",
          "text": [
            "Batch 3, Loss: 4.0329\n",
            "Batch 4, Loss: 3.9166\n"
          ]
        },
        {
          "output_type": "stream",
          "name": "stderr",
          "text": [
            "Training: 100%|██████████| 250/250 [00:19<00:00, 12.90it/s]\n"
          ]
        },
        {
          "output_type": "stream",
          "name": "stdout",
          "text": [
            "Training Loss: 3.8669\n"
          ]
        },
        {
          "output_type": "stream",
          "name": "stderr",
          "text": [
            "Validation:   4%|▍         | 1/25 [00:00<00:03,  6.31it/s]"
          ]
        },
        {
          "output_type": "stream",
          "name": "stdout",
          "text": [
            "\n",
            "Validation batch shapes:\n",
            "Context output shape: torch.Size([4, 599, 256])\n",
            "Quantized output shape: torch.Size([4, 599, 256])\n",
            "Mask indices shape: torch.Size([4, 599])\n",
            "Number of masked positions: 1168\n",
            "First validation batch loss: 2.8785\n"
          ]
        },
        {
          "output_type": "stream",
          "name": "stderr",
          "text": [
            "Validation: 100%|██████████| 25/25 [00:00<00:00, 32.28it/s]\n"
          ]
        },
        {
          "output_type": "stream",
          "name": "stdout",
          "text": [
            "\n",
            "Validation stats:\n",
            "Total batches: 25\n",
            "Average loss: 2.9061\n",
            "Validation Loss: 2.9061\n",
            "Saved best model with validation loss: 2.9061\n",
            "\n",
            "Epoch 11/50\n"
          ]
        },
        {
          "output_type": "stream",
          "name": "stderr",
          "text": [
            "Training:   0%|          | 1/250 [00:00<01:19,  3.14it/s]"
          ]
        },
        {
          "output_type": "stream",
          "name": "stdout",
          "text": [
            "\n",
            "Input audio shape: torch.Size([4, 48000])\n",
            "Context output shape: torch.Size([4, 599, 256])\n",
            "Quantized output shape: torch.Size([4, 599, 256])\n",
            "Mask indices shape: torch.Size([4, 599])\n",
            "Number of masked positions: 1192\n",
            "Initial loss: 2.9852\n",
            "L2 loss: 75.5457\n",
            "Total loss: 3.7407\n",
            "Gradient norm: 3.5834\n",
            "Batch 0, Loss: 3.7407\n",
            "Batch 1, Loss: 3.7288\n"
          ]
        },
        {
          "output_type": "stream",
          "name": "stderr",
          "text": [
            "Training:   2%|▏         | 5/250 [00:00<00:27,  8.83it/s]"
          ]
        },
        {
          "output_type": "stream",
          "name": "stdout",
          "text": [
            "Batch 2, Loss: 3.7938\n",
            "Batch 3, Loss: 3.7389\n",
            "Batch 4, Loss: 3.7977\n"
          ]
        },
        {
          "output_type": "stream",
          "name": "stderr",
          "text": [
            "Training: 100%|██████████| 250/250 [00:19<00:00, 12.63it/s]\n"
          ]
        },
        {
          "output_type": "stream",
          "name": "stdout",
          "text": [
            "Training Loss: 3.6076\n"
          ]
        },
        {
          "output_type": "stream",
          "name": "stderr",
          "text": [
            "Validation:   4%|▍         | 1/25 [00:00<00:03,  7.43it/s]"
          ]
        },
        {
          "output_type": "stream",
          "name": "stdout",
          "text": [
            "\n",
            "Validation batch shapes:\n",
            "Context output shape: torch.Size([4, 599, 256])\n",
            "Quantized output shape: torch.Size([4, 599, 256])\n",
            "Mask indices shape: torch.Size([4, 599])\n",
            "Number of masked positions: 1104\n",
            "First validation batch loss: 2.7427\n"
          ]
        },
        {
          "output_type": "stream",
          "name": "stderr",
          "text": [
            "Validation: 100%|██████████| 25/25 [00:00<00:00, 31.95it/s]\n"
          ]
        },
        {
          "output_type": "stream",
          "name": "stdout",
          "text": [
            "\n",
            "Validation stats:\n",
            "Total batches: 25\n",
            "Average loss: 2.7187\n",
            "Validation Loss: 2.7187\n",
            "Saved best model with validation loss: 2.7187\n",
            "\n",
            "Epoch 12/50\n"
          ]
        },
        {
          "output_type": "stream",
          "name": "stderr",
          "text": [
            "\rTraining:   0%|          | 0/250 [00:00<?, ?it/s]"
          ]
        },
        {
          "output_type": "stream",
          "name": "stdout",
          "text": [
            "\n",
            "Input audio shape: torch.Size([4, 48000])\n",
            "Context output shape: torch.Size([4, 599, 256])\n",
            "Quantized output shape: torch.Size([4, 599, 256])\n",
            "Mask indices shape: torch.Size([4, 599])\n",
            "Number of masked positions: 1208\n",
            "Initial loss: 2.8164\n",
            "L2 loss: 71.4620\n",
            "Total loss: 3.5310\n"
          ]
        },
        {
          "output_type": "stream",
          "name": "stderr",
          "text": [
            "\rTraining:   0%|          | 1/250 [00:00<00:55,  4.50it/s]"
          ]
        },
        {
          "output_type": "stream",
          "name": "stdout",
          "text": [
            "Gradient norm: 3.6729\n",
            "Batch 0, Loss: 3.5310\n",
            "Batch 1, Loss: 3.5112\n"
          ]
        },
        {
          "output_type": "stream",
          "name": "stderr",
          "text": [
            "\rTraining:   1%|          | 3/250 [00:00<00:28,  8.76it/s]"
          ]
        },
        {
          "output_type": "stream",
          "name": "stdout",
          "text": [
            "Batch 2, Loss: 3.3906\n"
          ]
        },
        {
          "output_type": "stream",
          "name": "stderr",
          "text": [
            "\rTraining:   2%|▏         | 5/250 [00:00<00:22, 10.70it/s]"
          ]
        },
        {
          "output_type": "stream",
          "name": "stdout",
          "text": [
            "Batch 3, Loss: 3.4170\n",
            "Batch 4, Loss: 3.5777\n"
          ]
        },
        {
          "output_type": "stream",
          "name": "stderr",
          "text": [
            "Training: 100%|██████████| 250/250 [00:19<00:00, 12.92it/s]\n"
          ]
        },
        {
          "output_type": "stream",
          "name": "stdout",
          "text": [
            "Training Loss: 3.3945\n"
          ]
        },
        {
          "output_type": "stream",
          "name": "stderr",
          "text": [
            "Validation:   4%|▍         | 1/25 [00:00<00:03,  7.17it/s]"
          ]
        },
        {
          "output_type": "stream",
          "name": "stdout",
          "text": [
            "\n",
            "Validation batch shapes:\n",
            "Context output shape: torch.Size([4, 599, 256])\n",
            "Quantized output shape: torch.Size([4, 599, 256])\n",
            "Mask indices shape: torch.Size([4, 599])\n",
            "Number of masked positions: 1012\n",
            "First validation batch loss: 2.5583\n"
          ]
        },
        {
          "output_type": "stream",
          "name": "stderr",
          "text": [
            "Validation: 100%|██████████| 25/25 [00:00<00:00, 32.09it/s]\n"
          ]
        },
        {
          "output_type": "stream",
          "name": "stdout",
          "text": [
            "\n",
            "Validation stats:\n",
            "Total batches: 25\n",
            "Average loss: 2.5710\n",
            "Validation Loss: 2.5710\n",
            "Saved best model with validation loss: 2.5710\n",
            "\n",
            "Epoch 13/50\n"
          ]
        },
        {
          "output_type": "stream",
          "name": "stderr",
          "text": [
            "\rTraining:   0%|          | 0/250 [00:00<?, ?it/s]"
          ]
        },
        {
          "output_type": "stream",
          "name": "stdout",
          "text": [
            "\n",
            "Input audio shape: torch.Size([4, 48000])\n",
            "Context output shape: torch.Size([4, 599, 256])\n",
            "Quantized output shape: torch.Size([4, 599, 256])\n",
            "Mask indices shape: torch.Size([4, 599])\n",
            "Number of masked positions: 1236\n"
          ]
        },
        {
          "output_type": "stream",
          "name": "stderr",
          "text": [
            "\rTraining:   0%|          | 1/250 [00:00<01:06,  3.75it/s]"
          ]
        },
        {
          "output_type": "stream",
          "name": "stdout",
          "text": [
            "Initial loss: 2.7071\n",
            "L2 loss: 68.8841\n",
            "Total loss: 3.3960\n",
            "Gradient norm: 3.2970\n",
            "Batch 0, Loss: 3.3960\n",
            "Batch 1, Loss: 3.3564\n"
          ]
        },
        {
          "output_type": "stream",
          "name": "stderr",
          "text": [
            "\rTraining:   1%|          | 3/250 [00:00<00:32,  7.62it/s]"
          ]
        },
        {
          "output_type": "stream",
          "name": "stdout",
          "text": [
            "Batch 2, Loss: 3.2777\n",
            "Batch 3, Loss: 3.3294\n"
          ]
        },
        {
          "output_type": "stream",
          "name": "stderr",
          "text": [
            "\rTraining:   2%|▏         | 5/250 [00:00<00:25,  9.45it/s]"
          ]
        },
        {
          "output_type": "stream",
          "name": "stdout",
          "text": [
            "Batch 4, Loss: 3.3910\n"
          ]
        },
        {
          "output_type": "stream",
          "name": "stderr",
          "text": [
            "Training: 100%|██████████| 250/250 [00:19<00:00, 12.69it/s]\n"
          ]
        },
        {
          "output_type": "stream",
          "name": "stdout",
          "text": [
            "Training Loss: 3.2604\n"
          ]
        },
        {
          "output_type": "stream",
          "name": "stderr",
          "text": [
            "Validation:   4%|▍         | 1/25 [00:00<00:03,  6.07it/s]"
          ]
        },
        {
          "output_type": "stream",
          "name": "stdout",
          "text": [
            "\n",
            "Validation batch shapes:\n",
            "Context output shape: torch.Size([4, 599, 256])\n",
            "Quantized output shape: torch.Size([4, 599, 256])\n",
            "Mask indices shape: torch.Size([4, 599])\n",
            "Number of masked positions: 1256\n",
            "First validation batch loss: 2.5013\n"
          ]
        },
        {
          "output_type": "stream",
          "name": "stderr",
          "text": [
            "Validation: 100%|██████████| 25/25 [00:00<00:00, 30.91it/s]\n"
          ]
        },
        {
          "output_type": "stream",
          "name": "stdout",
          "text": [
            "\n",
            "Validation stats:\n",
            "Total batches: 25\n",
            "Average loss: 2.4882\n",
            "Validation Loss: 2.4882\n",
            "Saved best model with validation loss: 2.4882\n",
            "\n",
            "Epoch 14/50\n"
          ]
        },
        {
          "output_type": "stream",
          "name": "stderr",
          "text": [
            "\rTraining:   0%|          | 0/250 [00:00<?, ?it/s]"
          ]
        },
        {
          "output_type": "stream",
          "name": "stdout",
          "text": [
            "\n",
            "Input audio shape: torch.Size([4, 48000])\n",
            "Context output shape: torch.Size([4, 599, 256])\n",
            "Quantized output shape: torch.Size([4, 599, 256])\n",
            "Mask indices shape: torch.Size([4, 599])\n",
            "Number of masked positions: 1180\n",
            "Initial loss: 2.5074\n",
            "L2 loss: 64.5136\n",
            "Total loss: 3.1525\n"
          ]
        },
        {
          "output_type": "stream",
          "name": "stderr",
          "text": [
            "\rTraining:   0%|          | 1/250 [00:00<00:54,  4.55it/s]"
          ]
        },
        {
          "output_type": "stream",
          "name": "stdout",
          "text": [
            "Gradient norm: 3.2606\n",
            "Batch 0, Loss: 3.1525\n",
            "Batch 1, Loss: 3.1290\n"
          ]
        },
        {
          "output_type": "stream",
          "name": "stderr",
          "text": [
            "\rTraining:   1%|          | 3/250 [00:00<00:27,  8.90it/s]"
          ]
        },
        {
          "output_type": "stream",
          "name": "stdout",
          "text": [
            "Batch 2, Loss: 3.0375\n"
          ]
        },
        {
          "output_type": "stream",
          "name": "stderr",
          "text": [
            "\rTraining:   2%|▏         | 5/250 [00:00<00:22, 10.76it/s]"
          ]
        },
        {
          "output_type": "stream",
          "name": "stdout",
          "text": [
            "Batch 3, Loss: 3.1267\n",
            "Batch 4, Loss: 3.1399\n"
          ]
        },
        {
          "output_type": "stream",
          "name": "stderr",
          "text": [
            "Training: 100%|██████████| 250/250 [00:19<00:00, 12.96it/s]\n"
          ]
        },
        {
          "output_type": "stream",
          "name": "stdout",
          "text": [
            "Training Loss: 3.1428\n"
          ]
        },
        {
          "output_type": "stream",
          "name": "stderr",
          "text": [
            "Validation:   4%|▍         | 1/25 [00:00<00:03,  6.07it/s]"
          ]
        },
        {
          "output_type": "stream",
          "name": "stdout",
          "text": [
            "\n",
            "Validation batch shapes:\n",
            "Context output shape: torch.Size([4, 599, 256])\n",
            "Quantized output shape: torch.Size([4, 599, 256])\n",
            "Mask indices shape: torch.Size([4, 599])\n",
            "Number of masked positions: 1208\n",
            "First validation batch loss: 2.4408\n"
          ]
        },
        {
          "output_type": "stream",
          "name": "stderr",
          "text": [
            "Validation: 100%|██████████| 25/25 [00:00<00:00, 31.44it/s]\n"
          ]
        },
        {
          "output_type": "stream",
          "name": "stdout",
          "text": [
            "\n",
            "Validation stats:\n",
            "Total batches: 25\n",
            "Average loss: 2.5347\n",
            "Validation Loss: 2.5347\n",
            "\n",
            "Epoch 15/50\n"
          ]
        },
        {
          "output_type": "stream",
          "name": "stderr",
          "text": [
            "\rTraining:   0%|          | 0/250 [00:00<?, ?it/s]"
          ]
        },
        {
          "output_type": "stream",
          "name": "stdout",
          "text": [
            "\n",
            "Input audio shape: torch.Size([4, 48000])\n"
          ]
        },
        {
          "output_type": "stream",
          "name": "stderr",
          "text": [
            "\rTraining:   0%|          | 1/250 [00:00<01:16,  3.24it/s]"
          ]
        },
        {
          "output_type": "stream",
          "name": "stdout",
          "text": [
            "Context output shape: torch.Size([4, 599, 256])\n",
            "Quantized output shape: torch.Size([4, 599, 256])\n",
            "Mask indices shape: torch.Size([4, 599])\n",
            "Number of masked positions: 1196\n",
            "Initial loss: 2.4479\n",
            "L2 loss: 62.7277\n",
            "Total loss: 3.0752\n",
            "Gradient norm: 10.9789\n",
            "Batch 0, Loss: 3.0752\n",
            "Batch 1, Loss: 3.1170\n"
          ]
        },
        {
          "output_type": "stream",
          "name": "stderr",
          "text": [
            "\rTraining:   1%|          | 3/250 [00:00<00:34,  7.18it/s]"
          ]
        },
        {
          "output_type": "stream",
          "name": "stdout",
          "text": [
            "Batch 2, Loss: 3.0985\n",
            "Batch 3, Loss: 2.9775\n"
          ]
        },
        {
          "output_type": "stream",
          "name": "stderr",
          "text": [
            "\rTraining:   2%|▏         | 5/250 [00:00<00:26,  9.10it/s]"
          ]
        },
        {
          "output_type": "stream",
          "name": "stdout",
          "text": [
            "Batch 4, Loss: 3.1172\n"
          ]
        },
        {
          "output_type": "stream",
          "name": "stderr",
          "text": [
            "Training: 100%|██████████| 250/250 [00:19<00:00, 12.65it/s]\n"
          ]
        },
        {
          "output_type": "stream",
          "name": "stdout",
          "text": [
            "Training Loss: 3.0635\n"
          ]
        },
        {
          "output_type": "stream",
          "name": "stderr",
          "text": [
            "Validation:   4%|▍         | 1/25 [00:00<00:03,  7.05it/s]"
          ]
        },
        {
          "output_type": "stream",
          "name": "stdout",
          "text": [
            "\n",
            "Validation batch shapes:\n",
            "Context output shape: torch.Size([4, 599, 256])\n",
            "Quantized output shape: torch.Size([4, 599, 256])\n",
            "Mask indices shape: torch.Size([4, 599])\n",
            "Number of masked positions: 1316\n",
            "First validation batch loss: 2.4922\n"
          ]
        },
        {
          "output_type": "stream",
          "name": "stderr",
          "text": [
            "Validation: 100%|██████████| 25/25 [00:00<00:00, 31.97it/s]\n"
          ]
        },
        {
          "output_type": "stream",
          "name": "stdout",
          "text": [
            "\n",
            "Validation stats:\n",
            "Total batches: 25\n",
            "Average loss: 2.4410\n",
            "Validation Loss: 2.4410\n",
            "Saved best model with validation loss: 2.4410\n",
            "\n",
            "Epoch 16/50\n"
          ]
        },
        {
          "output_type": "stream",
          "name": "stderr",
          "text": [
            "\rTraining:   0%|          | 0/250 [00:00<?, ?it/s]"
          ]
        },
        {
          "output_type": "stream",
          "name": "stdout",
          "text": [
            "\n",
            "Input audio shape: torch.Size([4, 48000])\n",
            "Context output shape: torch.Size([4, 599, 256])\n",
            "Quantized output shape: torch.Size([4, 599, 256])\n",
            "Mask indices shape: torch.Size([4, 599])\n",
            "Number of masked positions: 1128\n",
            "Initial loss: 2.3934\n",
            "L2 loss: 60.5262\n",
            "Total loss: 2.9987\n"
          ]
        },
        {
          "output_type": "stream",
          "name": "stderr",
          "text": [
            "\rTraining:   0%|          | 1/250 [00:00<00:56,  4.38it/s]"
          ]
        },
        {
          "output_type": "stream",
          "name": "stdout",
          "text": [
            "Gradient norm: 4.0215\n",
            "Batch 0, Loss: 2.9987\n",
            "Batch 1, Loss: 3.0588\n"
          ]
        },
        {
          "output_type": "stream",
          "name": "stderr",
          "text": [
            "\rTraining:   1%|          | 3/250 [00:00<00:28,  8.67it/s]"
          ]
        },
        {
          "output_type": "stream",
          "name": "stdout",
          "text": [
            "Batch 2, Loss: 3.1203\n"
          ]
        },
        {
          "output_type": "stream",
          "name": "stderr",
          "text": [
            "\rTraining:   2%|▏         | 5/250 [00:00<00:23, 10.51it/s]"
          ]
        },
        {
          "output_type": "stream",
          "name": "stdout",
          "text": [
            "Batch 3, Loss: 2.8985\n",
            "Batch 4, Loss: 3.0277\n"
          ]
        },
        {
          "output_type": "stream",
          "name": "stderr",
          "text": [
            "Training: 100%|██████████| 250/250 [00:19<00:00, 12.94it/s]\n"
          ]
        },
        {
          "output_type": "stream",
          "name": "stdout",
          "text": [
            "Training Loss: 2.9323\n"
          ]
        },
        {
          "output_type": "stream",
          "name": "stderr",
          "text": [
            "Validation:   4%|▍         | 1/25 [00:00<00:03,  7.32it/s]"
          ]
        },
        {
          "output_type": "stream",
          "name": "stdout",
          "text": [
            "\n",
            "Validation batch shapes:\n",
            "Context output shape: torch.Size([4, 599, 256])\n",
            "Quantized output shape: torch.Size([4, 599, 256])\n",
            "Mask indices shape: torch.Size([4, 599])\n",
            "Number of masked positions: 1156\n",
            "First validation batch loss: 2.3418\n"
          ]
        },
        {
          "output_type": "stream",
          "name": "stderr",
          "text": [
            "Validation: 100%|██████████| 25/25 [00:00<00:00, 33.74it/s]\n"
          ]
        },
        {
          "output_type": "stream",
          "name": "stdout",
          "text": [
            "\n",
            "Validation stats:\n",
            "Total batches: 25\n",
            "Average loss: 2.4410\n",
            "Validation Loss: 2.4410\n",
            "Saved best model with validation loss: 2.4410\n",
            "\n",
            "Epoch 17/50\n"
          ]
        },
        {
          "output_type": "stream",
          "name": "stderr",
          "text": [
            "\rTraining:   0%|          | 0/250 [00:00<?, ?it/s]"
          ]
        },
        {
          "output_type": "stream",
          "name": "stdout",
          "text": [
            "\n",
            "Input audio shape: torch.Size([4, 48000])\n",
            "Context output shape: torch.Size([4, 599, 256])\n",
            "Quantized output shape: torch.Size([4, 599, 256])\n",
            "Mask indices shape: torch.Size([4, 599])\n",
            "Number of masked positions: 1168\n",
            "Initial loss: 2.3499\n",
            "L2 loss: 57.0485\n",
            "Total loss: 2.9204\n"
          ]
        },
        {
          "output_type": "stream",
          "name": "stderr",
          "text": [
            "\rTraining:   0%|          | 1/250 [00:00<00:59,  4.19it/s]"
          ]
        },
        {
          "output_type": "stream",
          "name": "stdout",
          "text": [
            "Gradient norm: 7.8503\n",
            "Batch 0, Loss: 2.9204\n",
            "Batch 1, Loss: 3.0150\n"
          ]
        },
        {
          "output_type": "stream",
          "name": "stderr",
          "text": [
            "\rTraining:   1%|          | 3/250 [00:00<00:30,  8.10it/s]"
          ]
        },
        {
          "output_type": "stream",
          "name": "stdout",
          "text": [
            "Batch 2, Loss: 2.9526\n"
          ]
        },
        {
          "output_type": "stream",
          "name": "stderr",
          "text": [
            "\rTraining:   2%|▏         | 5/250 [00:00<00:24,  9.95it/s]"
          ]
        },
        {
          "output_type": "stream",
          "name": "stdout",
          "text": [
            "Batch 3, Loss: 2.9419\n",
            "Batch 4, Loss: 2.8005\n"
          ]
        },
        {
          "output_type": "stream",
          "name": "stderr",
          "text": [
            "Training: 100%|██████████| 250/250 [00:19<00:00, 12.66it/s]\n"
          ]
        },
        {
          "output_type": "stream",
          "name": "stdout",
          "text": [
            "Training Loss: 2.8243\n"
          ]
        },
        {
          "output_type": "stream",
          "name": "stderr",
          "text": [
            "Validation:   4%|▍         | 1/25 [00:00<00:03,  6.47it/s]"
          ]
        },
        {
          "output_type": "stream",
          "name": "stdout",
          "text": [
            "\n",
            "Validation batch shapes:\n",
            "Context output shape: torch.Size([4, 599, 256])\n",
            "Quantized output shape: torch.Size([4, 599, 256])\n",
            "Mask indices shape: torch.Size([4, 599])\n",
            "Number of masked positions: 1128\n",
            "First validation batch loss: 2.2912\n"
          ]
        },
        {
          "output_type": "stream",
          "name": "stderr",
          "text": [
            "Validation: 100%|██████████| 25/25 [00:00<00:00, 31.59it/s]\n"
          ]
        },
        {
          "output_type": "stream",
          "name": "stdout",
          "text": [
            "\n",
            "Validation stats:\n",
            "Total batches: 25\n",
            "Average loss: 2.3863\n",
            "Validation Loss: 2.3863\n",
            "Saved best model with validation loss: 2.3863\n",
            "\n",
            "Epoch 18/50\n"
          ]
        },
        {
          "output_type": "stream",
          "name": "stderr",
          "text": [
            "\rTraining:   0%|          | 0/250 [00:00<?, ?it/s]"
          ]
        },
        {
          "output_type": "stream",
          "name": "stdout",
          "text": [
            "\n",
            "Input audio shape: torch.Size([4, 48000])\n",
            "Context output shape: torch.Size([4, 599, 256])\n",
            "Quantized output shape: torch.Size([4, 599, 256])\n",
            "Mask indices shape: torch.Size([4, 599])\n",
            "Number of masked positions: 1092\n",
            "Initial loss: 2.1992\n",
            "L2 loss: 53.1702\n",
            "Total loss: 2.7309\n"
          ]
        },
        {
          "output_type": "stream",
          "name": "stderr",
          "text": [
            "\rTraining:   0%|          | 1/250 [00:00<00:58,  4.22it/s]"
          ]
        },
        {
          "output_type": "stream",
          "name": "stdout",
          "text": [
            "Gradient norm: 10.7721\n",
            "Batch 0, Loss: 2.7309\n",
            "Batch 1, Loss: 2.9124\n"
          ]
        },
        {
          "output_type": "stream",
          "name": "stderr",
          "text": [
            "\rTraining:   1%|          | 3/250 [00:00<00:28,  8.52it/s]"
          ]
        },
        {
          "output_type": "stream",
          "name": "stdout",
          "text": [
            "Batch 2, Loss: 2.8818\n"
          ]
        },
        {
          "output_type": "stream",
          "name": "stderr",
          "text": [
            "\rTraining:   2%|▏         | 5/250 [00:00<00:23, 10.38it/s]"
          ]
        },
        {
          "output_type": "stream",
          "name": "stdout",
          "text": [
            "Batch 3, Loss: 2.8621\n",
            "Batch 4, Loss: 2.7793\n"
          ]
        },
        {
          "output_type": "stream",
          "name": "stderr",
          "text": [
            "Training: 100%|██████████| 250/250 [00:19<00:00, 12.84it/s]\n"
          ]
        },
        {
          "output_type": "stream",
          "name": "stdout",
          "text": [
            "Training Loss: 2.7259\n"
          ]
        },
        {
          "output_type": "stream",
          "name": "stderr",
          "text": [
            "Validation:   4%|▍         | 1/25 [00:00<00:03,  6.79it/s]"
          ]
        },
        {
          "output_type": "stream",
          "name": "stdout",
          "text": [
            "\n",
            "Validation batch shapes:\n",
            "Context output shape: torch.Size([4, 599, 256])\n",
            "Quantized output shape: torch.Size([4, 599, 256])\n",
            "Mask indices shape: torch.Size([4, 599])\n",
            "Number of masked positions: 1144\n",
            "First validation batch loss: 2.2383\n"
          ]
        },
        {
          "output_type": "stream",
          "name": "stderr",
          "text": [
            "Validation: 100%|██████████| 25/25 [00:00<00:00, 31.43it/s]\n"
          ]
        },
        {
          "output_type": "stream",
          "name": "stdout",
          "text": [
            "\n",
            "Validation stats:\n",
            "Total batches: 25\n",
            "Average loss: 2.2471\n",
            "Validation Loss: 2.2471\n",
            "Saved best model with validation loss: 2.2471\n",
            "\n",
            "Epoch 19/50\n"
          ]
        },
        {
          "output_type": "stream",
          "name": "stderr",
          "text": [
            "Training:   0%|          | 1/250 [00:00<01:27,  2.86it/s]"
          ]
        },
        {
          "output_type": "stream",
          "name": "stdout",
          "text": [
            "\n",
            "Input audio shape: torch.Size([4, 48000])\n",
            "Context output shape: torch.Size([4, 599, 256])\n",
            "Quantized output shape: torch.Size([4, 599, 256])\n",
            "Mask indices shape: torch.Size([4, 599])\n",
            "Number of masked positions: 1256\n",
            "Initial loss: 2.2204\n",
            "L2 loss: 49.3809\n",
            "Total loss: 2.7142\n",
            "Gradient norm: 7.6273\n",
            "Batch 0, Loss: 2.7142\n",
            "Batch 1, Loss: 2.6065\n"
          ]
        },
        {
          "output_type": "stream",
          "name": "stderr",
          "text": [
            "Training:   2%|▏         | 5/250 [00:00<00:28,  8.57it/s]"
          ]
        },
        {
          "output_type": "stream",
          "name": "stdout",
          "text": [
            "Batch 2, Loss: 2.7053\n",
            "Batch 3, Loss: 2.5731\n",
            "Batch 4, Loss: 2.6188\n"
          ]
        },
        {
          "output_type": "stream",
          "name": "stderr",
          "text": [
            "Training: 100%|██████████| 250/250 [00:19<00:00, 12.61it/s]\n"
          ]
        },
        {
          "output_type": "stream",
          "name": "stdout",
          "text": [
            "Training Loss: 2.6304\n"
          ]
        },
        {
          "output_type": "stream",
          "name": "stderr",
          "text": [
            "Validation:   4%|▍         | 1/25 [00:00<00:03,  6.69it/s]"
          ]
        },
        {
          "output_type": "stream",
          "name": "stdout",
          "text": [
            "\n",
            "Validation batch shapes:\n",
            "Context output shape: torch.Size([4, 599, 256])\n",
            "Quantized output shape: torch.Size([4, 599, 256])\n",
            "Mask indices shape: torch.Size([4, 599])\n",
            "Number of masked positions: 1168\n",
            "First validation batch loss: 2.2722\n"
          ]
        },
        {
          "output_type": "stream",
          "name": "stderr",
          "text": [
            "Validation: 100%|██████████| 25/25 [00:00<00:00, 32.25it/s]\n"
          ]
        },
        {
          "output_type": "stream",
          "name": "stdout",
          "text": [
            "\n",
            "Validation stats:\n",
            "Total batches: 25\n",
            "Average loss: 2.3310\n",
            "Validation Loss: 2.3310\n",
            "\n",
            "Epoch 20/50\n"
          ]
        },
        {
          "output_type": "stream",
          "name": "stderr",
          "text": [
            "\rTraining:   0%|          | 0/250 [00:00<?, ?it/s]"
          ]
        },
        {
          "output_type": "stream",
          "name": "stdout",
          "text": [
            "\n",
            "Input audio shape: torch.Size([4, 48000])\n",
            "Context output shape: torch.Size([4, 599, 256])\n",
            "Quantized output shape: torch.Size([4, 599, 256])\n",
            "Mask indices shape: torch.Size([4, 599])\n",
            "Number of masked positions: 1200\n",
            "Initial loss: 2.2562\n",
            "L2 loss: 45.7991\n",
            "Total loss: 2.7142\n"
          ]
        },
        {
          "output_type": "stream",
          "name": "stderr",
          "text": [
            "\rTraining:   0%|          | 1/250 [00:00<00:53,  4.68it/s]"
          ]
        },
        {
          "output_type": "stream",
          "name": "stdout",
          "text": [
            "Gradient norm: 7.3570\n",
            "Batch 0, Loss: 2.7142\n",
            "Batch 1, Loss: 2.5758\n"
          ]
        },
        {
          "output_type": "stream",
          "name": "stderr",
          "text": [
            "\rTraining:   1%|          | 3/250 [00:00<00:27,  8.95it/s]"
          ]
        },
        {
          "output_type": "stream",
          "name": "stdout",
          "text": [
            "Batch 2, Loss: 2.6655\n"
          ]
        },
        {
          "output_type": "stream",
          "name": "stderr",
          "text": [
            "\rTraining:   2%|▏         | 5/250 [00:00<00:22, 10.72it/s]"
          ]
        },
        {
          "output_type": "stream",
          "name": "stdout",
          "text": [
            "Batch 3, Loss: 2.6120\n",
            "Batch 4, Loss: 2.6207\n"
          ]
        },
        {
          "output_type": "stream",
          "name": "stderr",
          "text": [
            "Training: 100%|██████████| 250/250 [00:19<00:00, 12.92it/s]\n"
          ]
        },
        {
          "output_type": "stream",
          "name": "stdout",
          "text": [
            "Training Loss: 2.6200\n"
          ]
        },
        {
          "output_type": "stream",
          "name": "stderr",
          "text": [
            "Validation:   4%|▍         | 1/25 [00:00<00:03,  6.87it/s]"
          ]
        },
        {
          "output_type": "stream",
          "name": "stdout",
          "text": [
            "\n",
            "Validation batch shapes:\n",
            "Context output shape: torch.Size([4, 599, 256])\n",
            "Quantized output shape: torch.Size([4, 599, 256])\n",
            "Mask indices shape: torch.Size([4, 599])\n",
            "Number of masked positions: 1084\n",
            "First validation batch loss: 2.3594\n"
          ]
        },
        {
          "output_type": "stream",
          "name": "stderr",
          "text": [
            "Validation: 100%|██████████| 25/25 [00:00<00:00, 28.38it/s]\n"
          ]
        },
        {
          "output_type": "stream",
          "name": "stdout",
          "text": [
            "\n",
            "Validation stats:\n",
            "Total batches: 25\n",
            "Average loss: 2.4799\n",
            "Validation Loss: 2.4799\n",
            "\n",
            "Epoch 21/50\n"
          ]
        },
        {
          "output_type": "stream",
          "name": "stderr",
          "text": [
            "Training:   0%|          | 1/250 [00:00<01:27,  2.86it/s]"
          ]
        },
        {
          "output_type": "stream",
          "name": "stdout",
          "text": [
            "\n",
            "Input audio shape: torch.Size([4, 48000])\n",
            "Context output shape: torch.Size([4, 599, 256])\n",
            "Quantized output shape: torch.Size([4, 599, 256])\n",
            "Mask indices shape: torch.Size([4, 599])\n",
            "Number of masked positions: 1208\n",
            "Initial loss: 2.1127\n",
            "L2 loss: 46.6324\n",
            "Total loss: 2.5790\n",
            "Gradient norm: 5.3777\n",
            "Batch 0, Loss: 2.5790\n",
            "Batch 1, Loss: 2.5957\n"
          ]
        },
        {
          "output_type": "stream",
          "name": "stderr",
          "text": [
            "Training:   2%|▏         | 5/250 [00:00<00:29,  8.37it/s]"
          ]
        },
        {
          "output_type": "stream",
          "name": "stdout",
          "text": [
            "Batch 2, Loss: 2.5226\n",
            "Batch 3, Loss: 2.5123\n",
            "Batch 4, Loss: 2.4073\n"
          ]
        },
        {
          "output_type": "stream",
          "name": "stderr",
          "text": [
            "Training: 100%|██████████| 250/250 [00:19<00:00, 12.68it/s]\n"
          ]
        },
        {
          "output_type": "stream",
          "name": "stdout",
          "text": [
            "Training Loss: 2.5008\n"
          ]
        },
        {
          "output_type": "stream",
          "name": "stderr",
          "text": [
            "Validation:   4%|▍         | 1/25 [00:00<00:03,  6.81it/s]"
          ]
        },
        {
          "output_type": "stream",
          "name": "stdout",
          "text": [
            "\n",
            "Validation batch shapes:\n",
            "Context output shape: torch.Size([4, 599, 256])\n",
            "Quantized output shape: torch.Size([4, 599, 256])\n",
            "Mask indices shape: torch.Size([4, 599])\n",
            "Number of masked positions: 1032\n",
            "First validation batch loss: 2.1106\n"
          ]
        },
        {
          "output_type": "stream",
          "name": "stderr",
          "text": [
            "Validation: 100%|██████████| 25/25 [00:00<00:00, 31.82it/s]\n"
          ]
        },
        {
          "output_type": "stream",
          "name": "stdout",
          "text": [
            "\n",
            "Validation stats:\n",
            "Total batches: 25\n",
            "Average loss: 2.4369\n",
            "Validation Loss: 2.4369\n",
            "\n",
            "Epoch 22/50\n"
          ]
        },
        {
          "output_type": "stream",
          "name": "stderr",
          "text": [
            "\rTraining:   0%|          | 0/250 [00:00<?, ?it/s]"
          ]
        },
        {
          "output_type": "stream",
          "name": "stdout",
          "text": [
            "\n",
            "Input audio shape: torch.Size([4, 48000])\n",
            "Context output shape: torch.Size([4, 599, 256])\n",
            "Quantized output shape: torch.Size([4, 599, 256])\n",
            "Mask indices shape: torch.Size([4, 599])\n",
            "Number of masked positions: 1196\n",
            "Initial loss: 2.1412\n",
            "L2 loss: 41.5460\n",
            "Total loss: 2.5567\n"
          ]
        },
        {
          "output_type": "stream",
          "name": "stderr",
          "text": [
            "\rTraining:   0%|          | 1/250 [00:00<00:56,  4.43it/s]"
          ]
        },
        {
          "output_type": "stream",
          "name": "stdout",
          "text": [
            "Gradient norm: 10.6432\n",
            "Batch 0, Loss: 2.5567\n",
            "Batch 1, Loss: 2.4006\n"
          ]
        },
        {
          "output_type": "stream",
          "name": "stderr",
          "text": [
            "\rTraining:   1%|          | 3/250 [00:00<00:28,  8.82it/s]"
          ]
        },
        {
          "output_type": "stream",
          "name": "stdout",
          "text": [
            "Batch 2, Loss: 2.4970\n"
          ]
        },
        {
          "output_type": "stream",
          "name": "stderr",
          "text": [
            "\rTraining:   2%|▏         | 5/250 [00:00<00:22, 10.67it/s]"
          ]
        },
        {
          "output_type": "stream",
          "name": "stdout",
          "text": [
            "Batch 3, Loss: 2.4651\n",
            "Batch 4, Loss: 2.4278\n"
          ]
        },
        {
          "output_type": "stream",
          "name": "stderr",
          "text": [
            "Training: 100%|██████████| 250/250 [00:19<00:00, 12.95it/s]\n"
          ]
        },
        {
          "output_type": "stream",
          "name": "stdout",
          "text": [
            "Training Loss: 2.4372\n"
          ]
        },
        {
          "output_type": "stream",
          "name": "stderr",
          "text": [
            "Validation:  16%|█▌        | 4/25 [00:00<00:01, 14.09it/s]"
          ]
        },
        {
          "output_type": "stream",
          "name": "stdout",
          "text": [
            "\n",
            "Validation batch shapes:\n",
            "Context output shape: torch.Size([4, 599, 256])\n",
            "Quantized output shape: torch.Size([4, 599, 256])\n",
            "Mask indices shape: torch.Size([4, 599])\n",
            "Number of masked positions: 1116\n",
            "First validation batch loss: 2.3082\n"
          ]
        },
        {
          "output_type": "stream",
          "name": "stderr",
          "text": [
            "Validation: 100%|██████████| 25/25 [00:01<00:00, 24.31it/s]\n"
          ]
        },
        {
          "output_type": "stream",
          "name": "stdout",
          "text": [
            "\n",
            "Validation stats:\n",
            "Total batches: 25\n",
            "Average loss: 2.2389\n",
            "Validation Loss: 2.2389\n",
            "Saved best model with validation loss: 2.2389\n",
            "\n",
            "Epoch 23/50\n"
          ]
        },
        {
          "output_type": "stream",
          "name": "stderr",
          "text": [
            "Training:   0%|          | 1/250 [00:00<01:20,  3.09it/s]"
          ]
        },
        {
          "output_type": "stream",
          "name": "stdout",
          "text": [
            "\n",
            "Input audio shape: torch.Size([4, 48000])\n",
            "Context output shape: torch.Size([4, 599, 256])\n",
            "Quantized output shape: torch.Size([4, 599, 256])\n",
            "Mask indices shape: torch.Size([4, 599])\n",
            "Number of masked positions: 1108\n",
            "Initial loss: 1.9993\n",
            "L2 loss: 39.9266\n",
            "Total loss: 2.3986\n",
            "Gradient norm: 4.5988\n",
            "Batch 0, Loss: 2.3986\n",
            "Batch 1, Loss: 2.4898\n"
          ]
        },
        {
          "output_type": "stream",
          "name": "stderr",
          "text": [
            "Training:   2%|▏         | 5/250 [00:00<00:26,  9.15it/s]"
          ]
        },
        {
          "output_type": "stream",
          "name": "stdout",
          "text": [
            "Batch 2, Loss: 2.3811\n",
            "Batch 3, Loss: 2.3987\n",
            "Batch 4, Loss: 2.4566\n"
          ]
        },
        {
          "output_type": "stream",
          "name": "stderr",
          "text": [
            "Training: 100%|██████████| 250/250 [00:19<00:00, 12.81it/s]\n"
          ]
        },
        {
          "output_type": "stream",
          "name": "stdout",
          "text": [
            "Training Loss: 2.3648\n"
          ]
        },
        {
          "output_type": "stream",
          "name": "stderr",
          "text": [
            "Validation:   4%|▍         | 1/25 [00:00<00:03,  6.55it/s]"
          ]
        },
        {
          "output_type": "stream",
          "name": "stdout",
          "text": [
            "\n",
            "Validation batch shapes:\n",
            "Context output shape: torch.Size([4, 599, 256])\n",
            "Quantized output shape: torch.Size([4, 599, 256])\n",
            "Mask indices shape: torch.Size([4, 599])\n",
            "Number of masked positions: 1092\n",
            "First validation batch loss: 2.4209\n"
          ]
        },
        {
          "output_type": "stream",
          "name": "stderr",
          "text": [
            "Validation: 100%|██████████| 25/25 [00:00<00:00, 32.76it/s]\n"
          ]
        },
        {
          "output_type": "stream",
          "name": "stdout",
          "text": [
            "\n",
            "Validation stats:\n",
            "Total batches: 25\n",
            "Average loss: 2.2217\n",
            "Validation Loss: 2.2217\n",
            "Saved best model with validation loss: 2.2217\n",
            "\n",
            "Epoch 24/50\n"
          ]
        },
        {
          "output_type": "stream",
          "name": "stderr",
          "text": [
            "\rTraining:   0%|          | 0/250 [00:00<?, ?it/s]"
          ]
        },
        {
          "output_type": "stream",
          "name": "stdout",
          "text": [
            "\n",
            "Input audio shape: torch.Size([4, 48000])\n",
            "Context output shape: torch.Size([4, 599, 256])\n",
            "Quantized output shape: torch.Size([4, 599, 256])\n",
            "Mask indices shape: torch.Size([4, 599])\n",
            "Number of masked positions: 1228\n",
            "Initial loss: 2.0143\n",
            "L2 loss: 37.8438\n",
            "Total loss: 2.3927\n"
          ]
        },
        {
          "output_type": "stream",
          "name": "stderr",
          "text": [
            "\rTraining:   0%|          | 1/250 [00:00<00:56,  4.42it/s]"
          ]
        },
        {
          "output_type": "stream",
          "name": "stdout",
          "text": [
            "Gradient norm: 3.2389\n",
            "Batch 0, Loss: 2.3927\n",
            "Batch 1, Loss: 2.2799\n"
          ]
        },
        {
          "output_type": "stream",
          "name": "stderr",
          "text": [
            "\rTraining:   1%|          | 3/250 [00:00<00:28,  8.75it/s]"
          ]
        },
        {
          "output_type": "stream",
          "name": "stdout",
          "text": [
            "Batch 2, Loss: 2.2946\n"
          ]
        },
        {
          "output_type": "stream",
          "name": "stderr",
          "text": [
            "\rTraining:   2%|▏         | 5/250 [00:00<00:22, 10.66it/s]"
          ]
        },
        {
          "output_type": "stream",
          "name": "stdout",
          "text": [
            "Batch 3, Loss: 2.3626\n",
            "Batch 4, Loss: 2.3345\n"
          ]
        },
        {
          "output_type": "stream",
          "name": "stderr",
          "text": [
            "Training: 100%|██████████| 250/250 [00:19<00:00, 12.83it/s]\n"
          ]
        },
        {
          "output_type": "stream",
          "name": "stdout",
          "text": [
            "Training Loss: 2.2886\n"
          ]
        },
        {
          "output_type": "stream",
          "name": "stderr",
          "text": [
            "Validation:   4%|▍         | 1/25 [00:00<00:04,  5.36it/s]"
          ]
        },
        {
          "output_type": "stream",
          "name": "stdout",
          "text": [
            "\n",
            "Validation batch shapes:\n",
            "Context output shape: torch.Size([4, 599, 256])\n",
            "Quantized output shape: torch.Size([4, 599, 256])\n",
            "Mask indices shape: torch.Size([4, 599])\n",
            "Number of masked positions: 1148\n",
            "First validation batch loss: 3.5869\n"
          ]
        },
        {
          "output_type": "stream",
          "name": "stderr",
          "text": [
            "Validation: 100%|██████████| 25/25 [00:01<00:00, 24.51it/s]\n"
          ]
        },
        {
          "output_type": "stream",
          "name": "stdout",
          "text": [
            "\n",
            "Validation stats:\n",
            "Total batches: 25\n",
            "Average loss: 3.5683\n",
            "Validation Loss: 3.5683\n",
            "\n",
            "Epoch 25/50\n"
          ]
        },
        {
          "output_type": "stream",
          "name": "stderr",
          "text": [
            "\rTraining:   0%|          | 0/250 [00:00<?, ?it/s]"
          ]
        },
        {
          "output_type": "stream",
          "name": "stdout",
          "text": [
            "\n",
            "Input audio shape: torch.Size([4, 48000])\n",
            "Context output shape: torch.Size([4, 599, 256])\n",
            "Quantized output shape: torch.Size([4, 599, 256])\n",
            "Mask indices shape: torch.Size([4, 599])\n",
            "Number of masked positions: 1156\n",
            "Initial loss: 1.9373\n",
            "L2 loss: 33.5719\n",
            "Total loss: 2.2730\n"
          ]
        },
        {
          "output_type": "stream",
          "name": "stderr",
          "text": [
            "\rTraining:   0%|          | 1/250 [00:00<01:01,  4.08it/s]"
          ]
        },
        {
          "output_type": "stream",
          "name": "stdout",
          "text": [
            "Gradient norm: 13.3892\n",
            "Batch 0, Loss: 2.2730\n",
            "Batch 1, Loss: 2.2847\n"
          ]
        },
        {
          "output_type": "stream",
          "name": "stderr",
          "text": [
            "\rTraining:   1%|          | 3/250 [00:00<00:29,  8.39it/s]"
          ]
        },
        {
          "output_type": "stream",
          "name": "stdout",
          "text": [
            "Batch 2, Loss: 2.2941\n"
          ]
        },
        {
          "output_type": "stream",
          "name": "stderr",
          "text": [
            "\rTraining:   2%|▏         | 5/250 [00:00<00:23, 10.40it/s]"
          ]
        },
        {
          "output_type": "stream",
          "name": "stdout",
          "text": [
            "Batch 3, Loss: 2.2183\n",
            "Batch 4, Loss: 2.3201\n"
          ]
        },
        {
          "output_type": "stream",
          "name": "stderr",
          "text": [
            "Training: 100%|██████████| 250/250 [00:19<00:00, 12.99it/s]\n"
          ]
        },
        {
          "output_type": "stream",
          "name": "stdout",
          "text": [
            "Training Loss: 2.3112\n"
          ]
        },
        {
          "output_type": "stream",
          "name": "stderr",
          "text": [
            "Validation:   4%|▍         | 1/25 [00:00<00:03,  6.98it/s]"
          ]
        },
        {
          "output_type": "stream",
          "name": "stdout",
          "text": [
            "\n",
            "Validation batch shapes:\n",
            "Context output shape: torch.Size([4, 599, 256])\n",
            "Quantized output shape: torch.Size([4, 599, 256])\n",
            "Mask indices shape: torch.Size([4, 599])\n",
            "Number of masked positions: 1220\n",
            "First validation batch loss: 4.4837\n"
          ]
        },
        {
          "output_type": "stream",
          "name": "stderr",
          "text": [
            "Validation: 100%|██████████| 25/25 [00:00<00:00, 32.78it/s]\n"
          ]
        },
        {
          "output_type": "stream",
          "name": "stdout",
          "text": [
            "\n",
            "Validation stats:\n",
            "Total batches: 25\n",
            "Average loss: 4.0273\n",
            "Validation Loss: 4.0273\n",
            "\n",
            "Epoch 26/50\n"
          ]
        },
        {
          "output_type": "stream",
          "name": "stderr",
          "text": [
            "\rTraining:   0%|          | 0/250 [00:00<?, ?it/s]"
          ]
        },
        {
          "output_type": "stream",
          "name": "stdout",
          "text": [
            "\n",
            "Input audio shape: torch.Size([4, 48000])\n",
            "Context output shape: torch.Size([4, 599, 256])\n",
            "Quantized output shape: torch.Size([4, 599, 256])\n",
            "Mask indices shape: torch.Size([4, 599])\n",
            "Number of masked positions: 1184\n",
            "Initial loss: 1.8715\n",
            "L2 loss: 30.2605\n",
            "Total loss: 2.1741\n"
          ]
        },
        {
          "output_type": "stream",
          "name": "stderr",
          "text": [
            "\rTraining:   0%|          | 1/250 [00:00<00:57,  4.35it/s]"
          ]
        },
        {
          "output_type": "stream",
          "name": "stdout",
          "text": [
            "Gradient norm: 4.9094\n",
            "Batch 0, Loss: 2.1741\n",
            "Batch 1, Loss: 2.2225\n"
          ]
        },
        {
          "output_type": "stream",
          "name": "stderr",
          "text": [
            "\rTraining:   1%|          | 3/250 [00:00<00:28,  8.62it/s]"
          ]
        },
        {
          "output_type": "stream",
          "name": "stdout",
          "text": [
            "Batch 2, Loss: 2.2987\n"
          ]
        },
        {
          "output_type": "stream",
          "name": "stderr",
          "text": [
            "\rTraining:   2%|▏         | 5/250 [00:00<00:23, 10.46it/s]"
          ]
        },
        {
          "output_type": "stream",
          "name": "stdout",
          "text": [
            "Batch 3, Loss: 2.2529\n",
            "Batch 4, Loss: 2.2004\n"
          ]
        },
        {
          "output_type": "stream",
          "name": "stderr",
          "text": [
            "Training: 100%|██████████| 250/250 [00:19<00:00, 12.74it/s]\n"
          ]
        },
        {
          "output_type": "stream",
          "name": "stdout",
          "text": [
            "Training Loss: 2.2289\n"
          ]
        },
        {
          "output_type": "stream",
          "name": "stderr",
          "text": [
            "Validation:  16%|█▌        | 4/25 [00:00<00:01, 14.07it/s]"
          ]
        },
        {
          "output_type": "stream",
          "name": "stdout",
          "text": [
            "\n",
            "Validation batch shapes:\n",
            "Context output shape: torch.Size([4, 599, 256])\n",
            "Quantized output shape: torch.Size([4, 599, 256])\n",
            "Mask indices shape: torch.Size([4, 599])\n",
            "Number of masked positions: 1164\n",
            "First validation batch loss: 2.9006\n"
          ]
        },
        {
          "output_type": "stream",
          "name": "stderr",
          "text": [
            "Validation: 100%|██████████| 25/25 [00:00<00:00, 27.15it/s]\n"
          ]
        },
        {
          "output_type": "stream",
          "name": "stdout",
          "text": [
            "\n",
            "Validation stats:\n",
            "Total batches: 25\n",
            "Average loss: 3.2459\n",
            "Validation Loss: 3.2459\n",
            "\n",
            "Epoch 27/50\n"
          ]
        },
        {
          "output_type": "stream",
          "name": "stderr",
          "text": [
            "\rTraining:   0%|          | 0/250 [00:00<?, ?it/s]"
          ]
        },
        {
          "output_type": "stream",
          "name": "stdout",
          "text": [
            "\n",
            "Input audio shape: torch.Size([4, 48000])\n",
            "Context output shape: torch.Size([4, 599, 256])\n",
            "Quantized output shape: torch.Size([4, 599, 256])\n",
            "Mask indices shape: torch.Size([4, 599])\n",
            "Number of masked positions: 1096\n",
            "Initial loss: 1.8552\n",
            "L2 loss: 26.4651\n",
            "Total loss: 2.1198\n"
          ]
        },
        {
          "output_type": "stream",
          "name": "stderr",
          "text": [
            "\rTraining:   0%|          | 1/250 [00:00<00:53,  4.65it/s]"
          ]
        },
        {
          "output_type": "stream",
          "name": "stdout",
          "text": [
            "Gradient norm: 13.7310\n",
            "Batch 0, Loss: 2.1198\n",
            "Batch 1, Loss: 2.1671\n"
          ]
        },
        {
          "output_type": "stream",
          "name": "stderr",
          "text": [
            "\rTraining:   1%|          | 3/250 [00:00<00:28,  8.81it/s]"
          ]
        },
        {
          "output_type": "stream",
          "name": "stdout",
          "text": [
            "Batch 2, Loss: 2.0775\n"
          ]
        },
        {
          "output_type": "stream",
          "name": "stderr",
          "text": [
            "\rTraining:   2%|▏         | 5/250 [00:00<00:23, 10.63it/s]"
          ]
        },
        {
          "output_type": "stream",
          "name": "stdout",
          "text": [
            "Batch 3, Loss: 2.1932\n",
            "Batch 4, Loss: 2.0497\n"
          ]
        },
        {
          "output_type": "stream",
          "name": "stderr",
          "text": [
            "Training: 100%|██████████| 250/250 [00:19<00:00, 12.98it/s]\n"
          ]
        },
        {
          "output_type": "stream",
          "name": "stdout",
          "text": [
            "Training Loss: 2.1422\n"
          ]
        },
        {
          "output_type": "stream",
          "name": "stderr",
          "text": [
            "Validation:   4%|▍         | 1/25 [00:00<00:03,  7.15it/s]"
          ]
        },
        {
          "output_type": "stream",
          "name": "stdout",
          "text": [
            "\n",
            "Validation batch shapes:\n",
            "Context output shape: torch.Size([4, 599, 256])\n",
            "Quantized output shape: torch.Size([4, 599, 256])\n",
            "Mask indices shape: torch.Size([4, 599])\n",
            "Number of masked positions: 1216\n",
            "First validation batch loss: 3.1341\n"
          ]
        },
        {
          "output_type": "stream",
          "name": "stderr",
          "text": [
            "Validation: 100%|██████████| 25/25 [00:00<00:00, 32.39it/s]\n"
          ]
        },
        {
          "output_type": "stream",
          "name": "stdout",
          "text": [
            "\n",
            "Validation stats:\n",
            "Total batches: 25\n",
            "Average loss: 2.9088\n",
            "Validation Loss: 2.9088\n",
            "\n",
            "Epoch 28/50\n"
          ]
        },
        {
          "output_type": "stream",
          "name": "stderr",
          "text": [
            "\rTraining:   0%|          | 0/250 [00:00<?, ?it/s]"
          ]
        },
        {
          "output_type": "stream",
          "name": "stdout",
          "text": [
            "\n",
            "Input audio shape: torch.Size([4, 48000])\n",
            "Context output shape: torch.Size([4, 599, 256])\n",
            "Quantized output shape: torch.Size([4, 599, 256])\n",
            "Mask indices shape: torch.Size([4, 599])\n",
            "Number of masked positions: 1128\n",
            "Initial loss: 1.8259\n",
            "L2 loss: 22.8091\n",
            "Total loss: 2.0540\n"
          ]
        },
        {
          "output_type": "stream",
          "name": "stderr",
          "text": [
            "\rTraining:   0%|          | 1/250 [00:00<00:57,  4.32it/s]"
          ]
        },
        {
          "output_type": "stream",
          "name": "stdout",
          "text": [
            "Gradient norm: 3.5998\n",
            "Batch 0, Loss: 2.0540\n",
            "Batch 1, Loss: 2.1642\n"
          ]
        },
        {
          "output_type": "stream",
          "name": "stderr",
          "text": [
            "\rTraining:   1%|          | 3/250 [00:00<00:28,  8.56it/s]"
          ]
        },
        {
          "output_type": "stream",
          "name": "stdout",
          "text": [
            "Batch 2, Loss: 2.0611\n"
          ]
        },
        {
          "output_type": "stream",
          "name": "stderr",
          "text": [
            "\rTraining:   2%|▏         | 5/250 [00:00<00:23, 10.55it/s]"
          ]
        },
        {
          "output_type": "stream",
          "name": "stdout",
          "text": [
            "Batch 3, Loss: 2.1554\n",
            "Batch 4, Loss: 2.3241\n"
          ]
        },
        {
          "output_type": "stream",
          "name": "stderr",
          "text": [
            "Training: 100%|██████████| 250/250 [00:19<00:00, 12.72it/s]\n"
          ]
        },
        {
          "output_type": "stream",
          "name": "stdout",
          "text": [
            "Training Loss: 2.0420\n"
          ]
        },
        {
          "output_type": "stream",
          "name": "stderr",
          "text": [
            "Validation:  24%|██▍       | 6/25 [00:00<00:00, 19.83it/s]"
          ]
        },
        {
          "output_type": "stream",
          "name": "stdout",
          "text": [
            "\n",
            "Validation batch shapes:\n",
            "Context output shape: torch.Size([4, 599, 256])\n",
            "Quantized output shape: torch.Size([4, 599, 256])\n",
            "Mask indices shape: torch.Size([4, 599])\n",
            "Number of masked positions: 1072\n",
            "First validation batch loss: 3.9128\n"
          ]
        },
        {
          "output_type": "stream",
          "name": "stderr",
          "text": [
            "Validation: 100%|██████████| 25/25 [00:00<00:00, 28.97it/s]\n"
          ]
        },
        {
          "output_type": "stream",
          "name": "stdout",
          "text": [
            "\n",
            "Validation stats:\n",
            "Total batches: 25\n",
            "Average loss: 4.1612\n",
            "Validation Loss: 4.1612\n",
            "\n",
            "Epoch 29/50\n"
          ]
        },
        {
          "output_type": "stream",
          "name": "stderr",
          "text": [
            "\rTraining:   0%|          | 0/250 [00:00<?, ?it/s]"
          ]
        },
        {
          "output_type": "stream",
          "name": "stdout",
          "text": [
            "\n",
            "Input audio shape: torch.Size([4, 48000])\n",
            "Context output shape: torch.Size([4, 599, 256])\n",
            "Quantized output shape: torch.Size([4, 599, 256])\n",
            "Mask indices shape: torch.Size([4, 599])\n",
            "Number of masked positions: 1164\n",
            "Initial loss: 1.7991\n",
            "L2 loss: 20.3353\n",
            "Total loss: 2.0024\n"
          ]
        },
        {
          "output_type": "stream",
          "name": "stderr",
          "text": [
            "\rTraining:   0%|          | 1/250 [00:00<00:55,  4.46it/s]"
          ]
        },
        {
          "output_type": "stream",
          "name": "stdout",
          "text": [
            "Gradient norm: 15.3309\n",
            "Batch 0, Loss: 2.0024\n",
            "Batch 1, Loss: 1.9701\n"
          ]
        },
        {
          "output_type": "stream",
          "name": "stderr",
          "text": [
            "\rTraining:   1%|          | 3/250 [00:00<00:27,  8.85it/s]"
          ]
        },
        {
          "output_type": "stream",
          "name": "stdout",
          "text": [
            "Batch 2, Loss: 1.9692\n"
          ]
        },
        {
          "output_type": "stream",
          "name": "stderr",
          "text": [
            "\rTraining:   2%|▏         | 5/250 [00:00<00:23, 10.59it/s]"
          ]
        },
        {
          "output_type": "stream",
          "name": "stdout",
          "text": [
            "Batch 3, Loss: 1.9632\n",
            "Batch 4, Loss: 2.0051\n"
          ]
        },
        {
          "output_type": "stream",
          "name": "stderr",
          "text": [
            "Training: 100%|██████████| 250/250 [00:19<00:00, 12.90it/s]\n"
          ]
        },
        {
          "output_type": "stream",
          "name": "stdout",
          "text": [
            "Training Loss: 2.0440\n"
          ]
        },
        {
          "output_type": "stream",
          "name": "stderr",
          "text": [
            "Validation:   4%|▍         | 1/25 [00:00<00:03,  7.99it/s]"
          ]
        },
        {
          "output_type": "stream",
          "name": "stdout",
          "text": [
            "\n",
            "Validation batch shapes:\n",
            "Context output shape: torch.Size([4, 599, 256])\n",
            "Quantized output shape: torch.Size([4, 599, 256])\n",
            "Mask indices shape: torch.Size([4, 599])\n",
            "Number of masked positions: 1172\n",
            "First validation batch loss: 2.3375\n"
          ]
        },
        {
          "output_type": "stream",
          "name": "stderr",
          "text": [
            "Validation: 100%|██████████| 25/25 [00:00<00:00, 33.15it/s]\n"
          ]
        },
        {
          "output_type": "stream",
          "name": "stdout",
          "text": [
            "\n",
            "Validation stats:\n",
            "Total batches: 25\n",
            "Average loss: 2.5271\n",
            "Validation Loss: 2.5271\n",
            "\n",
            "Epoch 30/50\n"
          ]
        },
        {
          "output_type": "stream",
          "name": "stderr",
          "text": [
            "\rTraining:   0%|          | 0/250 [00:00<?, ?it/s]"
          ]
        },
        {
          "output_type": "stream",
          "name": "stdout",
          "text": [
            "\n",
            "Input audio shape: torch.Size([4, 48000])\n",
            "Context output shape: torch.Size([4, 599, 256])\n",
            "Quantized output shape: torch.Size([4, 599, 256])\n",
            "Mask indices shape: torch.Size([4, 599])\n",
            "Number of masked positions: 1112\n",
            "Initial loss: 1.7234\n",
            "L2 loss: 18.4201\n",
            "Total loss: 1.9076\n"
          ]
        },
        {
          "output_type": "stream",
          "name": "stderr",
          "text": [
            "\rTraining:   0%|          | 1/250 [00:00<00:55,  4.46it/s]"
          ]
        },
        {
          "output_type": "stream",
          "name": "stdout",
          "text": [
            "Gradient norm: 6.0321\n",
            "Batch 0, Loss: 1.9076\n",
            "Batch 1, Loss: 1.9277\n"
          ]
        },
        {
          "output_type": "stream",
          "name": "stderr",
          "text": [
            "\rTraining:   1%|          | 3/250 [00:00<00:27,  8.88it/s]"
          ]
        },
        {
          "output_type": "stream",
          "name": "stdout",
          "text": [
            "Batch 2, Loss: 2.0192\n"
          ]
        },
        {
          "output_type": "stream",
          "name": "stderr",
          "text": [
            "\rTraining:   2%|▏         | 5/250 [00:00<00:23, 10.47it/s]"
          ]
        },
        {
          "output_type": "stream",
          "name": "stdout",
          "text": [
            "Batch 3, Loss: 1.8576\n",
            "Batch 4, Loss: 1.9797\n"
          ]
        },
        {
          "output_type": "stream",
          "name": "stderr",
          "text": [
            "Training: 100%|██████████| 250/250 [00:19<00:00, 12.68it/s]\n"
          ]
        },
        {
          "output_type": "stream",
          "name": "stdout",
          "text": [
            "Training Loss: 1.9386\n"
          ]
        },
        {
          "output_type": "stream",
          "name": "stderr",
          "text": [
            "Validation:   4%|▍         | 1/25 [00:00<00:03,  7.71it/s]"
          ]
        },
        {
          "output_type": "stream",
          "name": "stdout",
          "text": [
            "\n",
            "Validation batch shapes:\n",
            "Context output shape: torch.Size([4, 599, 256])\n",
            "Quantized output shape: torch.Size([4, 599, 256])\n",
            "Mask indices shape: torch.Size([4, 599])\n",
            "Number of masked positions: 1220\n",
            "First validation batch loss: 3.7594\n"
          ]
        },
        {
          "output_type": "stream",
          "name": "stderr",
          "text": [
            "Validation: 100%|██████████| 25/25 [00:00<00:00, 32.16it/s]\n"
          ]
        },
        {
          "output_type": "stream",
          "name": "stdout",
          "text": [
            "\n",
            "Validation stats:\n",
            "Total batches: 25\n",
            "Average loss: 3.0476\n",
            "Validation Loss: 3.0476\n",
            "\n",
            "Epoch 31/50\n"
          ]
        },
        {
          "output_type": "stream",
          "name": "stderr",
          "text": [
            "\rTraining:   0%|          | 0/250 [00:00<?, ?it/s]"
          ]
        },
        {
          "output_type": "stream",
          "name": "stdout",
          "text": [
            "\n",
            "Input audio shape: torch.Size([4, 48000])\n",
            "Context output shape: torch.Size([4, 599, 256])\n",
            "Quantized output shape: torch.Size([4, 599, 256])\n",
            "Mask indices shape: torch.Size([4, 599])\n",
            "Number of masked positions: 1276\n",
            "Initial loss: 1.8117\n",
            "L2 loss: 16.9731\n",
            "Total loss: 1.9814\n"
          ]
        },
        {
          "output_type": "stream",
          "name": "stderr",
          "text": [
            "\rTraining:   0%|          | 1/250 [00:00<01:00,  4.14it/s]"
          ]
        },
        {
          "output_type": "stream",
          "name": "stdout",
          "text": [
            "Gradient norm: 5.9341\n",
            "Batch 0, Loss: 1.9814\n",
            "Batch 1, Loss: 1.9316\n"
          ]
        },
        {
          "output_type": "stream",
          "name": "stderr",
          "text": [
            "\rTraining:   1%|          | 3/250 [00:00<00:28,  8.52it/s]"
          ]
        },
        {
          "output_type": "stream",
          "name": "stdout",
          "text": [
            "Batch 2, Loss: 1.9190\n"
          ]
        },
        {
          "output_type": "stream",
          "name": "stderr",
          "text": [
            "\rTraining:   2%|▏         | 5/250 [00:00<00:23, 10.51it/s]"
          ]
        },
        {
          "output_type": "stream",
          "name": "stdout",
          "text": [
            "Batch 3, Loss: 1.9246\n",
            "Batch 4, Loss: 1.9973\n"
          ]
        },
        {
          "output_type": "stream",
          "name": "stderr",
          "text": [
            "Training: 100%|██████████| 250/250 [00:19<00:00, 12.99it/s]\n"
          ]
        },
        {
          "output_type": "stream",
          "name": "stdout",
          "text": [
            "Training Loss: 1.9087\n"
          ]
        },
        {
          "output_type": "stream",
          "name": "stderr",
          "text": [
            "Validation:   4%|▍         | 1/25 [00:00<00:03,  6.05it/s]"
          ]
        },
        {
          "output_type": "stream",
          "name": "stdout",
          "text": [
            "\n",
            "Validation batch shapes:\n",
            "Context output shape: torch.Size([4, 599, 256])\n",
            "Quantized output shape: torch.Size([4, 599, 256])\n",
            "Mask indices shape: torch.Size([4, 599])\n",
            "Number of masked positions: 1216\n",
            "First validation batch loss: 3.0733\n"
          ]
        },
        {
          "output_type": "stream",
          "name": "stderr",
          "text": [
            "Validation: 100%|██████████| 25/25 [00:00<00:00, 32.19it/s]\n"
          ]
        },
        {
          "output_type": "stream",
          "name": "stdout",
          "text": [
            "\n",
            "Validation stats:\n",
            "Total batches: 25\n",
            "Average loss: 3.3014\n",
            "Validation Loss: 3.3014\n",
            "\n",
            "Epoch 32/50\n"
          ]
        },
        {
          "output_type": "stream",
          "name": "stderr",
          "text": [
            "\rTraining:   0%|          | 0/250 [00:00<?, ?it/s]"
          ]
        },
        {
          "output_type": "stream",
          "name": "stdout",
          "text": [
            "\n",
            "Input audio shape: torch.Size([4, 48000])\n",
            "Context output shape: torch.Size([4, 599, 256])\n",
            "Quantized output shape: torch.Size([4, 599, 256])\n",
            "Mask indices shape: torch.Size([4, 599])\n",
            "Number of masked positions: 1120\n",
            "Initial loss: 1.7918\n",
            "L2 loss: 15.7460\n",
            "Total loss: 1.9492\n"
          ]
        },
        {
          "output_type": "stream",
          "name": "stderr",
          "text": [
            "\rTraining:   0%|          | 1/250 [00:00<00:58,  4.23it/s]"
          ]
        },
        {
          "output_type": "stream",
          "name": "stdout",
          "text": [
            "Gradient norm: 43.3786\n",
            "Batch 0, Loss: 1.9492\n",
            "Batch 1, Loss: 2.0218\n"
          ]
        },
        {
          "output_type": "stream",
          "name": "stderr",
          "text": [
            "\rTraining:   1%|          | 3/250 [00:00<00:29,  8.37it/s]"
          ]
        },
        {
          "output_type": "stream",
          "name": "stdout",
          "text": [
            "Batch 2, Loss: 2.1286\n"
          ]
        },
        {
          "output_type": "stream",
          "name": "stderr",
          "text": [
            "\rTraining:   2%|▏         | 5/250 [00:00<00:23, 10.35it/s]"
          ]
        },
        {
          "output_type": "stream",
          "name": "stdout",
          "text": [
            "Batch 3, Loss: 1.9913\n",
            "Batch 4, Loss: 1.9420\n"
          ]
        },
        {
          "output_type": "stream",
          "name": "stderr",
          "text": [
            "Training: 100%|██████████| 250/250 [00:19<00:00, 12.63it/s]\n"
          ]
        },
        {
          "output_type": "stream",
          "name": "stdout",
          "text": [
            "Training Loss: 1.8917\n"
          ]
        },
        {
          "output_type": "stream",
          "name": "stderr",
          "text": [
            "Validation:   4%|▍         | 1/25 [00:00<00:03,  6.83it/s]"
          ]
        },
        {
          "output_type": "stream",
          "name": "stdout",
          "text": [
            "\n",
            "Validation batch shapes:\n",
            "Context output shape: torch.Size([4, 599, 256])\n",
            "Quantized output shape: torch.Size([4, 599, 256])\n",
            "Mask indices shape: torch.Size([4, 599])\n",
            "Number of masked positions: 1152\n",
            "First validation batch loss: 5.0771\n"
          ]
        },
        {
          "output_type": "stream",
          "name": "stderr",
          "text": [
            "Validation: 100%|██████████| 25/25 [00:00<00:00, 32.07it/s]\n"
          ]
        },
        {
          "output_type": "stream",
          "name": "stdout",
          "text": [
            "\n",
            "Validation stats:\n",
            "Total batches: 25\n",
            "Average loss: 4.6879\n",
            "Validation Loss: 4.6879\n",
            "\n",
            "Epoch 33/50\n"
          ]
        },
        {
          "output_type": "stream",
          "name": "stderr",
          "text": [
            "\rTraining:   0%|          | 0/250 [00:00<?, ?it/s]"
          ]
        },
        {
          "output_type": "stream",
          "name": "stdout",
          "text": [
            "\n",
            "Input audio shape: torch.Size([4, 48000])\n",
            "Context output shape: torch.Size([4, 599, 256])\n",
            "Quantized output shape: torch.Size([4, 599, 256])\n",
            "Mask indices shape: torch.Size([4, 599])\n",
            "Number of masked positions: 1208\n",
            "Initial loss: 1.8820\n",
            "L2 loss: 14.5898\n",
            "Total loss: 2.0279\n"
          ]
        },
        {
          "output_type": "stream",
          "name": "stderr",
          "text": [
            "\rTraining:   0%|          | 1/250 [00:00<00:54,  4.57it/s]"
          ]
        },
        {
          "output_type": "stream",
          "name": "stdout",
          "text": [
            "Gradient norm: 18.3385\n",
            "Batch 0, Loss: 2.0279\n",
            "Batch 1, Loss: 1.9248\n"
          ]
        },
        {
          "output_type": "stream",
          "name": "stderr",
          "text": [
            "\rTraining:   1%|          | 3/250 [00:00<00:27,  9.01it/s]"
          ]
        },
        {
          "output_type": "stream",
          "name": "stdout",
          "text": [
            "Batch 2, Loss: 2.1145\n"
          ]
        },
        {
          "output_type": "stream",
          "name": "stderr",
          "text": [
            "\rTraining:   2%|▏         | 5/250 [00:00<00:22, 10.72it/s]"
          ]
        },
        {
          "output_type": "stream",
          "name": "stdout",
          "text": [
            "Batch 3, Loss: 1.9916\n",
            "Batch 4, Loss: 2.1061\n"
          ]
        },
        {
          "output_type": "stream",
          "name": "stderr",
          "text": [
            "Training: 100%|██████████| 250/250 [00:19<00:00, 12.96it/s]\n"
          ]
        },
        {
          "output_type": "stream",
          "name": "stdout",
          "text": [
            "Training Loss: 1.8827\n"
          ]
        },
        {
          "output_type": "stream",
          "name": "stderr",
          "text": [
            "Validation:   4%|▍         | 1/25 [00:00<00:03,  6.42it/s]"
          ]
        },
        {
          "output_type": "stream",
          "name": "stdout",
          "text": [
            "\n",
            "Validation batch shapes:\n",
            "Context output shape: torch.Size([4, 599, 256])\n",
            "Quantized output shape: torch.Size([4, 599, 256])\n",
            "Mask indices shape: torch.Size([4, 599])\n",
            "Number of masked positions: 1144\n",
            "First validation batch loss: 4.1023\n"
          ]
        },
        {
          "output_type": "stream",
          "name": "stderr",
          "text": [
            "Validation: 100%|██████████| 25/25 [00:00<00:00, 31.92it/s]\n"
          ]
        },
        {
          "output_type": "stream",
          "name": "stdout",
          "text": [
            "\n",
            "Validation stats:\n",
            "Total batches: 25\n",
            "Average loss: 4.4364\n",
            "Validation Loss: 4.4364\n",
            "\n",
            "Early stopping triggered after 33 epochs\n"
          ]
        }
      ],
      "source": [
        "# Start training\n",
        "trainer.train(num_epochs=50)  # Will stop early if no improvement"
      ]
    },
    {
      "cell_type": "markdown",
      "metadata": {
        "id": "xGiPA3EhVreL"
      },
      "source": [
        "## 7. Visualize Training Results"
      ]
    },
    {
      "cell_type": "code",
      "execution_count": 135,
      "metadata": {
        "colab": {
          "base_uri": "https://localhost:8080/",
          "height": 711
        },
        "id": "IR9a2A5zVreM",
        "outputId": "ec1312a6-ef34-41ad-f592-c8a3706f3625"
      },
      "outputs": [
        {
          "output_type": "display_data",
          "data": {
            "text/plain": [
              "<Figure size 1200x800 with 2 Axes>"
            ],
            "image/png": "[encoded data removed]"
          },
          "metadata": {}
        }
      ],
      "source": [
        "# Plot final training metrics\n",
        "plt.figure(figsize=(12, 8))\n",
        "\n",
        "# Plot losses\n",
        "plt.subplot(2, 1, 1)\n",
        "plt.plot(trainer.train_losses, label='Train Loss')\n",
        "plt.plot(trainer.val_losses, label='Validation Loss')\n",
        "plt.title('Training and Validation Losses')\n",
        "plt.xlabel('Epoch')\n",
        "plt.ylabel('Loss')\n",
        "plt.legend()\n",
        "\n",
        "# Plot learning rate\n",
        "plt.subplot(2, 1, 2)\n",
        "plt.plot(trainer.learning_rates, label='Learning Rate')\n",
        "plt.title('Learning Rate Schedule')\n",
        "plt.xlabel('Step')\n",
        "plt.ylabel('Learning Rate')\n",
        "plt.legend()\n",
        "\n",
        "plt.tight_layout()\n",
        "plt.show()"
      ]
    },
    {
      "cell_type": "code",
      "source": [],
      "metadata": {
        "id": "UP0LNnBvjvA_"
      },
      "execution_count": null,
      "outputs": []
    }
  ],
  "metadata": {
    "kernelspec": {
      "display_name": "Python 3",
      "name": "python3"
    },
    "language_info": {
      "codemirror_mode": {
        "name": "ipython",
        "version": 3
      },
      "file_extension": ".py",
      "mimetype": "text/x-python",
      "name": "python",
      "nbconvert_exporter": "python",
      "pygments_lexer": "ipython3",
      "version": "3.8.0"
    },
    "colab": {
      "provenance": [],
      "gpuType": "T4"
    },
    "accelerator": "GPU"
  },
  "nbformat": 4,
  "nbformat_minor": 0
}